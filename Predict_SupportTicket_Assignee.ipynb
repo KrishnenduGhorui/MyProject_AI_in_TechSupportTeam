{
 "cells": [
  {
   "cell_type": "code",
   "execution_count": 1,
   "metadata": {
    "id": "f4IG8OnRFbkr"
   },
   "outputs": [],
   "source": [
    "import numpy as np\n",
    "import pandas as pd\n",
    "import matplotlib.pyplot as plt\n",
    "import seaborn as sns\n",
    "import re\n",
    "import nltk"
   ]
  },
  {
   "cell_type": "markdown",
   "metadata": {
    "id": "0d157eac6ecc4c7e822cd02005c937ef"
   },
   "source": [
    "## Data Collection "
   ]
  },
  {
   "cell_type": "code",
   "execution_count": 2,
   "metadata": {
    "colab": {
     "base_uri": "https://localhost:8080/",
     "height": 389
    },
    "id": "RDH6LZ_dIZa2",
    "outputId": "e63f5801-4991-43cd-d68c-9e24d2786c06"
   },
   "outputs": [
    {
     "name": "stdout",
     "output_type": "stream",
     "text": [
      "(997, 329)\n",
      "(1000, 341)\n",
      "(963, 350)\n",
      "(963, 312)\n",
      "(529, 294)\n",
      "(244, 299)\n"
     ]
    }
   ],
   "source": [
    "df1=pd.read_csv('CEDP Jira 2021-01-01--2021-03-25.csv')\n",
    "df2=pd.read_csv('CEDP Jira 2021-03-25--2021-05-31.csv')\n",
    "df3=pd.read_csv('CEDP Jira 2021-06-01--2021-08-15.csv')\n",
    "df4=pd.read_csv('CEDP Jira 2021-08-16--2021-10-25 .csv')\n",
    "df5=pd.read_csv('CEDP Jira 2021-10-26--2021-12-03.csv')\n",
    "df6=pd.read_csv('CEDP Jira 2021-12-04--2021-12-31.csv')\n",
    "\n",
    "print(df1.shape)\n",
    "print(df2.shape)\n",
    "print(df3.shape)\n",
    "print(df4.shape)\n",
    "print(df5.shape)\n",
    "print(df6.shape)"
   ]
  },
  {
   "cell_type": "code",
   "execution_count": 3,
   "metadata": {
    "id": "3394ac1c0a67435194f8889353b1e1c3"
   },
   "outputs": [
    {
     "data": {
      "text/plain": [
       "Index(['Summary', 'Issue key', 'Issue id', 'Issue Type', 'Status',\n",
       "       'Project key', 'Project name', 'Project type', 'Project lead',\n",
       "       'Project description',\n",
       "       ...\n",
       "       'Comment.57', 'Comment.58', 'Comment.59', 'Comment.60', 'Comment.61',\n",
       "       'Comment.62', 'Comment.63', 'Comment.64', 'Comment.65', 'Comment.66'],\n",
       "      dtype='object', length=329)"
      ]
     },
     "execution_count": 3,
     "metadata": {},
     "output_type": "execute_result"
    }
   ],
   "source": [
    "df1.columns"
   ]
  },
  {
   "cell_type": "code",
   "execution_count": 4,
   "metadata": {
    "id": "ab210982109e4b1e857921b6d931d1b3"
   },
   "outputs": [
    {
     "name": "stdout",
     "output_type": "stream",
     "text": [
      "(997, 6)\n",
      "(1000, 6)\n",
      "(963, 6)\n",
      "(963, 6)\n",
      "(529, 6)\n",
      "(244, 6)\n"
     ]
    }
   ],
   "source": [
    "cols_required=['Summary','Issue Type','Assignee','Component/s','Labels','Description']\n",
    "df1=df1[cols_required]\n",
    "df2=df2[cols_required]\n",
    "df3=df3[cols_required]\n",
    "df4=df4[cols_required]\n",
    "df5=df5[cols_required]\n",
    "df6=df6[cols_required]\n",
    "\n",
    "print(df1.shape)\n",
    "print(df2.shape)\n",
    "print(df3.shape)\n",
    "print(df4.shape)\n",
    "print(df5.shape)\n",
    "print(df6.shape)"
   ]
  },
  {
   "cell_type": "code",
   "execution_count": 5,
   "metadata": {
    "id": "aebf1c3011e143fc9b2ed5dd9c4fb65f"
   },
   "outputs": [
    {
     "name": "stdout",
     "output_type": "stream",
     "text": [
      "Shape of dataframe :  (4696, 6)\n"
     ]
    },
    {
     "data": {
      "text/html": [
       "<div>\n",
       "<style scoped>\n",
       "    .dataframe tbody tr th:only-of-type {\n",
       "        vertical-align: middle;\n",
       "    }\n",
       "\n",
       "    .dataframe tbody tr th {\n",
       "        vertical-align: top;\n",
       "    }\n",
       "\n",
       "    .dataframe thead th {\n",
       "        text-align: right;\n",
       "    }\n",
       "</style>\n",
       "<table border=\"1\" class=\"dataframe\">\n",
       "  <thead>\n",
       "    <tr style=\"text-align: right;\">\n",
       "      <th></th>\n",
       "      <th>Summary</th>\n",
       "      <th>Issue Type</th>\n",
       "      <th>Component/s</th>\n",
       "      <th>Labels</th>\n",
       "      <th>Description</th>\n",
       "    </tr>\n",
       "  </thead>\n",
       "  <tbody>\n",
       "    <tr>\n",
       "      <th>0</th>\n",
       "      <td>Deadlock on table view</td>\n",
       "      <td>Incident</td>\n",
       "      <td>User Zones - BigSQL HDFS Issue</td>\n",
       "      <td>User_Zones_BigSQL/HDFS</td>\n",
       "      <td>Hi! deadlock on Landing Zone PIQTELCO_TELCO.CD...</td>\n",
       "    </tr>\n",
       "    <tr>\n",
       "      <th>1</th>\n",
       "      <td>One ERDM table missing GSA and COS files</td>\n",
       "      <td>Incident</td>\n",
       "      <td>ERDM Issue</td>\n",
       "      <td>ERDM</td>\n",
       "      <td>ERDM table REFT_OFFERING_GTM_STATUS is missing...</td>\n",
       "    </tr>\n",
       "    <tr>\n",
       "      <th>2</th>\n",
       "      <td>Requesting Read Access to the CloudOps COS ins...</td>\n",
       "      <td>Service Request</td>\n",
       "      <td>CEDP Cloud operations</td>\n",
       "      <td>NaN</td>\n",
       "      <td>Hi, I am part of the DataOps team and requesti...</td>\n",
       "    </tr>\n",
       "    <tr>\n",
       "      <th>3</th>\n",
       "      <td>Requesting access to CloudOps Bucket for DataO...</td>\n",
       "      <td>Service Request</td>\n",
       "      <td>CEDP Cloud operations</td>\n",
       "      <td>NaN</td>\n",
       "      <td>Requesting access to the CloudOps bucket for t...</td>\n",
       "    </tr>\n",
       "    <tr>\n",
       "      <th>4</th>\n",
       "      <td>Need a DB2 instance for ERDM on production acc...</td>\n",
       "      <td>Service Request</td>\n",
       "      <td>CEDP Cloud operations</td>\n",
       "      <td>NaN</td>\n",
       "      <td>account 2097266 CEDP - Cloud Compute Prod\\r\\nR...</td>\n",
       "    </tr>\n",
       "  </tbody>\n",
       "</table>\n",
       "</div>"
      ],
      "text/plain": [
       "                                             Summary       Issue Type  \\\n",
       "0                             Deadlock on table view         Incident   \n",
       "1           One ERDM table missing GSA and COS files         Incident   \n",
       "2  Requesting Read Access to the CloudOps COS ins...  Service Request   \n",
       "3  Requesting access to CloudOps Bucket for DataO...  Service Request   \n",
       "4  Need a DB2 instance for ERDM on production acc...  Service Request   \n",
       "\n",
       "                      Component/s                  Labels  \\\n",
       "0  User Zones - BigSQL HDFS Issue  User_Zones_BigSQL/HDFS   \n",
       "1                      ERDM Issue                    ERDM   \n",
       "2           CEDP Cloud operations                     NaN   \n",
       "3           CEDP Cloud operations                     NaN   \n",
       "4           CEDP Cloud operations                     NaN   \n",
       "\n",
       "                                         Description  \n",
       "0  Hi! deadlock on Landing Zone PIQTELCO_TELCO.CD...  \n",
       "1  ERDM table REFT_OFFERING_GTM_STATUS is missing...  \n",
       "2  Hi, I am part of the DataOps team and requesti...  \n",
       "3  Requesting access to the CloudOps bucket for t...  \n",
       "4  account 2097266 CEDP - Cloud Compute Prod\\r\\nR...  "
      ]
     },
     "execution_count": 5,
     "metadata": {},
     "output_type": "execute_result"
    }
   ],
   "source": [
    "df_ticket=pd.concat([df1,df2,df3,df4,df5,df6],ignore_index=True)\n",
    "print('Shape of dataframe : ',df_ticket.shape)\n",
    "\n",
    "# Showing dataset hiding one columns 'assignee' as it contains personal ID , that is like personal information  \n",
    "df_ticket.loc[:,df_ticket.columns!='Assignee'].head()"
   ]
  },
  {
   "cell_type": "code",
   "execution_count": 6,
   "metadata": {},
   "outputs": [
    {
     "name": "stdout",
     "output_type": "stream",
     "text": [
      "Working Assignee team names in support project - \n",
      " Index(['Leader', 'L1', 'L2', 'Governance', 'Datastage', 'CloudOps', 'Infra',\n",
      "       'Cp4d', 'K8', 'ERDM', 'Gov_Kyndryl', 'DataDiscovery', 'Others'],\n",
      "      dtype='object')\n"
     ]
    }
   ],
   "source": [
    "# Getting data with personal ID and working team name ID belongs to, data can't be displayed as it is personal informtaion\n",
    "Members_AssigneeTeam=pd.read_csv('Members_AssigneeTeam.csv')\n",
    "\n",
    "Members_AssigneeTeam.drop(columns=['Unnamed: 0'],inplace=True)\n",
    "print('Working Assignee team names in support project - \\n',Members_AssigneeTeam.columns)"
   ]
  },
  {
   "cell_type": "code",
   "execution_count": 7,
   "metadata": {
    "id": "3beffbfb730c407faf368c4f16bfd332"
   },
   "outputs": [
    {
     "data": {
      "text/plain": [
       "Index(['Summary', 'Issue_Type', 'Assignee', 'Component/s', 'Labels',\n",
       "       'Description'],\n",
       "      dtype='object')"
      ]
     },
     "execution_count": 7,
     "metadata": {},
     "output_type": "execute_result"
    }
   ],
   "source": [
    "df_ticket.rename(columns={'Issue Type':'Issue_Type'},inplace=True)\n",
    "df_ticket.columns"
   ]
  },
  {
   "cell_type": "code",
   "execution_count": 8,
   "metadata": {
    "colab": {
     "base_uri": "https://localhost:8080/"
    },
    "id": "tyYqZ6ytIZS2",
    "outputId": "f36baf2b-9d13-49e4-805f-02a08aa17c05"
   },
   "outputs": [
    {
     "name": "stdout",
     "output_type": "stream",
     "text": [
      "<class 'pandas.core.frame.DataFrame'>\n",
      "RangeIndex: 4696 entries, 0 to 4695\n",
      "Data columns (total 6 columns):\n",
      " #   Column       Non-Null Count  Dtype \n",
      "---  ------       --------------  ----- \n",
      " 0   Summary      4696 non-null   object\n",
      " 1   Issue_Type   4696 non-null   object\n",
      " 2   Assignee     4696 non-null   object\n",
      " 3   Component/s  4683 non-null   object\n",
      " 4   Labels       3876 non-null   object\n",
      " 5   Description  4355 non-null   object\n",
      "dtypes: object(6)\n",
      "memory usage: 220.2+ KB\n"
     ]
    }
   ],
   "source": [
    "df_ticket.info()"
   ]
  },
  {
   "cell_type": "markdown",
   "metadata": {
    "id": "35a33d557b94479d802943d2d238fc14"
   },
   "source": [
    "###### So, here all columns are object type, means string type "
   ]
  },
  {
   "cell_type": "markdown",
   "metadata": {
    "id": "a63908ddce3d41d5ab086456cfe915d9"
   },
   "source": [
    "## Data preprocessing"
   ]
  },
  {
   "cell_type": "markdown",
   "metadata": {
    "id": "c39MHuGLMK6H"
   },
   "source": [
    "### Missing value handling "
   ]
  },
  {
   "cell_type": "code",
   "execution_count": 9,
   "metadata": {
    "id": "e7a8e486b2f54784824e79034561c4bf"
   },
   "outputs": [
    {
     "name": "stdout",
     "output_type": "stream",
     "text": [
      "Summary          0\n",
      "Issue_Type       0\n",
      "Assignee         0\n",
      "Component/s     13\n",
      "Labels         820\n",
      "Description    341\n",
      "dtype: int64\n",
      "************\n",
      "Summary         0.000000\n",
      "Issue_Type      0.000000\n",
      "Assignee        0.000000\n",
      "Component/s     0.276831\n",
      "Labels         17.461670\n",
      "Description     7.261499\n",
      "dtype: float64\n"
     ]
    }
   ],
   "source": [
    "print(df_ticket.isnull().sum())\n",
    "print('************')\n",
    "print(df_ticket.isnull().mean()*100)"
   ]
  },
  {
   "cell_type": "code",
   "execution_count": 10,
   "metadata": {
    "id": "2555c1a05e1c4459be0bfd1472fed270"
   },
   "outputs": [
    {
     "data": {
      "text/plain": [
       "CEDP Cloud operations                      812\n",
       "Catalog a Database on DataStage Request      2\n",
       "CEDP Access Request                          1\n",
       "DB2W Access Request                          1\n",
       "CEDP Learning Portfolio                      1\n",
       "Functional ID Access Request                 1\n",
       "Name: Component/s, dtype: int64"
      ]
     },
     "execution_count": 10,
     "metadata": {},
     "output_type": "execute_result"
    }
   ],
   "source": [
    "df_ticket[df_ticket.Labels.isnull()]['Component/s'].value_counts()"
   ]
  },
  {
   "cell_type": "code",
   "execution_count": 11,
   "metadata": {
    "id": "ec3b64787f96489cac8d3e097b97b03c"
   },
   "outputs": [
    {
     "data": {
      "text/plain": [
       "Summary          0\n",
       "Issue_Type       0\n",
       "Assignee         0\n",
       "Component/s      0\n",
       "Labels         812\n",
       "Description     52\n",
       "dtype: int64"
      ]
     },
     "execution_count": 11,
     "metadata": {},
     "output_type": "execute_result"
    }
   ],
   "source": [
    "df_ticket[df_ticket['Component/s']=='CEDP Cloud operations'].isnull().sum()"
   ]
  },
  {
   "cell_type": "markdown",
   "metadata": {
    "id": "23bece42b3c44dbb8f1de61ffb9b8414"
   },
   "source": [
    "#### So, out of 820 Label missing , 812 is for component 'CEDP Cloud operations'"
   ]
  },
  {
   "cell_type": "code",
   "execution_count": 12,
   "metadata": {
    "colab": {
     "base_uri": "https://localhost:8080/"
    },
    "id": "95cUw8qUG6eA",
    "outputId": "7edca9d4-13ec-45a3-a2d4-588f5ad959e0"
   },
   "outputs": [
    {
     "data": {
      "text/plain": [
       "access                338\n",
       "COS                    86\n",
       "Bluefringe             46\n",
       "NewCo                  40\n",
       "kyndryl                31\n",
       "DB2                    15\n",
       "DB2WoC                 14\n",
       "Kubernetes             12\n",
       "firewall               11\n",
       "logdna                 11\n",
       "Access                  7\n",
       "Support_bot             6\n",
       "postgres                6\n",
       "DB2W                    5\n",
       "SQL_Query               5\n",
       "redis                   4\n",
       "Billing                 4\n",
       "k8s                     4\n",
       "openshift               4\n",
       "Watson_Studio           4\n",
       "Non_Support             4\n",
       "Container_Registry      3\n",
       "ElasticSearch           3\n",
       "AppID                   3\n",
       "kubernetes              3\n",
       "CICD                    3\n",
       "sysdig                  2\n",
       "Cloudant                2\n",
       "Kafka                   2\n",
       "DB2WOC                  2\n",
       "Automation              1\n",
       "DataStage               1\n",
       "support                 1\n",
       "acess                   1\n",
       "Namespaces              1\n",
       "pvc                     1\n",
       "cr                      1\n",
       "toolchain               1\n",
       "VFA                     1\n",
       "mongodb                 1\n",
       "Service_ID              1\n",
       "VM                      1\n",
       "EventStreams            1\n",
       "Audit                   1\n",
       "Secrets_Manager         1\n",
       "Watson_Discovery        1\n",
       "Watson_Open_Scale       1\n",
       "datastage               1\n",
       "Name: Labels, dtype: int64"
      ]
     },
     "execution_count": 12,
     "metadata": {},
     "output_type": "execute_result"
    }
   ],
   "source": [
    "df_ticket[df_ticket['Component/s']=='CEDP Cloud operations']['Labels'].value_counts()"
   ]
  },
  {
   "cell_type": "code",
   "execution_count": 13,
   "metadata": {
    "id": "b75f709673ba45468e00b05bb85e33ff"
   },
   "outputs": [
    {
     "data": {
      "text/plain": [
       "Int64Index([668, 1066, 1067, 1583, 1744, 2570, 2814, 3506], dtype='int64')"
      ]
     },
     "execution_count": 13,
     "metadata": {},
     "output_type": "execute_result"
    }
   ],
   "source": [
    "Srs_LblNanCmpntNtCld=df_ticket[~(df_ticket['Component/s']=='CEDP Cloud operations')]['Labels'].isnull()\n",
    "indxs_LblNanCmpntNtCld=Srs_LblNanCmpntNtCld[Srs_LblNanCmpntNtCld].index\n",
    "indxs_LblNanCmpntNtCld"
   ]
  },
  {
   "cell_type": "code",
   "execution_count": 14,
   "metadata": {
    "id": "787cf72d7e00491e86c697460f77dd23"
   },
   "outputs": [
    {
     "data": {
      "text/plain": [
       "668                         CEDP Access Request\n",
       "1066    Catalog a Database on DataStage Request\n",
       "1067    Catalog a Database on DataStage Request\n",
       "1583                                        NaN\n",
       "1744                                        NaN\n",
       "2570                        DB2W Access Request\n",
       "2814                    CEDP Learning Portfolio\n",
       "3506               Functional ID Access Request\n",
       "Name: Component/s, dtype: object"
      ]
     },
     "execution_count": 14,
     "metadata": {},
     "output_type": "execute_result"
    }
   ],
   "source": [
    "df_ticket.loc[indxs_LblNanCmpntNtCld]['Component/s']"
   ]
  },
  {
   "cell_type": "code",
   "execution_count": 15,
   "metadata": {
    "id": "b35abb1d2ce6482c9e7be8f68131be52"
   },
   "outputs": [
    {
     "name": "stdout",
     "output_type": "stream",
     "text": [
      "Access\n"
     ]
    }
   ],
   "source": [
    "# Manually checked correct Label that should be, for those missing labels and imputed \n",
    "\n",
    "df_ticket.loc[668]['Labels']='Access'\n",
    "df_ticket.loc[1066]['Labels']='On-Boarding'\n",
    "df_ticket.loc[1067]['Labels']='On-Boarding'\n",
    "df_ticket.loc[2570]['Labels']='Access'\n",
    "df_ticket.loc[2814]['Labels']='Access'\n",
    "df_ticket.loc[3506]['Labels']='Access'\n",
    "\n",
    "#Just checking one ,whether it's done correctly\n",
    "\n",
    "print(df_ticket.loc[668]['Labels'])"
   ]
  },
  {
   "cell_type": "code",
   "execution_count": 16,
   "metadata": {
    "colab": {
     "base_uri": "https://localhost:8080/"
    },
    "id": "NNM85SplIjP6",
    "outputId": "bb2d91b8-af92-4d58-ca22-753716ce27ed"
   },
   "outputs": [
    {
     "data": {
      "text/plain": [
       "(4696, 6)"
      ]
     },
     "execution_count": 16,
     "metadata": {},
     "output_type": "execute_result"
    }
   ],
   "source": [
    "df_ticket.shape"
   ]
  },
  {
   "cell_type": "code",
   "execution_count": 17,
   "metadata": {
    "id": "b1a3b4fb080147c286c3028c810b9e6e"
   },
   "outputs": [
    {
     "data": {
      "text/plain": [
       "CEDP Cloud operations    812\n",
       "Name: Component/s, dtype: int64"
      ]
     },
     "execution_count": 17,
     "metadata": {},
     "output_type": "execute_result"
    }
   ],
   "source": [
    "df_ticket[df_ticket['Labels'].isnull()]['Component/s'].value_counts()"
   ]
  },
  {
   "cell_type": "code",
   "execution_count": 18,
   "metadata": {
    "colab": {
     "base_uri": "https://localhost:8080/"
    },
    "id": "iY4EVAKBIsrN",
    "outputId": "57a97987-dc16-44c6-d7a9-f7f33f55a85b"
   },
   "outputs": [
    {
     "data": {
      "text/plain": [
       "array(['CEDP Cloud operations', nan], dtype=object)"
      ]
     },
     "execution_count": 18,
     "metadata": {},
     "output_type": "execute_result"
    }
   ],
   "source": [
    "df_ticket[df_ticket['Labels'].isnull()]['Component/s'].unique()"
   ]
  },
  {
   "cell_type": "markdown",
   "metadata": {
    "id": "f8145b18766a43ad8d6867f3b46d857d"
   },
   "source": [
    "#### So, now all records having missing label is for Component 'CEDP Cloud operations', so we can impute missing label by new label 'CloudOther'"
   ]
  },
  {
   "cell_type": "code",
   "execution_count": 19,
   "metadata": {
    "id": "qK_RruMeJMm3"
   },
   "outputs": [],
   "source": [
    "df_ticket.Labels.fillna('CloudOther',inplace=True)"
   ]
  },
  {
   "cell_type": "code",
   "execution_count": 20,
   "metadata": {
    "colab": {
     "base_uri": "https://localhost:8080/"
    },
    "id": "TjBxeb_dKxdk",
    "outputId": "efa176fe-b919-444c-c43d-fc9277a13554"
   },
   "outputs": [
    {
     "data": {
      "text/plain": [
       "Summary          0\n",
       "Issue_Type       0\n",
       "Assignee         0\n",
       "Component/s     13\n",
       "Labels           0\n",
       "Description    341\n",
       "dtype: int64"
      ]
     },
     "execution_count": 20,
     "metadata": {},
     "output_type": "execute_result"
    }
   ],
   "source": [
    "df_ticket.isnull().sum()"
   ]
  },
  {
   "cell_type": "code",
   "execution_count": 21,
   "metadata": {
    "id": "87151ce0e3bc4bba83a272da631ebd1d"
   },
   "outputs": [
    {
     "data": {
      "text/plain": [
       "array(['Question', 'Support_bot', 'CloudOther', 'Non_Support', 'Access'],\n",
       "      dtype=object)"
      ]
     },
     "execution_count": 21,
     "metadata": {},
     "output_type": "execute_result"
    }
   ],
   "source": [
    "df_ticket[df_ticket['Component/s'].isnull()]['Labels'].unique()"
   ]
  },
  {
   "cell_type": "markdown",
   "metadata": {
    "id": "fa1e5d839d9945baa299bb941ab9f38c"
   },
   "source": [
    "##### from labels for records having missing component, it is not possible to get component correctly as suggested by subject expert "
   ]
  },
  {
   "cell_type": "code",
   "execution_count": 22,
   "metadata": {
    "id": "5z3kDZHsK6X4"
   },
   "outputs": [
    {
     "name": "stdout",
     "output_type": "stream",
     "text": [
      "(4683, 6)\n"
     ]
    },
    {
     "data": {
      "text/plain": [
       "Summary          0\n",
       "Issue_Type       0\n",
       "Assignee         0\n",
       "Component/s      0\n",
       "Labels           0\n",
       "Description    341\n",
       "dtype: int64"
      ]
     },
     "execution_count": 22,
     "metadata": {},
     "output_type": "execute_result"
    }
   ],
   "source": [
    "# Dropping all records having missing Component/s value\n",
    "\n",
    "df_ticket.dropna(subset=['Component/s'],inplace=True)\n",
    "\n",
    "print(df_ticket.shape)\n",
    "df_ticket.isnull().sum()"
   ]
  },
  {
   "cell_type": "code",
   "execution_count": 23,
   "metadata": {
    "id": "4vsYWCkuLhCw"
   },
   "outputs": [
    {
     "data": {
      "text/plain": [
       "Summary        0\n",
       "Issue_Type     0\n",
       "Assignee       0\n",
       "Component/s    0\n",
       "Labels         0\n",
       "Description    0\n",
       "dtype: int64"
      ]
     },
     "execution_count": 23,
     "metadata": {},
     "output_type": "execute_result"
    }
   ],
   "source": [
    "# Filling missing Description by string 'NonProvided'\n",
    "\n",
    "df_ticket['Description'].fillna('NonProvided',inplace=True)\n",
    "\n",
    "df_ticket.isnull().sum()"
   ]
  },
  {
   "cell_type": "code",
   "execution_count": 24,
   "metadata": {
    "id": "7KCbgI4OMeCw"
   },
   "outputs": [],
   "source": [
    "# Reseting index as index may not be consecutive because of some record drop\n",
    "df_ticket.reset_index(drop=True,inplace=True)"
   ]
  },
  {
   "cell_type": "code",
   "execution_count": 25,
   "metadata": {
    "id": "bacea05d21ec4bf987e30f6f3474f78c"
   },
   "outputs": [
    {
     "name": "stderr",
     "output_type": "stream",
     "text": [
      "C:\\Users\\KRISHN~1\\AppData\\Local\\Temp/ipykernel_8980/100560177.py:1: DeprecationWarning: The default dtype for empty Series will be 'object' instead of 'float64' in a future version. Specify a dtype explicitly to silence this warning.\n",
      "  df_ticket['AssigneeTeam']=pd.Series([])\n"
     ]
    }
   ],
   "source": [
    "df_ticket['AssigneeTeam']=pd.Series([])"
   ]
  },
  {
   "cell_type": "code",
   "execution_count": 26,
   "metadata": {
    "id": "cd479f46f3b546cd805f9b774fa5c1a0"
   },
   "outputs": [
    {
     "name": "stderr",
     "output_type": "stream",
     "text": [
      "C:\\Users\\KRISHN~1\\AppData\\Local\\Temp/ipykernel_8980/1485083427.py:6: SettingWithCopyWarning: \n",
      "A value is trying to be set on a copy of a slice from a DataFrame\n",
      "\n",
      "See the caveats in the documentation: https://pandas.pydata.org/pandas-docs/stable/user_guide/indexing.html#returning-a-view-versus-a-copy\n",
      "  df_ticket.AssigneeTeam[indx]=(Members_AssigneeTeam.columns[colId])\n",
      "C:\\Users\\KrishnenduGhorui\\Anaconda3\\lib\\site-packages\\pandas\\core\\indexing.py:1732: SettingWithCopyWarning: \n",
      "A value is trying to be set on a copy of a slice from a DataFrame\n",
      "\n",
      "See the caveats in the documentation: https://pandas.pydata.org/pandas-docs/stable/user_guide/indexing.html#returning-a-view-versus-a-copy\n",
      "  self._setitem_single_block(indexer, value, name)\n"
     ]
    }
   ],
   "source": [
    "# Getting AssigneeTeam name from individual ID of Assignee , as for a particular type of ticket,this is required because individual assignee may change with time but AssigneeTeam name will not \n",
    "\n",
    "for indx in range(df_ticket.shape[0]):\n",
    "    for colId in range(len(Members_AssigneeTeam.columns)):\n",
    "        if df_ticket.Assignee[indx] in list(Members_AssigneeTeam.iloc[:,colId]):\n",
    "            df_ticket.AssigneeTeam[indx]=(Members_AssigneeTeam.columns[colId])"
   ]
  },
  {
   "cell_type": "code",
   "execution_count": 27,
   "metadata": {
    "colab": {
     "base_uri": "https://localhost:8080/",
     "height": 337
    },
    "id": "vAZtX7XCIZAi",
    "outputId": "03e50722-6679-4afa-fde0-0f136a86ee95"
   },
   "outputs": [
    {
     "data": {
      "text/html": [
       "<div>\n",
       "<style scoped>\n",
       "    .dataframe tbody tr th:only-of-type {\n",
       "        vertical-align: middle;\n",
       "    }\n",
       "\n",
       "    .dataframe tbody tr th {\n",
       "        vertical-align: top;\n",
       "    }\n",
       "\n",
       "    .dataframe thead th {\n",
       "        text-align: right;\n",
       "    }\n",
       "</style>\n",
       "<table border=\"1\" class=\"dataframe\">\n",
       "  <thead>\n",
       "    <tr style=\"text-align: right;\">\n",
       "      <th></th>\n",
       "      <th>Summary</th>\n",
       "      <th>Issue_Type</th>\n",
       "      <th>Assignee</th>\n",
       "      <th>Component/s</th>\n",
       "      <th>Labels</th>\n",
       "      <th>Description</th>\n",
       "      <th>AssigneeTeam</th>\n",
       "    </tr>\n",
       "  </thead>\n",
       "  <tbody>\n",
       "    <tr>\n",
       "      <th>0</th>\n",
       "      <td>Deadlock on table view</td>\n",
       "      <td>Incident</td>\n",
       "      <td>manimoha@in.ibm.com</td>\n",
       "      <td>User Zones - BigSQL HDFS Issue</td>\n",
       "      <td>User_Zones_BigSQL/HDFS</td>\n",
       "      <td>Hi! deadlock on Landing Zone PIQTELCO_TELCO.CD...</td>\n",
       "      <td>L1</td>\n",
       "    </tr>\n",
       "    <tr>\n",
       "      <th>1</th>\n",
       "      <td>One ERDM table missing GSA and COS files</td>\n",
       "      <td>Incident</td>\n",
       "      <td>vivekpan@in.ibm.com</td>\n",
       "      <td>ERDM Issue</td>\n",
       "      <td>ERDM</td>\n",
       "      <td>ERDM table REFT_OFFERING_GTM_STATUS is missing...</td>\n",
       "      <td>ERDM</td>\n",
       "    </tr>\n",
       "  </tbody>\n",
       "</table>\n",
       "</div>"
      ],
      "text/plain": [
       "                                    Summary Issue_Type             Assignee  \\\n",
       "0                    Deadlock on table view   Incident  manimoha@in.ibm.com   \n",
       "1  One ERDM table missing GSA and COS files   Incident  vivekpan@in.ibm.com   \n",
       "\n",
       "                      Component/s                  Labels  \\\n",
       "0  User Zones - BigSQL HDFS Issue  User_Zones_BigSQL/HDFS   \n",
       "1                      ERDM Issue                    ERDM   \n",
       "\n",
       "                                         Description AssigneeTeam  \n",
       "0  Hi! deadlock on Landing Zone PIQTELCO_TELCO.CD...           L1  \n",
       "1  ERDM table REFT_OFFERING_GTM_STATUS is missing...         ERDM  "
      ]
     },
     "execution_count": 27,
     "metadata": {},
     "output_type": "execute_result"
    }
   ],
   "source": [
    "df_ticket.head(2)"
   ]
  },
  {
   "cell_type": "code",
   "execution_count": 28,
   "metadata": {
    "id": "1b7a383ad6dd4e018ccf5073d215f775"
   },
   "outputs": [
    {
     "data": {
      "text/plain": [
       "array(['L1', 'ERDM', 'CloudOps', 'Governance', 'L2', 'Datastage', 'Infra',\n",
       "       'DataDiscovery', 'Others', 'K8', 'Cp4d', 'Leader', 'Gov_Kyndryl'],\n",
       "      dtype=object)"
      ]
     },
     "execution_count": 28,
     "metadata": {},
     "output_type": "execute_result"
    }
   ],
   "source": [
    "df_ticket.AssigneeTeam.unique()   # It confirms Assignee teams mapping is done correctly"
   ]
  },
  {
   "cell_type": "code",
   "execution_count": 29,
   "metadata": {
    "id": "3642cc1db7154718bfc7014824e8f0b8"
   },
   "outputs": [
    {
     "data": {
      "text/html": [
       "<div>\n",
       "<style scoped>\n",
       "    .dataframe tbody tr th:only-of-type {\n",
       "        vertical-align: middle;\n",
       "    }\n",
       "\n",
       "    .dataframe tbody tr th {\n",
       "        vertical-align: top;\n",
       "    }\n",
       "\n",
       "    .dataframe thead th {\n",
       "        text-align: right;\n",
       "    }\n",
       "</style>\n",
       "<table border=\"1\" class=\"dataframe\">\n",
       "  <thead>\n",
       "    <tr style=\"text-align: right;\">\n",
       "      <th></th>\n",
       "      <th>Summary</th>\n",
       "      <th>Issue_Type</th>\n",
       "      <th>Component/s</th>\n",
       "      <th>Labels</th>\n",
       "      <th>Description</th>\n",
       "      <th>AssigneeTeam</th>\n",
       "    </tr>\n",
       "  </thead>\n",
       "  <tbody>\n",
       "    <tr>\n",
       "      <th>0</th>\n",
       "      <td>Deadlock on table view</td>\n",
       "      <td>Incident</td>\n",
       "      <td>User Zones - BigSQL HDFS Issue</td>\n",
       "      <td>User_Zones_BigSQL/HDFS</td>\n",
       "      <td>Hi! deadlock on Landing Zone PIQTELCO_TELCO.CD...</td>\n",
       "      <td>L1</td>\n",
       "    </tr>\n",
       "    <tr>\n",
       "      <th>1</th>\n",
       "      <td>One ERDM table missing GSA and COS files</td>\n",
       "      <td>Incident</td>\n",
       "      <td>ERDM Issue</td>\n",
       "      <td>ERDM</td>\n",
       "      <td>ERDM table REFT_OFFERING_GTM_STATUS is missing...</td>\n",
       "      <td>ERDM</td>\n",
       "    </tr>\n",
       "  </tbody>\n",
       "</table>\n",
       "</div>"
      ],
      "text/plain": [
       "                                    Summary Issue_Type  \\\n",
       "0                    Deadlock on table view   Incident   \n",
       "1  One ERDM table missing GSA and COS files   Incident   \n",
       "\n",
       "                      Component/s                  Labels  \\\n",
       "0  User Zones - BigSQL HDFS Issue  User_Zones_BigSQL/HDFS   \n",
       "1                      ERDM Issue                    ERDM   \n",
       "\n",
       "                                         Description AssigneeTeam  \n",
       "0  Hi! deadlock on Landing Zone PIQTELCO_TELCO.CD...           L1  \n",
       "1  ERDM table REFT_OFFERING_GTM_STATUS is missing...         ERDM  "
      ]
     },
     "execution_count": 29,
     "metadata": {},
     "output_type": "execute_result"
    }
   ],
   "source": [
    "df_ticket.drop(columns=['Assignee'],inplace=True)\n",
    "df_ticket.head(2)"
   ]
  },
  {
   "cell_type": "code",
   "execution_count": 30,
   "metadata": {
    "colab": {
     "base_uri": "https://localhost:8080/",
     "height": 421
    },
    "id": "KlZAQmQBtLMA",
    "outputId": "05af4419-802b-4d4a-91ca-42d0a68af44e"
   },
   "outputs": [
    {
     "name": "stderr",
     "output_type": "stream",
     "text": [
      "C:\\Users\\KrishnenduGhorui\\Anaconda3\\lib\\site-packages\\seaborn\\_decorators.py:36: FutureWarning: Pass the following variable as a keyword arg: x. From version 0.12, the only valid positional argument will be `data`, and passing other arguments without an explicit keyword will result in an error or misinterpretation.\n",
      "  warnings.warn(\n"
     ]
    },
    {
     "data": {
      "text/plain": [
       "Text(0.5, 0, 'Assignee Team')"
      ]
     },
     "execution_count": 30,
     "metadata": {},
     "output_type": "execute_result"
    },
    {
     "data": {
      "image/png": "[encoded data removed]",
      "text/plain": [
       "<Figure size 432x288 with 1 Axes>"
      ]
     },
     "metadata": {
      "needs_background": "light"
     },
     "output_type": "display_data"
    }
   ],
   "source": [
    "sns.countplot(df_ticket.AssigneeTeam)\n",
    "plt.xticks(rotation=90)\n",
    "plt.title('Countplot of target data(Assignee Team)')\n",
    "plt.xlabel('Assignee Team')"
   ]
  },
  {
   "cell_type": "markdown",
   "metadata": {
    "id": "6343efd5a2fe4673921610d6fb03a2e3"
   },
   "source": [
    "##### from above diagram , it is clear that this is imbalanced data, so over sampling to be performed"
   ]
  },
  {
   "cell_type": "code",
   "execution_count": 31,
   "metadata": {
    "id": "7167a2e9416b46088181c51e60a3b1e3",
    "scrolled": true
   },
   "outputs": [
    {
     "data": {
      "text/plain": [
       "Index(['Summary', 'Issue_Type', 'Component/s', 'Labels', 'Description',\n",
       "       'AssigneeTeam'],\n",
       "      dtype='object')"
      ]
     },
     "execution_count": 31,
     "metadata": {},
     "output_type": "execute_result"
    }
   ],
   "source": [
    "df_ticket.columns"
   ]
  },
  {
   "cell_type": "code",
   "execution_count": 32,
   "metadata": {
    "colab": {
     "base_uri": "https://localhost:8080/"
    },
    "id": "RRfloU-tt1JU",
    "outputId": "f3ec41b7-8f70-460a-bd52-a4e75c5bd467",
    "scrolled": true
   },
   "outputs": [
    {
     "data": {
      "text/plain": [
       "{'Leader': 0,\n",
       " 'L1': 1,\n",
       " 'L2': 2,\n",
       " 'Governance': 3,\n",
       " 'Datastage': 4,\n",
       " 'CloudOps': 5,\n",
       " 'Infra': 6,\n",
       " 'Cp4d': 7,\n",
       " 'K8': 8,\n",
       " 'ERDM': 9,\n",
       " 'Gov_Kyndryl': 10,\n",
       " 'DataDiscovery': 11,\n",
       " 'Others': 12}"
      ]
     },
     "execution_count": 32,
     "metadata": {},
     "output_type": "execute_result"
    }
   ],
   "source": [
    "## Creating a dictionary for converting string value of AssigneeTeam to numerical value \n",
    "\n",
    "dict_AssigneeTeam={}\n",
    "for k in range(len(Members_AssigneeTeam.columns)):\n",
    "     dict_AssigneeTeam[Members_AssigneeTeam.columns[k]]=k\n",
    "\n",
    "dict_AssigneeTeam"
   ]
  },
  {
   "cell_type": "code",
   "execution_count": 33,
   "metadata": {
    "id": "9ddd911d0e0549ae986107b8be45a718"
   },
   "outputs": [
    {
     "data": {
      "text/html": [
       "<div>\n",
       "<style scoped>\n",
       "    .dataframe tbody tr th:only-of-type {\n",
       "        vertical-align: middle;\n",
       "    }\n",
       "\n",
       "    .dataframe tbody tr th {\n",
       "        vertical-align: top;\n",
       "    }\n",
       "\n",
       "    .dataframe thead th {\n",
       "        text-align: right;\n",
       "    }\n",
       "</style>\n",
       "<table border=\"1\" class=\"dataframe\">\n",
       "  <thead>\n",
       "    <tr style=\"text-align: right;\">\n",
       "      <th></th>\n",
       "      <th>Summary</th>\n",
       "      <th>Issue_Type</th>\n",
       "      <th>Component/s</th>\n",
       "      <th>Labels</th>\n",
       "      <th>Description</th>\n",
       "      <th>AssigneeTeam</th>\n",
       "    </tr>\n",
       "  </thead>\n",
       "  <tbody>\n",
       "    <tr>\n",
       "      <th>0</th>\n",
       "      <td>Deadlock on table view</td>\n",
       "      <td>Incident</td>\n",
       "      <td>User Zones - BigSQL HDFS Issue</td>\n",
       "      <td>User_Zones_BigSQL/HDFS</td>\n",
       "      <td>Hi! deadlock on Landing Zone PIQTELCO_TELCO.CD...</td>\n",
       "      <td>1</td>\n",
       "    </tr>\n",
       "    <tr>\n",
       "      <th>1</th>\n",
       "      <td>One ERDM table missing GSA and COS files</td>\n",
       "      <td>Incident</td>\n",
       "      <td>ERDM Issue</td>\n",
       "      <td>ERDM</td>\n",
       "      <td>ERDM table REFT_OFFERING_GTM_STATUS is missing...</td>\n",
       "      <td>9</td>\n",
       "    </tr>\n",
       "    <tr>\n",
       "      <th>2</th>\n",
       "      <td>Requesting Read Access to the CloudOps COS ins...</td>\n",
       "      <td>Service Request</td>\n",
       "      <td>CEDP Cloud operations</td>\n",
       "      <td>CloudOther</td>\n",
       "      <td>Hi, I am part of the DataOps team and requesti...</td>\n",
       "      <td>1</td>\n",
       "    </tr>\n",
       "    <tr>\n",
       "      <th>3</th>\n",
       "      <td>Requesting access to CloudOps Bucket for DataO...</td>\n",
       "      <td>Service Request</td>\n",
       "      <td>CEDP Cloud operations</td>\n",
       "      <td>CloudOther</td>\n",
       "      <td>Requesting access to the CloudOps bucket for t...</td>\n",
       "      <td>5</td>\n",
       "    </tr>\n",
       "    <tr>\n",
       "      <th>4</th>\n",
       "      <td>Need a DB2 instance for ERDM on production acc...</td>\n",
       "      <td>Service Request</td>\n",
       "      <td>CEDP Cloud operations</td>\n",
       "      <td>CloudOther</td>\n",
       "      <td>account 2097266 CEDP - Cloud Compute Prod\\r\\nR...</td>\n",
       "      <td>5</td>\n",
       "    </tr>\n",
       "    <tr>\n",
       "      <th>...</th>\n",
       "      <td>...</td>\n",
       "      <td>...</td>\n",
       "      <td>...</td>\n",
       "      <td>...</td>\n",
       "      <td>...</td>\n",
       "      <td>...</td>\n",
       "    </tr>\n",
       "    <tr>\n",
       "      <th>4678</th>\n",
       "      <td>Access to projects Jira@IBM-IERP-Billing-Team ...</td>\n",
       "      <td>Service Request</td>\n",
       "      <td>Jira Access, Projects &amp; Configs</td>\n",
       "      <td>JiraAccess</td>\n",
       "      <td>Hello Team,\\r\\nPlease, grant me access to proj...</td>\n",
       "      <td>2</td>\n",
       "    </tr>\n",
       "    <tr>\n",
       "      <th>4679</th>\n",
       "      <td>data is being masked from CRMED source to DMT COS</td>\n",
       "      <td>Service Request</td>\n",
       "      <td>CEDP Cloud operations</td>\n",
       "      <td>CloudOther</td>\n",
       "      <td>data is being masked on pulling data from CRME...</td>\n",
       "      <td>1</td>\n",
       "    </tr>\n",
       "    <tr>\n",
       "      <th>4680</th>\n",
       "      <td>Add my id to datastage engine nodes please.</td>\n",
       "      <td>Service Request</td>\n",
       "      <td>Other Access Request</td>\n",
       "      <td>Access</td>\n",
       "      <td>Hi team, \\r\\nCan you add my id \"rajesh.singh11...</td>\n",
       "      <td>2</td>\n",
       "    </tr>\n",
       "    <tr>\n",
       "      <th>4681</th>\n",
       "      <td>Catalog DB and open flows for FINDGOE and ICI ...</td>\n",
       "      <td>Service Request</td>\n",
       "      <td>Other Access Request</td>\n",
       "      <td>Access</td>\n",
       "      <td>Please catalogue DB for ingestion through DMT ...</td>\n",
       "      <td>4</td>\n",
       "    </tr>\n",
       "    <tr>\n",
       "      <th>4682</th>\n",
       "      <td>Gain access into DB2WoC Prod/Dev Environments</td>\n",
       "      <td>Service Request</td>\n",
       "      <td>DB2W Access Request</td>\n",
       "      <td>Access</td>\n",
       "      <td>I would like to gain access into DB2WoC Produc...</td>\n",
       "      <td>2</td>\n",
       "    </tr>\n",
       "  </tbody>\n",
       "</table>\n",
       "<p>4683 rows × 6 columns</p>\n",
       "</div>"
      ],
      "text/plain": [
       "                                                Summary       Issue_Type  \\\n",
       "0                                Deadlock on table view         Incident   \n",
       "1              One ERDM table missing GSA and COS files         Incident   \n",
       "2     Requesting Read Access to the CloudOps COS ins...  Service Request   \n",
       "3     Requesting access to CloudOps Bucket for DataO...  Service Request   \n",
       "4     Need a DB2 instance for ERDM on production acc...  Service Request   \n",
       "...                                                 ...              ...   \n",
       "4678  Access to projects Jira@IBM-IERP-Billing-Team ...  Service Request   \n",
       "4679  data is being masked from CRMED source to DMT COS  Service Request   \n",
       "4680        Add my id to datastage engine nodes please.  Service Request   \n",
       "4681  Catalog DB and open flows for FINDGOE and ICI ...  Service Request   \n",
       "4682      Gain access into DB2WoC Prod/Dev Environments  Service Request   \n",
       "\n",
       "                          Component/s                  Labels  \\\n",
       "0      User Zones - BigSQL HDFS Issue  User_Zones_BigSQL/HDFS   \n",
       "1                          ERDM Issue                    ERDM   \n",
       "2               CEDP Cloud operations              CloudOther   \n",
       "3               CEDP Cloud operations              CloudOther   \n",
       "4               CEDP Cloud operations              CloudOther   \n",
       "...                               ...                     ...   \n",
       "4678  Jira Access, Projects & Configs              JiraAccess   \n",
       "4679            CEDP Cloud operations              CloudOther   \n",
       "4680             Other Access Request                  Access   \n",
       "4681             Other Access Request                  Access   \n",
       "4682              DB2W Access Request                  Access   \n",
       "\n",
       "                                            Description  AssigneeTeam  \n",
       "0     Hi! deadlock on Landing Zone PIQTELCO_TELCO.CD...             1  \n",
       "1     ERDM table REFT_OFFERING_GTM_STATUS is missing...             9  \n",
       "2     Hi, I am part of the DataOps team and requesti...             1  \n",
       "3     Requesting access to the CloudOps bucket for t...             5  \n",
       "4     account 2097266 CEDP - Cloud Compute Prod\\r\\nR...             5  \n",
       "...                                                 ...           ...  \n",
       "4678  Hello Team,\\r\\nPlease, grant me access to proj...             2  \n",
       "4679  data is being masked on pulling data from CRME...             1  \n",
       "4680  Hi team, \\r\\nCan you add my id \"rajesh.singh11...             2  \n",
       "4681  Please catalogue DB for ingestion through DMT ...             4  \n",
       "4682  I would like to gain access into DB2WoC Produc...             2  \n",
       "\n",
       "[4683 rows x 6 columns]"
      ]
     },
     "execution_count": 33,
     "metadata": {},
     "output_type": "execute_result"
    }
   ],
   "source": [
    "df_ticket.AssigneeTeam=df_ticket.AssigneeTeam.map(dict_AssigneeTeam)\n",
    "df_ticket"
   ]
  },
  {
   "cell_type": "code",
   "execution_count": 34,
   "metadata": {
    "id": "5e60dfca9b4a468f8351fe796031033f"
   },
   "outputs": [
    {
     "name": "stdout",
     "output_type": "stream",
     "text": [
      "4\n",
      "38\n",
      "86\n"
     ]
    }
   ],
   "source": [
    "print(len(df_ticket['Issue_Type'].unique()))\n",
    "print(len(df_ticket['Component/s'].unique()))\n",
    "print(len(df_ticket['Labels'].unique()))"
   ]
  },
  {
   "cell_type": "markdown",
   "metadata": {
    "id": "10e97eb4fcfc4913a924c6670ee9220f"
   },
   "source": [
    "##### Here too much category there in component and Labels, so one hot encoding can't be used "
   ]
  },
  {
   "cell_type": "code",
   "execution_count": 35,
   "metadata": {
    "id": "d5e5c96eb5da413a89f75112949c1a67"
   },
   "outputs": [
    {
     "name": "stdout",
     "output_type": "stream",
     "text": [
      "Count of unique Label :  86\n",
      "Access                    1450\n",
      "CloudOther                 812\n",
      "access                     338\n",
      "JiraAccess                 197\n",
      "DataStage                  182\n",
      "Watson_Studio              166\n",
      "User_Zones_BigSQL/HDFS     158\n",
      "ERDM                       150\n",
      "GitHub_access              127\n",
      "On-Boarding                105\n",
      "COS                         86\n",
      "Other_CEDP                  86\n",
      "TableManagement             80\n",
      "Question                    77\n",
      "DB2W                        75\n",
      "Non_Support                 63\n",
      "Kubernetes                  49\n",
      "Bluefringe                  46\n",
      "NewCo                       40\n",
      "kyndryl                     32\n",
      "JiraSupport                 28\n",
      "Support_bot                 26\n",
      "Ingestion                   24\n",
      "IGC                         20\n",
      "CEDP_Portal                 19\n",
      "Drop_Zone                   18\n",
      "User_to_Resolve             18\n",
      "DB2WoC                      16\n",
      "DB2                         15\n",
      "Db2WoCAccess                13\n",
      "logdna                      11\n",
      "Infrastructure              11\n",
      "firewall                    11\n",
      "API                         10\n",
      "Non_CEDP                     9\n",
      "catalog-sync-issue           7\n",
      "JIRA                         7\n",
      "DAM                          6\n",
      "postgres                     6\n",
      "SQL_Query                    5\n",
      "Billing                      4\n",
      "openshift                    4\n",
      "redis                        4\n",
      "k8s                          4\n",
      "kubernetes                   4\n",
      "Db2WHoCAccess                4\n",
      "Bluegroups                   3\n",
      "AppID                        3\n",
      "ElasticSearch                3\n",
      "CICD                         3\n",
      "Container_Registry           3\n",
      "DB2WOC                       2\n",
      "Jira_Access                  2\n",
      "Cloudant                     2\n",
      "Datastage                    2\n",
      "Kafka                        2\n",
      "Jira                         2\n",
      "DataDiscovery                2\n",
      "AccessHub                    2\n",
      "Access,                      2\n",
      "sysdig                       2\n",
      "pvc                          1\n",
      "acess                        1\n",
      "Namespaces                   1\n",
      "Test                         1\n",
      "IA                           1\n",
      "Automation                   1\n",
      "support                      1\n",
      "datastage                    1\n",
      "toolchain                    1\n",
      "CP4D                         1\n",
      "Data-Discovery               1\n",
      "VFA                          1\n",
      "mongodb                      1\n",
      "Service_ID                   1\n",
      "VM                           1\n",
      "EventStreams                 1\n",
      "Audit                        1\n",
      "cr                           1\n",
      "Drop_Zone_HDFS               1\n",
      "Secrets_Manager              1\n",
      "Watson_Discovery             1\n",
      "Watson_Open_Scale            1\n",
      "Test_ticket                  1\n",
      "Artifactory                  1\n",
      "Monorepo                     1\n",
      "Name: Labels, dtype: int64\n"
     ]
    }
   ],
   "source": [
    "pd.set_option(\"display.max_rows\", None)\n",
    "\n",
    "print('Count of unique Label : ',len(df_ticket['Labels'].unique()))\n",
    "print(df_ticket['Labels'].value_counts(sort=True))\n"
   ]
  },
  {
   "cell_type": "code",
   "execution_count": 36,
   "metadata": {
    "id": "e32a09c6f81045bc926f9697452b5f8b"
   },
   "outputs": [
    {
     "data": {
      "text/plain": [
       "Index(['Billing', 'openshift', 'redis', 'k8s', 'kubernetes', 'Db2WHoCAccess',\n",
       "       'Bluegroups', 'AppID', 'ElasticSearch', 'CICD', 'Container_Registry',\n",
       "       'DB2WOC', 'Jira_Access', 'Cloudant', 'Datastage', 'Kafka', 'Jira',\n",
       "       'DataDiscovery', 'AccessHub', 'Access,', 'sysdig', 'pvc', 'acess',\n",
       "       'Namespaces', 'Test', 'IA', 'Automation', 'support', 'datastage',\n",
       "       'toolchain', 'CP4D', 'Data-Discovery', 'VFA', 'mongodb', 'Service_ID',\n",
       "       'VM', 'EventStreams', 'Audit', 'cr', 'Drop_Zone_HDFS',\n",
       "       'Secrets_Manager', 'Watson_Discovery', 'Watson_Open_Scale',\n",
       "       'Test_ticket', 'Artifactory', 'Monorepo'],\n",
       "      dtype='object')"
      ]
     },
     "execution_count": 36,
     "metadata": {},
     "output_type": "execute_result"
    }
   ],
   "source": [
    "valCount_Labels=df_ticket['Labels'].value_counts()\n",
    "label_valCountl4_lbl=valCount_Labels[valCount_Labels<=4].index\n",
    "label_valCountl4_lbl"
   ]
  },
  {
   "cell_type": "code",
   "execution_count": 37,
   "metadata": {
    "id": "b8a8fe52e5f543d58a7039db2892b187",
    "scrolled": true
   },
   "outputs": [
    {
     "data": {
      "text/plain": [
       "{'kubernetes': 'Kubernetes',\n",
       " 'k8s': 'Kubernetes',\n",
       " 'Db2WHoCAccess': 'Db2WoCAccess',\n",
       " 'AppID': 'CloudSpecific',\n",
       " 'Container_Registry': 'CloudSpecific',\n",
       " 'CICD': 'CloudSpecific',\n",
       " 'ElasticSearch': 'Lbl_others',\n",
       " 'sysdig': 'CloudSpecific',\n",
       " 'Jira_Access': 'JiraAccess',\n",
       " 'AccessHub': 'Lbl_others',\n",
       " 'Cloudant': 'CloudSpecific',\n",
       " 'Datastage': 'DataStage',\n",
       " 'Access,': 'Access',\n",
       " 'DB2WOC': 'DB2W',\n",
       " 'Jira': 'JiraSupport',\n",
       " 'DataDiscovery': 'Lbl_others',\n",
       " 'datastage': 'DataStage',\n",
       " 'Service_ID': 'CloudSpecific',\n",
       " 'Data-Discovery': 'Lbl_others',\n",
       " 'cr': 'CloudSpecific',\n",
       " 'Automation': 'CloudSpecific',\n",
       " 'IA': 'Lbl_others',\n",
       " 'Namespaces': 'CloudSpecific',\n",
       " 'logdna': 'CloudSpecific',\n",
       " 'Drop_Zone_HDFS': 'Drop_Zone',\n",
       " 'Test_ticket': 'Lbl_others',\n",
       " 'EventStreams': 'CloudSpecific',\n",
       " 'CP4D': 'Watson_Studio',\n",
       " 'VFA': 'CloudSpecific',\n",
       " 'Artifactory': 'Access',\n",
       " 'pvc': 'CloudSpecific',\n",
       " 'Watson_Discovery': 'CloudSpecific',\n",
       " 'support': 'Lbl_others',\n",
       " 'Monorepo': 'GitHub_access',\n",
       " 'mongodb': 'Lbl_others',\n",
       " 'Audit': 'Lbl_others',\n",
       " 'VM': 'CloudSpecific',\n",
       " 'acess': 'Access',\n",
       " 'Test': 'Lbl_others',\n",
       " 'Secrets_Manager': 'CloudSpecific',\n",
       " 'toolchain': 'CloudSpecific',\n",
       " 'Watson_Open_Scale': 'CloudSpecific',\n",
       " 'SQL_Query': 'CloudSpecific',\n",
       " 'postgres': 'CloudSpecific',\n",
       " 'firewall': 'CloudSpecific',\n",
       " 'openshift': 'CloudSpecific',\n",
       " 'COS': 'CloudSpecific',\n",
       " 'Bluefringe': 'CloudSpecific',\n",
       " 'redis': 'CloudSpecific',\n",
       " 'Billing': 'CloudSpecific'}"
      ]
     },
     "execution_count": 37,
     "metadata": {},
     "output_type": "execute_result"
    }
   ],
   "source": [
    "# Creating dictionary for label mapping \n",
    "\n",
    "dict_label_map={'kubernetes':'Kubernetes','k8s':'Kubernetes','Db2WHoCAccess':'Db2WoCAccess','AppID':'CloudSpecific','Container_Registry':'CloudSpecific','CICD':'CloudSpecific','ElasticSearch':'Lbl_others',\n",
    "       'sysdig':'CloudSpecific','Jira_Access':'JiraAccess','AccessHub':'Lbl_others','Cloudant':'CloudSpecific','Datastage':'DataStage',\n",
    "       'Access,':'Access','DB2WOC':'DB2W','Jira':'JiraSupport','DataDiscovery':'Lbl_others','datastage':'DataStage','Service_ID':'CloudSpecific',\n",
    "       'Data-Discovery':'Lbl_others','cr':'CloudSpecific', 'Automation':'CloudSpecific','IA':'Lbl_others','Namespaces':'CloudSpecific','logdna':'CloudSpecific',\n",
    "       'Drop_Zone_HDFS':'Drop_Zone','Test_ticket':'Lbl_others','EventStreams':'CloudSpecific','CP4D':'Watson_Studio','VFA':'CloudSpecific',\n",
    "       'Artifactory':'Access','pvc':'CloudSpecific','Watson_Discovery':'CloudSpecific','support':'Lbl_others','Monorepo':'GitHub_access',\n",
    "       'mongodb':'Lbl_others','Audit':'Lbl_others','VM':'CloudSpecific','acess':'Access','Test':'Lbl_others','Secrets_Manager':'CloudSpecific',\n",
    "       'toolchain':'CloudSpecific','Watson_Open_Scale':'CloudSpecific','SQL_Query':'CloudSpecific','postgres':'CloudSpecific','firewall':'CloudSpecific',\n",
    "        'openshift':'CloudSpecific','COS':'CloudSpecific','Bluefringe':'CloudSpecific','redis':'CloudSpecific','Billing':'CloudSpecific'}\n",
    "\n",
    "dict_label_map"
   ]
  },
  {
   "cell_type": "code",
   "execution_count": 38,
   "metadata": {
    "id": "a6587829dbe64e5493d597a9d3f1e3e4"
   },
   "outputs": [
    {
     "name": "stdout",
     "output_type": "stream",
     "text": [
      "Count of unique Label now :  38\n"
     ]
    },
    {
     "data": {
      "text/plain": [
       "array(['User_Zones_BigSQL/HDFS', 'ERDM', 'CloudOther', 'API', 'Access',\n",
       "       'DataStage', 'User_to_Resolve', 'GitHub_access', 'Ingestion',\n",
       "       'TableManagement', 'IGC', 'JiraSupport', 'Other_CEDP',\n",
       "       'CEDP_Portal', 'Question', 'Non_Support', 'On-Boarding',\n",
       "       'JiraAccess', 'DB2W', 'Watson_Studio', 'Support_bot', 'Kubernetes',\n",
       "       'Bluegroups', 'Infrastructure', 'Drop_Zone', 'Non_CEDP',\n",
       "       'Db2WoCAccess', 'DAM', 'Lbl_others', 'JIRA', 'NewCo', 'DB2WoC',\n",
       "       'catalog-sync-issue', 'access', 'CloudSpecific', 'DB2', 'kyndryl',\n",
       "       'Kafka'], dtype=object)"
      ]
     },
     "execution_count": 38,
     "metadata": {},
     "output_type": "execute_result"
    }
   ],
   "source": [
    "# Replace some Labels with correct Labels\n",
    "\n",
    "df_ticket.Labels.replace(dict_label_map,inplace=True)\n",
    "\n",
    "print('Count of unique Label now : ',len(df_ticket.Labels.unique()))\n",
    "df_ticket.Labels.unique()"
   ]
  },
  {
   "cell_type": "code",
   "execution_count": 39,
   "metadata": {
    "id": "b66675d6b89549a6966167380486c2d2"
   },
   "outputs": [
    {
     "name": "stdout",
     "output_type": "stream",
     "text": [
      "Count of unique Component :  38\n",
      "CEDP Cloud operations                      1510\n",
      "Other Access Request                        639\n",
      "CEDP Access Request                         319\n",
      "Jira Access, Projects & Configs             235\n",
      "Watson Studio Access                        212\n",
      "DataStage Issue                             194\n",
      "User Zones - BigSQL HDFS Issue              177\n",
      "Watson Studio                               173\n",
      "DataStage Access Request                    171\n",
      "Mono Repo Access                            130\n",
      "Other CEDP Issue                            118\n",
      "Catalog a Database on DataStage Request     110\n",
      "Table Management Request                     85\n",
      "ERDM Issue                                   75\n",
      "ERDM Requirement Request                     75\n",
      "DB2W (DASHDB) Issue                          73\n",
      "DB2W Access Request                          68\n",
      "Functional ID Access Request                 64\n",
      "Questions                                    60\n",
      "Co-Creation K8s Issue                        38\n",
      "CEDP Ingestion Issue                         27\n",
      "Drop Zone Issue                              21\n",
      "IGC Issue                                    20\n",
      "CEDP Portal                                  19\n",
      "Infrastructure Updates Request               13\n",
      "Jira Service Desk Issue                      12\n",
      "IA / Data Quality Issue                      11\n",
      "API Issue                                    10\n",
      "DAM Issue                                     6\n",
      "BlueGroup Access Issue                        4\n",
      "CEDP Learning Portfolio                       3\n",
      "DB2 WoC DashDB Issue                          3\n",
      "Access Control                                2\n",
      "Data Discovery Tool Requirement               2\n",
      "Data Discovery Tool Issue                     1\n",
      "Open Stack Issue                              1\n",
      "Data Studio Issue                             1\n",
      "DB2Woc Access Request                         1\n",
      "Name: Component/s, dtype: int64\n"
     ]
    }
   ],
   "source": [
    "pd.set_option(\"display.max_rows\", None)\n",
    "\n",
    "print('Count of unique Component : ',len(df_ticket['Component/s'].unique()))\n",
    "print(df_ticket['Component/s'].value_counts(sort=True))"
   ]
  },
  {
   "cell_type": "code",
   "execution_count": 40,
   "metadata": {
    "id": "1a6ceb5968cf4bfc97b43dbb593d102b"
   },
   "outputs": [
    {
     "data": {
      "text/plain": [
       "{'Open Stack Issue': 'Component_others',\n",
       " 'Data Discovery Tool Issue': 'Component_others',\n",
       " 'Data Studio Issue': 'Component_others',\n",
       " 'DB2Woc Access Request': 'DB2W Access Request',\n",
       " 'Access Control': 'Other Access Request',\n",
       " 'CEDP Learning Portfolio': 'Component_others',\n",
       " 'DB2 WoC DashDB Issue': 'DB2W (DASHDB) Issue',\n",
       " 'BlueGroup Access Issue': 'Other Access Request',\n",
       " 'DAM Issue': 'Component_others',\n",
       " 'IA / Data Quality Issue': 'Component_others',\n",
       " 'Data Discovery Tool Requirement': 'Component_others'}"
      ]
     },
     "execution_count": 40,
     "metadata": {},
     "output_type": "execute_result"
    }
   ],
   "source": [
    "# Creating dictionary for Component mapping\n",
    "\n",
    "dict_component_map={'Open Stack Issue':'Component_others','Data Discovery Tool Issue':'Component_others','Data Studio Issue':'Component_others','DB2Woc Access Request':'DB2W Access Request',\n",
    "                   'Access Control':'Other Access Request','CEDP Learning Portfolio':'Component_others','DB2 WoC DashDB Issue':'DB2W (DASHDB) Issue',\n",
    "                   'BlueGroup Access Issue':'Other Access Request','DAM Issue':'Component_others','IA / Data Quality Issue':'Component_others',\n",
    "                   'Data Discovery Tool Requirement':'Component_others'}\n",
    "\n",
    "dict_component_map"
   ]
  },
  {
   "cell_type": "code",
   "execution_count": 41,
   "metadata": {
    "id": "9bca8982c2be40868446d428d9dcc3e8"
   },
   "outputs": [
    {
     "name": "stdout",
     "output_type": "stream",
     "text": [
      "Count of unique Component now :  28\n"
     ]
    },
    {
     "data": {
      "text/plain": [
       "array(['User Zones - BigSQL HDFS Issue', 'ERDM Issue',\n",
       "       'CEDP Cloud operations', 'API Issue',\n",
       "       'Functional ID Access Request', 'DataStage Issue',\n",
       "       'DataStage Access Request', 'Other Access Request',\n",
       "       'CEDP Access Request', 'ERDM Requirement Request',\n",
       "       'Mono Repo Access', 'CEDP Ingestion Issue',\n",
       "       'Table Management Request', 'Watson Studio Access', 'IGC Issue',\n",
       "       'Jira Access, Projects & Configs', 'Other CEDP Issue',\n",
       "       'CEDP Portal', 'Component_others',\n",
       "       'Catalog a Database on DataStage Request', 'DB2W (DASHDB) Issue',\n",
       "       'Watson Studio', 'DB2W Access Request', 'Questions',\n",
       "       'Infrastructure Updates Request', 'Co-Creation K8s Issue',\n",
       "       'Drop Zone Issue', 'Jira Service Desk Issue'], dtype=object)"
      ]
     },
     "execution_count": 41,
     "metadata": {},
     "output_type": "execute_result"
    }
   ],
   "source": [
    "# Replace some Components with correct Component\n",
    "\n",
    "df_ticket['Component/s'].replace(dict_component_map,inplace=True)\n",
    "\n",
    "print('Count of unique Component now : ',len(df_ticket['Component/s'].unique()))\n",
    "df_ticket['Component/s'].unique()"
   ]
  },
  {
   "cell_type": "code",
   "execution_count": 42,
   "metadata": {
    "id": "480028d8429e43ea9d73abca6e2e50e1"
   },
   "outputs": [
    {
     "data": {
      "text/plain": [
       "Service Request                   3584\n",
       "Incident                           975\n",
       "Question                            80\n",
       "Service Request with Approvals      44\n",
       "Name: Issue_Type, dtype: int64"
      ]
     },
     "execution_count": 42,
     "metadata": {},
     "output_type": "execute_result"
    }
   ],
   "source": [
    "df_ticket['Issue_Type'].value_counts()"
   ]
  },
  {
   "cell_type": "code",
   "execution_count": 43,
   "metadata": {
    "id": "3aff65d94cf045f1ba1cac94097261f6"
   },
   "outputs": [
    {
     "data": {
      "text/html": [
       "<div>\n",
       "<style scoped>\n",
       "    .dataframe tbody tr th:only-of-type {\n",
       "        vertical-align: middle;\n",
       "    }\n",
       "\n",
       "    .dataframe tbody tr th {\n",
       "        vertical-align: top;\n",
       "    }\n",
       "\n",
       "    .dataframe thead th {\n",
       "        text-align: right;\n",
       "    }\n",
       "</style>\n",
       "<table border=\"1\" class=\"dataframe\">\n",
       "  <thead>\n",
       "    <tr style=\"text-align: right;\">\n",
       "      <th></th>\n",
       "      <th>Issue_Type_Question</th>\n",
       "      <th>Issue_Type_Service Request</th>\n",
       "      <th>Issue_Type_Service Request with Approvals</th>\n",
       "    </tr>\n",
       "  </thead>\n",
       "  <tbody>\n",
       "    <tr>\n",
       "      <th>0</th>\n",
       "      <td>0</td>\n",
       "      <td>0</td>\n",
       "      <td>0</td>\n",
       "    </tr>\n",
       "    <tr>\n",
       "      <th>1</th>\n",
       "      <td>0</td>\n",
       "      <td>0</td>\n",
       "      <td>0</td>\n",
       "    </tr>\n",
       "    <tr>\n",
       "      <th>2</th>\n",
       "      <td>0</td>\n",
       "      <td>1</td>\n",
       "      <td>0</td>\n",
       "    </tr>\n",
       "    <tr>\n",
       "      <th>3</th>\n",
       "      <td>0</td>\n",
       "      <td>1</td>\n",
       "      <td>0</td>\n",
       "    </tr>\n",
       "    <tr>\n",
       "      <th>4</th>\n",
       "      <td>0</td>\n",
       "      <td>1</td>\n",
       "      <td>0</td>\n",
       "    </tr>\n",
       "  </tbody>\n",
       "</table>\n",
       "</div>"
      ],
      "text/plain": [
       "   Issue_Type_Question  Issue_Type_Service Request  \\\n",
       "0                    0                           0   \n",
       "1                    0                           0   \n",
       "2                    0                           1   \n",
       "3                    0                           1   \n",
       "4                    0                           1   \n",
       "\n",
       "   Issue_Type_Service Request with Approvals  \n",
       "0                                          0  \n",
       "1                                          0  \n",
       "2                                          0  \n",
       "3                                          0  \n",
       "4                                          0  "
      ]
     },
     "execution_count": 43,
     "metadata": {},
     "output_type": "execute_result"
    }
   ],
   "source": [
    "OneHtEncd_IssueType=pd.get_dummies(df_ticket['Issue_Type'],drop_first=True,prefix='Issue_Type')\n",
    "OneHtEncd_IssueType.head()"
   ]
  },
  {
   "cell_type": "code",
   "execution_count": 44,
   "metadata": {
    "id": "77dbfd7e4fa6440faa38cc7dbbbbca6a"
   },
   "outputs": [
    {
     "data": {
      "text/html": [
       "<div>\n",
       "<style scoped>\n",
       "    .dataframe tbody tr th:only-of-type {\n",
       "        vertical-align: middle;\n",
       "    }\n",
       "\n",
       "    .dataframe tbody tr th {\n",
       "        vertical-align: top;\n",
       "    }\n",
       "\n",
       "    .dataframe thead th {\n",
       "        text-align: right;\n",
       "    }\n",
       "</style>\n",
       "<table border=\"1\" class=\"dataframe\">\n",
       "  <thead>\n",
       "    <tr style=\"text-align: right;\">\n",
       "      <th></th>\n",
       "      <th>Summary</th>\n",
       "      <th>Issue_Type</th>\n",
       "      <th>Component/s</th>\n",
       "      <th>Labels</th>\n",
       "      <th>Description</th>\n",
       "      <th>AssigneeTeam</th>\n",
       "      <th>Issue_Type_Question</th>\n",
       "      <th>Issue_Type_Service Request</th>\n",
       "      <th>Issue_Type_Service Request with Approvals</th>\n",
       "    </tr>\n",
       "  </thead>\n",
       "  <tbody>\n",
       "    <tr>\n",
       "      <th>0</th>\n",
       "      <td>Deadlock on table view</td>\n",
       "      <td>Incident</td>\n",
       "      <td>User Zones - BigSQL HDFS Issue</td>\n",
       "      <td>User_Zones_BigSQL/HDFS</td>\n",
       "      <td>Hi! deadlock on Landing Zone PIQTELCO_TELCO.CD...</td>\n",
       "      <td>1</td>\n",
       "      <td>0</td>\n",
       "      <td>0</td>\n",
       "      <td>0</td>\n",
       "    </tr>\n",
       "    <tr>\n",
       "      <th>1</th>\n",
       "      <td>One ERDM table missing GSA and COS files</td>\n",
       "      <td>Incident</td>\n",
       "      <td>ERDM Issue</td>\n",
       "      <td>ERDM</td>\n",
       "      <td>ERDM table REFT_OFFERING_GTM_STATUS is missing...</td>\n",
       "      <td>9</td>\n",
       "      <td>0</td>\n",
       "      <td>0</td>\n",
       "      <td>0</td>\n",
       "    </tr>\n",
       "    <tr>\n",
       "      <th>2</th>\n",
       "      <td>Requesting Read Access to the CloudOps COS ins...</td>\n",
       "      <td>Service Request</td>\n",
       "      <td>CEDP Cloud operations</td>\n",
       "      <td>CloudOther</td>\n",
       "      <td>Hi, I am part of the DataOps team and requesti...</td>\n",
       "      <td>1</td>\n",
       "      <td>0</td>\n",
       "      <td>1</td>\n",
       "      <td>0</td>\n",
       "    </tr>\n",
       "    <tr>\n",
       "      <th>3</th>\n",
       "      <td>Requesting access to CloudOps Bucket for DataO...</td>\n",
       "      <td>Service Request</td>\n",
       "      <td>CEDP Cloud operations</td>\n",
       "      <td>CloudOther</td>\n",
       "      <td>Requesting access to the CloudOps bucket for t...</td>\n",
       "      <td>5</td>\n",
       "      <td>0</td>\n",
       "      <td>1</td>\n",
       "      <td>0</td>\n",
       "    </tr>\n",
       "    <tr>\n",
       "      <th>4</th>\n",
       "      <td>Need a DB2 instance for ERDM on production acc...</td>\n",
       "      <td>Service Request</td>\n",
       "      <td>CEDP Cloud operations</td>\n",
       "      <td>CloudOther</td>\n",
       "      <td>account 2097266 CEDP - Cloud Compute Prod\\r\\nR...</td>\n",
       "      <td>5</td>\n",
       "      <td>0</td>\n",
       "      <td>1</td>\n",
       "      <td>0</td>\n",
       "    </tr>\n",
       "  </tbody>\n",
       "</table>\n",
       "</div>"
      ],
      "text/plain": [
       "                                             Summary       Issue_Type  \\\n",
       "0                             Deadlock on table view         Incident   \n",
       "1           One ERDM table missing GSA and COS files         Incident   \n",
       "2  Requesting Read Access to the CloudOps COS ins...  Service Request   \n",
       "3  Requesting access to CloudOps Bucket for DataO...  Service Request   \n",
       "4  Need a DB2 instance for ERDM on production acc...  Service Request   \n",
       "\n",
       "                      Component/s                  Labels  \\\n",
       "0  User Zones - BigSQL HDFS Issue  User_Zones_BigSQL/HDFS   \n",
       "1                      ERDM Issue                    ERDM   \n",
       "2           CEDP Cloud operations              CloudOther   \n",
       "3           CEDP Cloud operations              CloudOther   \n",
       "4           CEDP Cloud operations              CloudOther   \n",
       "\n",
       "                                         Description  AssigneeTeam  \\\n",
       "0  Hi! deadlock on Landing Zone PIQTELCO_TELCO.CD...             1   \n",
       "1  ERDM table REFT_OFFERING_GTM_STATUS is missing...             9   \n",
       "2  Hi, I am part of the DataOps team and requesti...             1   \n",
       "3  Requesting access to the CloudOps bucket for t...             5   \n",
       "4  account 2097266 CEDP - Cloud Compute Prod\\r\\nR...             5   \n",
       "\n",
       "   Issue_Type_Question  Issue_Type_Service Request  \\\n",
       "0                    0                           0   \n",
       "1                    0                           0   \n",
       "2                    0                           1   \n",
       "3                    0                           1   \n",
       "4                    0                           1   \n",
       "\n",
       "   Issue_Type_Service Request with Approvals  \n",
       "0                                          0  \n",
       "1                                          0  \n",
       "2                                          0  \n",
       "3                                          0  \n",
       "4                                          0  "
      ]
     },
     "execution_count": 44,
     "metadata": {},
     "output_type": "execute_result"
    }
   ],
   "source": [
    "df_ticket=pd.concat([df_ticket,OneHtEncd_IssueType],axis='columns')\n",
    "df_ticket.head()"
   ]
  },
  {
   "cell_type": "code",
   "execution_count": 45,
   "metadata": {
    "id": "2782d502214a41418d2c74f54eb2cb20"
   },
   "outputs": [
    {
     "data": {
      "text/html": [
       "<div>\n",
       "<style scoped>\n",
       "    .dataframe tbody tr th:only-of-type {\n",
       "        vertical-align: middle;\n",
       "    }\n",
       "\n",
       "    .dataframe tbody tr th {\n",
       "        vertical-align: top;\n",
       "    }\n",
       "\n",
       "    .dataframe thead th {\n",
       "        text-align: right;\n",
       "    }\n",
       "</style>\n",
       "<table border=\"1\" class=\"dataframe\">\n",
       "  <thead>\n",
       "    <tr style=\"text-align: right;\">\n",
       "      <th></th>\n",
       "      <th>Summary</th>\n",
       "      <th>Component/s</th>\n",
       "      <th>Labels</th>\n",
       "      <th>Description</th>\n",
       "      <th>AssigneeTeam</th>\n",
       "      <th>Issue_Type_Question</th>\n",
       "      <th>Issue_Type_Service_Request</th>\n",
       "      <th>Issue_Type_Service_Request_Approvals</th>\n",
       "    </tr>\n",
       "  </thead>\n",
       "  <tbody>\n",
       "    <tr>\n",
       "      <th>0</th>\n",
       "      <td>Deadlock on table view</td>\n",
       "      <td>User Zones - BigSQL HDFS Issue</td>\n",
       "      <td>User_Zones_BigSQL/HDFS</td>\n",
       "      <td>Hi! deadlock on Landing Zone PIQTELCO_TELCO.CD...</td>\n",
       "      <td>1</td>\n",
       "      <td>0</td>\n",
       "      <td>0</td>\n",
       "      <td>0</td>\n",
       "    </tr>\n",
       "    <tr>\n",
       "      <th>1</th>\n",
       "      <td>One ERDM table missing GSA and COS files</td>\n",
       "      <td>ERDM Issue</td>\n",
       "      <td>ERDM</td>\n",
       "      <td>ERDM table REFT_OFFERING_GTM_STATUS is missing...</td>\n",
       "      <td>9</td>\n",
       "      <td>0</td>\n",
       "      <td>0</td>\n",
       "      <td>0</td>\n",
       "    </tr>\n",
       "    <tr>\n",
       "      <th>2</th>\n",
       "      <td>Requesting Read Access to the CloudOps COS ins...</td>\n",
       "      <td>CEDP Cloud operations</td>\n",
       "      <td>CloudOther</td>\n",
       "      <td>Hi, I am part of the DataOps team and requesti...</td>\n",
       "      <td>1</td>\n",
       "      <td>0</td>\n",
       "      <td>1</td>\n",
       "      <td>0</td>\n",
       "    </tr>\n",
       "    <tr>\n",
       "      <th>3</th>\n",
       "      <td>Requesting access to CloudOps Bucket for DataO...</td>\n",
       "      <td>CEDP Cloud operations</td>\n",
       "      <td>CloudOther</td>\n",
       "      <td>Requesting access to the CloudOps bucket for t...</td>\n",
       "      <td>5</td>\n",
       "      <td>0</td>\n",
       "      <td>1</td>\n",
       "      <td>0</td>\n",
       "    </tr>\n",
       "    <tr>\n",
       "      <th>4</th>\n",
       "      <td>Need a DB2 instance for ERDM on production acc...</td>\n",
       "      <td>CEDP Cloud operations</td>\n",
       "      <td>CloudOther</td>\n",
       "      <td>account 2097266 CEDP - Cloud Compute Prod\\r\\nR...</td>\n",
       "      <td>5</td>\n",
       "      <td>0</td>\n",
       "      <td>1</td>\n",
       "      <td>0</td>\n",
       "    </tr>\n",
       "  </tbody>\n",
       "</table>\n",
       "</div>"
      ],
      "text/plain": [
       "                                             Summary  \\\n",
       "0                             Deadlock on table view   \n",
       "1           One ERDM table missing GSA and COS files   \n",
       "2  Requesting Read Access to the CloudOps COS ins...   \n",
       "3  Requesting access to CloudOps Bucket for DataO...   \n",
       "4  Need a DB2 instance for ERDM on production acc...   \n",
       "\n",
       "                      Component/s                  Labels  \\\n",
       "0  User Zones - BigSQL HDFS Issue  User_Zones_BigSQL/HDFS   \n",
       "1                      ERDM Issue                    ERDM   \n",
       "2           CEDP Cloud operations              CloudOther   \n",
       "3           CEDP Cloud operations              CloudOther   \n",
       "4           CEDP Cloud operations              CloudOther   \n",
       "\n",
       "                                         Description  AssigneeTeam  \\\n",
       "0  Hi! deadlock on Landing Zone PIQTELCO_TELCO.CD...             1   \n",
       "1  ERDM table REFT_OFFERING_GTM_STATUS is missing...             9   \n",
       "2  Hi, I am part of the DataOps team and requesti...             1   \n",
       "3  Requesting access to the CloudOps bucket for t...             5   \n",
       "4  account 2097266 CEDP - Cloud Compute Prod\\r\\nR...             5   \n",
       "\n",
       "   Issue_Type_Question  Issue_Type_Service_Request  \\\n",
       "0                    0                           0   \n",
       "1                    0                           0   \n",
       "2                    0                           1   \n",
       "3                    0                           1   \n",
       "4                    0                           1   \n",
       "\n",
       "   Issue_Type_Service_Request_Approvals  \n",
       "0                                     0  \n",
       "1                                     0  \n",
       "2                                     0  \n",
       "3                                     0  \n",
       "4                                     0  "
      ]
     },
     "execution_count": 45,
     "metadata": {},
     "output_type": "execute_result"
    }
   ],
   "source": [
    "df_ticket.drop(columns=['Issue_Type'],inplace=True)\n",
    "df_ticket.rename(columns={'Issue_Type_Service Request':'Issue_Type_Service_Request','Issue_Type_Service Request with Approvals':'Issue_Type_Service_Request_Approvals'},inplace=True)\n",
    "df_ticket.head()"
   ]
  },
  {
   "cell_type": "code",
   "execution_count": 46,
   "metadata": {
    "id": "4da1e13b80654d8a8fe56f306a3933ec"
   },
   "outputs": [
    {
     "data": {
      "text/html": [
       "<div>\n",
       "<style scoped>\n",
       "    .dataframe tbody tr th:only-of-type {\n",
       "        vertical-align: middle;\n",
       "    }\n",
       "\n",
       "    .dataframe tbody tr th {\n",
       "        vertical-align: top;\n",
       "    }\n",
       "\n",
       "    .dataframe thead th {\n",
       "        text-align: right;\n",
       "    }\n",
       "</style>\n",
       "<table border=\"1\" class=\"dataframe\">\n",
       "  <thead>\n",
       "    <tr style=\"text-align: right;\">\n",
       "      <th></th>\n",
       "      <th>Summary</th>\n",
       "      <th>Component/s</th>\n",
       "      <th>Labels</th>\n",
       "      <th>Description</th>\n",
       "      <th>AssigneeTeam</th>\n",
       "      <th>Issue_Type_Question</th>\n",
       "      <th>Issue_Type_Service_Request</th>\n",
       "      <th>Issue_Type_Service_Request_Approvals</th>\n",
       "    </tr>\n",
       "  </thead>\n",
       "  <tbody>\n",
       "    <tr>\n",
       "      <th>0</th>\n",
       "      <td>Deadlock on table view</td>\n",
       "      <td>25</td>\n",
       "      <td>32</td>\n",
       "      <td>Hi! deadlock on Landing Zone PIQTELCO_TELCO.CD...</td>\n",
       "      <td>1</td>\n",
       "      <td>0</td>\n",
       "      <td>0</td>\n",
       "      <td>0</td>\n",
       "    </tr>\n",
       "    <tr>\n",
       "      <th>1</th>\n",
       "      <td>One ERDM table missing GSA and COS files</td>\n",
       "      <td>13</td>\n",
       "      <td>13</td>\n",
       "      <td>ERDM table REFT_OFFERING_GTM_STATUS is missing...</td>\n",
       "      <td>9</td>\n",
       "      <td>0</td>\n",
       "      <td>0</td>\n",
       "      <td>0</td>\n",
       "    </tr>\n",
       "    <tr>\n",
       "      <th>2</th>\n",
       "      <td>Requesting Read Access to the CloudOps COS ins...</td>\n",
       "      <td>2</td>\n",
       "      <td>4</td>\n",
       "      <td>Hi, I am part of the DataOps team and requesti...</td>\n",
       "      <td>1</td>\n",
       "      <td>0</td>\n",
       "      <td>1</td>\n",
       "      <td>0</td>\n",
       "    </tr>\n",
       "    <tr>\n",
       "      <th>3</th>\n",
       "      <td>Requesting access to CloudOps Bucket for DataO...</td>\n",
       "      <td>2</td>\n",
       "      <td>4</td>\n",
       "      <td>Requesting access to the CloudOps bucket for t...</td>\n",
       "      <td>5</td>\n",
       "      <td>0</td>\n",
       "      <td>1</td>\n",
       "      <td>0</td>\n",
       "    </tr>\n",
       "    <tr>\n",
       "      <th>4</th>\n",
       "      <td>Need a DB2 instance for ERDM on production acc...</td>\n",
       "      <td>2</td>\n",
       "      <td>4</td>\n",
       "      <td>account 2097266 CEDP - Cloud Compute Prod\\r\\nR...</td>\n",
       "      <td>5</td>\n",
       "      <td>0</td>\n",
       "      <td>1</td>\n",
       "      <td>0</td>\n",
       "    </tr>\n",
       "  </tbody>\n",
       "</table>\n",
       "</div>"
      ],
      "text/plain": [
       "                                             Summary  Component/s  Labels  \\\n",
       "0                             Deadlock on table view           25      32   \n",
       "1           One ERDM table missing GSA and COS files           13      13   \n",
       "2  Requesting Read Access to the CloudOps COS ins...            2       4   \n",
       "3  Requesting access to CloudOps Bucket for DataO...            2       4   \n",
       "4  Need a DB2 instance for ERDM on production acc...            2       4   \n",
       "\n",
       "                                         Description  AssigneeTeam  \\\n",
       "0  Hi! deadlock on Landing Zone PIQTELCO_TELCO.CD...             1   \n",
       "1  ERDM table REFT_OFFERING_GTM_STATUS is missing...             9   \n",
       "2  Hi, I am part of the DataOps team and requesti...             1   \n",
       "3  Requesting access to the CloudOps bucket for t...             5   \n",
       "4  account 2097266 CEDP - Cloud Compute Prod\\r\\nR...             5   \n",
       "\n",
       "   Issue_Type_Question  Issue_Type_Service_Request  \\\n",
       "0                    0                           0   \n",
       "1                    0                           0   \n",
       "2                    0                           1   \n",
       "3                    0                           1   \n",
       "4                    0                           1   \n",
       "\n",
       "   Issue_Type_Service_Request_Approvals  \n",
       "0                                     0  \n",
       "1                                     0  \n",
       "2                                     0  \n",
       "3                                     0  \n",
       "4                                     0  "
      ]
     },
     "execution_count": 46,
     "metadata": {},
     "output_type": "execute_result"
    }
   ],
   "source": [
    "# label encoding for Label and Component\n",
    "\n",
    "from sklearn.preprocessing import LabelEncoder\n",
    "le_Label=LabelEncoder()\n",
    "le_Component=LabelEncoder()\n",
    "df_ticket.Labels=le_Label.fit_transform(df_ticket.Labels)\n",
    "df_ticket['Component/s']=le_Component.fit_transform(df_ticket['Component/s'])\n",
    "\n",
    "df_ticket.head()"
   ]
  },
  {
   "cell_type": "code",
   "execution_count": 47,
   "metadata": {
    "colab": {
     "base_uri": "https://localhost:8080/",
     "height": 208
    },
    "id": "FD-UEAOhIY7I",
    "outputId": "2351905b-2382-4ebb-c23f-fff6fa4ac45f"
   },
   "outputs": [
    {
     "data": {
      "text/html": [
       "<div>\n",
       "<style scoped>\n",
       "    .dataframe tbody tr th:only-of-type {\n",
       "        vertical-align: middle;\n",
       "    }\n",
       "\n",
       "    .dataframe tbody tr th {\n",
       "        vertical-align: top;\n",
       "    }\n",
       "\n",
       "    .dataframe thead th {\n",
       "        text-align: right;\n",
       "    }\n",
       "</style>\n",
       "<table border=\"1\" class=\"dataframe\">\n",
       "  <thead>\n",
       "    <tr style=\"text-align: right;\">\n",
       "      <th></th>\n",
       "      <th>Summary</th>\n",
       "      <th>Description</th>\n",
       "      <th>Component/s</th>\n",
       "      <th>Labels</th>\n",
       "      <th>Issue_Type_Question</th>\n",
       "      <th>Issue_Type_Service_Request</th>\n",
       "      <th>Issue_Type_Service_Request_Approvals</th>\n",
       "    </tr>\n",
       "  </thead>\n",
       "  <tbody>\n",
       "    <tr>\n",
       "      <th>0</th>\n",
       "      <td>Deadlock on table view</td>\n",
       "      <td>Hi! deadlock on Landing Zone PIQTELCO_TELCO.CD...</td>\n",
       "      <td>25</td>\n",
       "      <td>32</td>\n",
       "      <td>0</td>\n",
       "      <td>0</td>\n",
       "      <td>0</td>\n",
       "    </tr>\n",
       "    <tr>\n",
       "      <th>1</th>\n",
       "      <td>One ERDM table missing GSA and COS files</td>\n",
       "      <td>ERDM table REFT_OFFERING_GTM_STATUS is missing...</td>\n",
       "      <td>13</td>\n",
       "      <td>13</td>\n",
       "      <td>0</td>\n",
       "      <td>0</td>\n",
       "      <td>0</td>\n",
       "    </tr>\n",
       "  </tbody>\n",
       "</table>\n",
       "</div>"
      ],
      "text/plain": [
       "                                    Summary  \\\n",
       "0                    Deadlock on table view   \n",
       "1  One ERDM table missing GSA and COS files   \n",
       "\n",
       "                                         Description  Component/s  Labels  \\\n",
       "0  Hi! deadlock on Landing Zone PIQTELCO_TELCO.CD...           25      32   \n",
       "1  ERDM table REFT_OFFERING_GTM_STATUS is missing...           13      13   \n",
       "\n",
       "   Issue_Type_Question  Issue_Type_Service_Request  \\\n",
       "0                    0                           0   \n",
       "1                    0                           0   \n",
       "\n",
       "   Issue_Type_Service_Request_Approvals  \n",
       "0                                     0  \n",
       "1                                     0  "
      ]
     },
     "execution_count": 47,
     "metadata": {},
     "output_type": "execute_result"
    }
   ],
   "source": [
    "X=df_ticket[['Summary','Description','Component/s','Labels','Issue_Type_Question','Issue_Type_Service_Request','Issue_Type_Service_Request_Approvals']]\n",
    "X.head(2)"
   ]
  },
  {
   "cell_type": "code",
   "execution_count": 48,
   "metadata": {
    "id": "d6d44206067549d08bd9cf72b08f3f95"
   },
   "outputs": [
    {
     "data": {
      "text/plain": [
       "0    1\n",
       "1    9\n",
       "Name: AssigneeTeam, dtype: int64"
      ]
     },
     "execution_count": 48,
     "metadata": {},
     "output_type": "execute_result"
    }
   ],
   "source": [
    "Y=df_ticket['AssigneeTeam']\n",
    "Y.head(2)"
   ]
  },
  {
   "cell_type": "code",
   "execution_count": 49,
   "metadata": {
    "id": "o3KT-he5IY4j"
   },
   "outputs": [
    {
     "name": "stdout",
     "output_type": "stream",
     "text": [
      "<class 'str'>\n",
      "Deadlock on table view Hi! deadlock on Landing Zone PIQTELCO_TELCO.CDO_TELCO_FINAL_CURRENT_N view avoid us to update it (drop and create it again using a new statement)  25 32 0 0 0\n"
     ]
    }
   ],
   "source": [
    "# Joining all columns' value of X \n",
    "\n",
    "Text=[]\n",
    "for i in range(X.shape[0]):\n",
    "    Text.append(' '.join(str(tx) for tx in X.iloc[i,:]))\n",
    "    \n",
    "print(type(Text[0]))\n",
    "print(Text[0])"
   ]
  },
  {
   "cell_type": "markdown",
   "metadata": {
    "id": "7bc61994ee12490d999a2ec23431d6a7"
   },
   "source": [
    "### Text analysis "
   ]
  },
  {
   "cell_type": "code",
   "execution_count": 50,
   "metadata": {},
   "outputs": [
    {
     "name": "stderr",
     "output_type": "stream",
     "text": [
      "[nltk_data] Downloading collection 'all'\n",
      "[nltk_data]    | \n",
      "[nltk_data]    | Downloading package abc to C:\\Users\\KrishnenduGhorui\\\n",
      "[nltk_data]    |     AppData\\Roaming\\nltk_data...\n",
      "[nltk_data]    |   Package abc is already up-to-date!\n",
      "[nltk_data]    | Downloading package alpino to C:\\Users\\KrishnenduGhor\n",
      "[nltk_data]    |     ui\\AppData\\Roaming\\nltk_data...\n",
      "[nltk_data]    |   Package alpino is already up-to-date!\n",
      "[nltk_data]    | Downloading package averaged_perceptron_tagger to C:\\\n",
      "[nltk_data]    |     Users\\KrishnenduGhorui\\AppData\\Roaming\\nltk_data.\n",
      "[nltk_data]    |     ..\n",
      "[nltk_data]    |   Package averaged_perceptron_tagger is already up-\n",
      "[nltk_data]    |       to-date!\n",
      "[nltk_data]    | Downloading package averaged_perceptron_tagger_ru to \n",
      "[nltk_data]    |     C:\\Users\\KrishnenduGhorui\\AppData\\Roaming\\nltk_da\n",
      "[nltk_data]    |     ta...\n",
      "[nltk_data]    |   Package averaged_perceptron_tagger_ru is already\n",
      "[nltk_data]    |       up-to-date!\n",
      "[nltk_data]    | Downloading package basque_grammars to C:\\Users\\Krish\n",
      "[nltk_data]    |     nenduGhorui\\AppData\\Roaming\\nltk_data...\n",
      "[nltk_data]    |   Package basque_grammars is already up-to-date!\n",
      "[nltk_data]    | Downloading package biocreative_ppi to C:\\Users\\Krish\n",
      "[nltk_data]    |     nenduGhorui\\AppData\\Roaming\\nltk_data...\n",
      "[nltk_data]    |   Package biocreative_ppi is already up-to-date!\n",
      "[nltk_data]    | Downloading package bllip_wsj_no_aux to C:\\Users\\Kris\n",
      "[nltk_data]    |     hnenduGhorui\\AppData\\Roaming\\nltk_data...\n",
      "[nltk_data]    |   Package bllip_wsj_no_aux is already up-to-date!\n",
      "[nltk_data]    | Downloading package book_grammars to C:\\Users\\Krishne\n",
      "[nltk_data]    |     nduGhorui\\AppData\\Roaming\\nltk_data...\n",
      "[nltk_data]    |   Package book_grammars is already up-to-date!\n",
      "[nltk_data]    | Downloading package brown to C:\\Users\\KrishnenduGhoru\n",
      "[nltk_data]    |     i\\AppData\\Roaming\\nltk_data...\n",
      "[nltk_data]    |   Package brown is already up-to-date!\n",
      "[nltk_data]    | Downloading package brown_tei to C:\\Users\\KrishnenduG\n",
      "[nltk_data]    |     horui\\AppData\\Roaming\\nltk_data...\n",
      "[nltk_data]    |   Package brown_tei is already up-to-date!\n",
      "[nltk_data]    | Downloading package cess_cat to C:\\Users\\KrishnenduGh\n",
      "[nltk_data]    |     orui\\AppData\\Roaming\\nltk_data...\n",
      "[nltk_data]    |   Package cess_cat is already up-to-date!\n",
      "[nltk_data]    | Downloading package cess_esp to C:\\Users\\KrishnenduGh\n",
      "[nltk_data]    |     orui\\AppData\\Roaming\\nltk_data...\n",
      "[nltk_data]    |   Package cess_esp is already up-to-date!\n",
      "[nltk_data]    | Downloading package chat80 to C:\\Users\\KrishnenduGhor\n",
      "[nltk_data]    |     ui\\AppData\\Roaming\\nltk_data...\n",
      "[nltk_data]    |   Package chat80 is already up-to-date!\n",
      "[nltk_data]    | Downloading package city_database to C:\\Users\\Krishne\n",
      "[nltk_data]    |     nduGhorui\\AppData\\Roaming\\nltk_data...\n",
      "[nltk_data]    |   Package city_database is already up-to-date!\n",
      "[nltk_data]    | Downloading package cmudict to C:\\Users\\KrishnenduGho\n",
      "[nltk_data]    |     rui\\AppData\\Roaming\\nltk_data...\n",
      "[nltk_data]    |   Package cmudict is already up-to-date!\n",
      "[nltk_data]    | Downloading package comparative_sentences to C:\\Users\n",
      "[nltk_data]    |     \\KrishnenduGhorui\\AppData\\Roaming\\nltk_data...\n",
      "[nltk_data]    |   Package comparative_sentences is already up-to-\n",
      "[nltk_data]    |       date!\n",
      "[nltk_data]    | Downloading package comtrans to C:\\Users\\KrishnenduGh\n",
      "[nltk_data]    |     orui\\AppData\\Roaming\\nltk_data...\n",
      "[nltk_data]    |   Package comtrans is already up-to-date!\n",
      "[nltk_data]    | Downloading package conll2000 to C:\\Users\\KrishnenduG\n",
      "[nltk_data]    |     horui\\AppData\\Roaming\\nltk_data...\n",
      "[nltk_data]    |   Package conll2000 is already up-to-date!\n",
      "[nltk_data]    | Downloading package conll2002 to C:\\Users\\KrishnenduG\n",
      "[nltk_data]    |     horui\\AppData\\Roaming\\nltk_data...\n",
      "[nltk_data]    |   Package conll2002 is already up-to-date!\n",
      "[nltk_data]    | Downloading package conll2007 to C:\\Users\\KrishnenduG\n",
      "[nltk_data]    |     horui\\AppData\\Roaming\\nltk_data...\n",
      "[nltk_data]    |   Package conll2007 is already up-to-date!\n",
      "[nltk_data]    | Downloading package crubadan to C:\\Users\\KrishnenduGh\n",
      "[nltk_data]    |     orui\\AppData\\Roaming\\nltk_data...\n",
      "[nltk_data]    |   Package crubadan is already up-to-date!\n",
      "[nltk_data]    | Downloading package dependency_treebank to C:\\Users\\K\n",
      "[nltk_data]    |     rishnenduGhorui\\AppData\\Roaming\\nltk_data...\n",
      "[nltk_data]    |   Package dependency_treebank is already up-to-date!\n",
      "[nltk_data]    | Downloading package dolch to C:\\Users\\KrishnenduGhoru\n",
      "[nltk_data]    |     i\\AppData\\Roaming\\nltk_data...\n",
      "[nltk_data]    |   Package dolch is already up-to-date!\n",
      "[nltk_data]    | Downloading package europarl_raw to C:\\Users\\Krishnen\n",
      "[nltk_data]    |     duGhorui\\AppData\\Roaming\\nltk_data...\n",
      "[nltk_data]    |   Package europarl_raw is already up-to-date!\n",
      "[nltk_data]    | Downloading package extended_omw to C:\\Users\\Krishnen\n",
      "[nltk_data]    |     duGhorui\\AppData\\Roaming\\nltk_data...\n",
      "[nltk_data]    |   Package extended_omw is already up-to-date!\n",
      "[nltk_data]    | Downloading package floresta to C:\\Users\\KrishnenduGh\n",
      "[nltk_data]    |     orui\\AppData\\Roaming\\nltk_data...\n",
      "[nltk_data]    |   Package floresta is already up-to-date!\n",
      "[nltk_data]    | Downloading package framenet_v15 to C:\\Users\\Krishnen\n",
      "[nltk_data]    |     duGhorui\\AppData\\Roaming\\nltk_data...\n",
      "[nltk_data]    |   Package framenet_v15 is already up-to-date!\n",
      "[nltk_data]    | Downloading package framenet_v17 to C:\\Users\\Krishnen\n",
      "[nltk_data]    |     duGhorui\\AppData\\Roaming\\nltk_data...\n",
      "[nltk_data]    |   Package framenet_v17 is already up-to-date!\n",
      "[nltk_data]    | Downloading package gazetteers to C:\\Users\\Krishnendu\n",
      "[nltk_data]    |     Ghorui\\AppData\\Roaming\\nltk_data...\n",
      "[nltk_data]    |   Package gazetteers is already up-to-date!\n",
      "[nltk_data]    | Downloading package genesis to C:\\Users\\KrishnenduGho\n",
      "[nltk_data]    |     rui\\AppData\\Roaming\\nltk_data...\n",
      "[nltk_data]    |   Package genesis is already up-to-date!\n",
      "[nltk_data]    | Downloading package gutenberg to C:\\Users\\KrishnenduG\n",
      "[nltk_data]    |     horui\\AppData\\Roaming\\nltk_data...\n",
      "[nltk_data]    |   Package gutenberg is already up-to-date!\n",
      "[nltk_data]    | Downloading package ieer to C:\\Users\\KrishnenduGhorui\n",
      "[nltk_data]    |     \\AppData\\Roaming\\nltk_data...\n",
      "[nltk_data]    |   Package ieer is already up-to-date!\n",
      "[nltk_data]    | Downloading package inaugural to C:\\Users\\KrishnenduG\n",
      "[nltk_data]    |     horui\\AppData\\Roaming\\nltk_data...\n",
      "[nltk_data]    |   Package inaugural is already up-to-date!\n",
      "[nltk_data]    | Downloading package indian to C:\\Users\\KrishnenduGhor\n",
      "[nltk_data]    |     ui\\AppData\\Roaming\\nltk_data...\n",
      "[nltk_data]    |   Package indian is already up-to-date!\n",
      "[nltk_data]    | Downloading package jeita to C:\\Users\\KrishnenduGhoru\n",
      "[nltk_data]    |     i\\AppData\\Roaming\\nltk_data...\n",
      "[nltk_data]    |   Package jeita is already up-to-date!\n",
      "[nltk_data]    | Downloading package kimmo to C:\\Users\\KrishnenduGhoru\n",
      "[nltk_data]    |     i\\AppData\\Roaming\\nltk_data...\n",
      "[nltk_data]    |   Package kimmo is already up-to-date!\n",
      "[nltk_data]    | Downloading package knbc to C:\\Users\\KrishnenduGhorui\n",
      "[nltk_data]    |     \\AppData\\Roaming\\nltk_data...\n",
      "[nltk_data]    |   Package knbc is already up-to-date!\n",
      "[nltk_data]    | Downloading package large_grammars to C:\\Users\\Krishn\n",
      "[nltk_data]    |     enduGhorui\\AppData\\Roaming\\nltk_data...\n",
      "[nltk_data]    |   Package large_grammars is already up-to-date!\n",
      "[nltk_data]    | Downloading package lin_thesaurus to C:\\Users\\Krishne\n",
      "[nltk_data]    |     nduGhorui\\AppData\\Roaming\\nltk_data...\n",
      "[nltk_data]    |   Package lin_thesaurus is already up-to-date!\n",
      "[nltk_data]    | Downloading package mac_morpho to C:\\Users\\Krishnendu\n",
      "[nltk_data]    |     Ghorui\\AppData\\Roaming\\nltk_data...\n",
      "[nltk_data]    |   Package mac_morpho is already up-to-date!\n",
      "[nltk_data]    | Downloading package machado to C:\\Users\\KrishnenduGho\n",
      "[nltk_data]    |     rui\\AppData\\Roaming\\nltk_data...\n",
      "[nltk_data]    |   Package machado is already up-to-date!\n",
      "[nltk_data]    | Downloading package masc_tagged to C:\\Users\\Krishnend\n",
      "[nltk_data]    |     uGhorui\\AppData\\Roaming\\nltk_data...\n",
      "[nltk_data]    |   Package masc_tagged is already up-to-date!\n",
      "[nltk_data]    | Downloading package maxent_ne_chunker to C:\\Users\\Kri\n",
      "[nltk_data]    |     shnenduGhorui\\AppData\\Roaming\\nltk_data...\n",
      "[nltk_data]    |   Package maxent_ne_chunker is already up-to-date!\n",
      "[nltk_data]    | Downloading package maxent_treebank_pos_tagger to C:\\\n",
      "[nltk_data]    |     Users\\KrishnenduGhorui\\AppData\\Roaming\\nltk_data.\n",
      "[nltk_data]    |     ..\n",
      "[nltk_data]    |   Package maxent_treebank_pos_tagger is already up-\n",
      "[nltk_data]    |       to-date!\n",
      "[nltk_data]    | Downloading package moses_sample to C:\\Users\\Krishnen\n",
      "[nltk_data]    |     duGhorui\\AppData\\Roaming\\nltk_data...\n"
     ]
    },
    {
     "name": "stderr",
     "output_type": "stream",
     "text": [
      "[nltk_data]    |   Package moses_sample is already up-to-date!\n",
      "[nltk_data]    | Downloading package movie_reviews to C:\\Users\\Krishne\n",
      "[nltk_data]    |     nduGhorui\\AppData\\Roaming\\nltk_data...\n",
      "[nltk_data]    |   Package movie_reviews is already up-to-date!\n",
      "[nltk_data]    | Downloading package mte_teip5 to C:\\Users\\KrishnenduG\n",
      "[nltk_data]    |     horui\\AppData\\Roaming\\nltk_data...\n",
      "[nltk_data]    |   Package mte_teip5 is already up-to-date!\n",
      "[nltk_data]    | Downloading package mwa_ppdb to C:\\Users\\KrishnenduGh\n",
      "[nltk_data]    |     orui\\AppData\\Roaming\\nltk_data...\n",
      "[nltk_data]    |   Package mwa_ppdb is already up-to-date!\n",
      "[nltk_data]    | Downloading package names to C:\\Users\\KrishnenduGhoru\n",
      "[nltk_data]    |     i\\AppData\\Roaming\\nltk_data...\n",
      "[nltk_data]    |   Package names is already up-to-date!\n",
      "[nltk_data]    | Downloading package nombank.1.0 to C:\\Users\\Krishnend\n",
      "[nltk_data]    |     uGhorui\\AppData\\Roaming\\nltk_data...\n",
      "[nltk_data]    |   Package nombank.1.0 is already up-to-date!\n",
      "[nltk_data]    | Downloading package nonbreaking_prefixes to C:\\Users\\\n",
      "[nltk_data]    |     KrishnenduGhorui\\AppData\\Roaming\\nltk_data...\n",
      "[nltk_data]    |   Package nonbreaking_prefixes is already up-to-date!\n",
      "[nltk_data]    | Downloading package nps_chat to C:\\Users\\KrishnenduGh\n",
      "[nltk_data]    |     orui\\AppData\\Roaming\\nltk_data...\n",
      "[nltk_data]    |   Package nps_chat is already up-to-date!\n",
      "[nltk_data]    | Downloading package omw to C:\\Users\\KrishnenduGhorui\\\n",
      "[nltk_data]    |     AppData\\Roaming\\nltk_data...\n",
      "[nltk_data]    |   Package omw is already up-to-date!\n",
      "[nltk_data]    | Downloading package omw-1.4 to C:\\Users\\KrishnenduGho\n",
      "[nltk_data]    |     rui\\AppData\\Roaming\\nltk_data...\n",
      "[nltk_data]    |   Package omw-1.4 is already up-to-date!\n",
      "[nltk_data]    | Downloading package opinion_lexicon to C:\\Users\\Krish\n",
      "[nltk_data]    |     nenduGhorui\\AppData\\Roaming\\nltk_data...\n",
      "[nltk_data]    |   Package opinion_lexicon is already up-to-date!\n",
      "[nltk_data]    | Downloading package panlex_swadesh to C:\\Users\\Krishn\n",
      "[nltk_data]    |     enduGhorui\\AppData\\Roaming\\nltk_data...\n",
      "[nltk_data]    |   Package panlex_swadesh is already up-to-date!\n",
      "[nltk_data]    | Downloading package paradigms to C:\\Users\\KrishnenduG\n",
      "[nltk_data]    |     horui\\AppData\\Roaming\\nltk_data...\n",
      "[nltk_data]    |   Package paradigms is already up-to-date!\n",
      "[nltk_data]    | Downloading package pe08 to C:\\Users\\KrishnenduGhorui\n",
      "[nltk_data]    |     \\AppData\\Roaming\\nltk_data...\n",
      "[nltk_data]    |   Package pe08 is already up-to-date!\n",
      "[nltk_data]    | Downloading package perluniprops to C:\\Users\\Krishnen\n",
      "[nltk_data]    |     duGhorui\\AppData\\Roaming\\nltk_data...\n",
      "[nltk_data]    |   Package perluniprops is already up-to-date!\n",
      "[nltk_data]    | Downloading package pil to C:\\Users\\KrishnenduGhorui\\\n",
      "[nltk_data]    |     AppData\\Roaming\\nltk_data...\n",
      "[nltk_data]    |   Package pil is already up-to-date!\n",
      "[nltk_data]    | Downloading package pl196x to C:\\Users\\KrishnenduGhor\n",
      "[nltk_data]    |     ui\\AppData\\Roaming\\nltk_data...\n",
      "[nltk_data]    |   Package pl196x is already up-to-date!\n",
      "[nltk_data]    | Downloading package porter_test to C:\\Users\\Krishnend\n",
      "[nltk_data]    |     uGhorui\\AppData\\Roaming\\nltk_data...\n",
      "[nltk_data]    |   Package porter_test is already up-to-date!\n",
      "[nltk_data]    | Downloading package ppattach to C:\\Users\\KrishnenduGh\n",
      "[nltk_data]    |     orui\\AppData\\Roaming\\nltk_data...\n",
      "[nltk_data]    |   Package ppattach is already up-to-date!\n",
      "[nltk_data]    | Downloading package problem_reports to C:\\Users\\Krish\n",
      "[nltk_data]    |     nenduGhorui\\AppData\\Roaming\\nltk_data...\n",
      "[nltk_data]    |   Package problem_reports is already up-to-date!\n",
      "[nltk_data]    | Downloading package product_reviews_1 to C:\\Users\\Kri\n",
      "[nltk_data]    |     shnenduGhorui\\AppData\\Roaming\\nltk_data...\n",
      "[nltk_data]    |   Package product_reviews_1 is already up-to-date!\n",
      "[nltk_data]    | Downloading package product_reviews_2 to C:\\Users\\Kri\n",
      "[nltk_data]    |     shnenduGhorui\\AppData\\Roaming\\nltk_data...\n",
      "[nltk_data]    |   Package product_reviews_2 is already up-to-date!\n",
      "[nltk_data]    | Downloading package propbank to C:\\Users\\KrishnenduGh\n",
      "[nltk_data]    |     orui\\AppData\\Roaming\\nltk_data...\n",
      "[nltk_data]    |   Package propbank is already up-to-date!\n",
      "[nltk_data]    | Downloading package pros_cons to C:\\Users\\KrishnenduG\n",
      "[nltk_data]    |     horui\\AppData\\Roaming\\nltk_data...\n",
      "[nltk_data]    |   Package pros_cons is already up-to-date!\n",
      "[nltk_data]    | Downloading package ptb to C:\\Users\\KrishnenduGhorui\\\n",
      "[nltk_data]    |     AppData\\Roaming\\nltk_data...\n",
      "[nltk_data]    |   Package ptb is already up-to-date!\n",
      "[nltk_data]    | Downloading package punkt to C:\\Users\\KrishnenduGhoru\n",
      "[nltk_data]    |     i\\AppData\\Roaming\\nltk_data...\n",
      "[nltk_data]    |   Package punkt is already up-to-date!\n",
      "[nltk_data]    | Downloading package qc to C:\\Users\\KrishnenduGhorui\\A\n",
      "[nltk_data]    |     ppData\\Roaming\\nltk_data...\n",
      "[nltk_data]    |   Package qc is already up-to-date!\n",
      "[nltk_data]    | Downloading package reuters to C:\\Users\\KrishnenduGho\n",
      "[nltk_data]    |     rui\\AppData\\Roaming\\nltk_data...\n",
      "[nltk_data]    |   Package reuters is already up-to-date!\n",
      "[nltk_data]    | Downloading package rslp to C:\\Users\\KrishnenduGhorui\n",
      "[nltk_data]    |     \\AppData\\Roaming\\nltk_data...\n",
      "[nltk_data]    |   Package rslp is already up-to-date!\n",
      "[nltk_data]    | Downloading package rte to C:\\Users\\KrishnenduGhorui\\\n",
      "[nltk_data]    |     AppData\\Roaming\\nltk_data...\n",
      "[nltk_data]    |   Package rte is already up-to-date!\n",
      "[nltk_data]    | Downloading package sample_grammars to C:\\Users\\Krish\n",
      "[nltk_data]    |     nenduGhorui\\AppData\\Roaming\\nltk_data...\n",
      "[nltk_data]    |   Package sample_grammars is already up-to-date!\n",
      "[nltk_data]    | Downloading package semcor to C:\\Users\\KrishnenduGhor\n",
      "[nltk_data]    |     ui\\AppData\\Roaming\\nltk_data...\n",
      "[nltk_data]    |   Package semcor is already up-to-date!\n",
      "[nltk_data]    | Downloading package senseval to C:\\Users\\KrishnenduGh\n",
      "[nltk_data]    |     orui\\AppData\\Roaming\\nltk_data...\n",
      "[nltk_data]    |   Package senseval is already up-to-date!\n",
      "[nltk_data]    | Downloading package sentence_polarity to C:\\Users\\Kri\n",
      "[nltk_data]    |     shnenduGhorui\\AppData\\Roaming\\nltk_data...\n",
      "[nltk_data]    |   Package sentence_polarity is already up-to-date!\n",
      "[nltk_data]    | Downloading package sentiwordnet to C:\\Users\\Krishnen\n",
      "[nltk_data]    |     duGhorui\\AppData\\Roaming\\nltk_data...\n",
      "[nltk_data]    |   Package sentiwordnet is already up-to-date!\n",
      "[nltk_data]    | Downloading package shakespeare to C:\\Users\\Krishnend\n",
      "[nltk_data]    |     uGhorui\\AppData\\Roaming\\nltk_data...\n",
      "[nltk_data]    |   Package shakespeare is already up-to-date!\n",
      "[nltk_data]    | Downloading package sinica_treebank to C:\\Users\\Krish\n",
      "[nltk_data]    |     nenduGhorui\\AppData\\Roaming\\nltk_data...\n",
      "[nltk_data]    |   Package sinica_treebank is already up-to-date!\n",
      "[nltk_data]    | Downloading package smultron to C:\\Users\\KrishnenduGh\n",
      "[nltk_data]    |     orui\\AppData\\Roaming\\nltk_data...\n",
      "[nltk_data]    |   Package smultron is already up-to-date!\n",
      "[nltk_data]    | Downloading package snowball_data to C:\\Users\\Krishne\n",
      "[nltk_data]    |     nduGhorui\\AppData\\Roaming\\nltk_data...\n",
      "[nltk_data]    |   Package snowball_data is already up-to-date!\n",
      "[nltk_data]    | Downloading package spanish_grammars to C:\\Users\\Kris\n",
      "[nltk_data]    |     hnenduGhorui\\AppData\\Roaming\\nltk_data...\n",
      "[nltk_data]    |   Package spanish_grammars is already up-to-date!\n",
      "[nltk_data]    | Downloading package state_union to C:\\Users\\Krishnend\n",
      "[nltk_data]    |     uGhorui\\AppData\\Roaming\\nltk_data...\n",
      "[nltk_data]    |   Package state_union is already up-to-date!\n",
      "[nltk_data]    | Downloading package stopwords to C:\\Users\\KrishnenduG\n",
      "[nltk_data]    |     horui\\AppData\\Roaming\\nltk_data...\n",
      "[nltk_data]    |   Package stopwords is already up-to-date!\n",
      "[nltk_data]    | Downloading package subjectivity to C:\\Users\\Krishnen\n",
      "[nltk_data]    |     duGhorui\\AppData\\Roaming\\nltk_data...\n",
      "[nltk_data]    |   Package subjectivity is already up-to-date!\n",
      "[nltk_data]    | Downloading package swadesh to C:\\Users\\KrishnenduGho\n",
      "[nltk_data]    |     rui\\AppData\\Roaming\\nltk_data...\n",
      "[nltk_data]    |   Package swadesh is already up-to-date!\n",
      "[nltk_data]    | Downloading package switchboard to C:\\Users\\Krishnend\n",
      "[nltk_data]    |     uGhorui\\AppData\\Roaming\\nltk_data...\n",
      "[nltk_data]    |   Package switchboard is already up-to-date!\n",
      "[nltk_data]    | Downloading package tagsets to C:\\Users\\KrishnenduGho\n",
      "[nltk_data]    |     rui\\AppData\\Roaming\\nltk_data...\n",
      "[nltk_data]    |   Package tagsets is already up-to-date!\n",
      "[nltk_data]    | Downloading package timit to C:\\Users\\KrishnenduGhoru\n",
      "[nltk_data]    |     i\\AppData\\Roaming\\nltk_data...\n"
     ]
    },
    {
     "name": "stderr",
     "output_type": "stream",
     "text": [
      "[nltk_data]    |   Package timit is already up-to-date!\n",
      "[nltk_data]    | Downloading package toolbox to C:\\Users\\KrishnenduGho\n",
      "[nltk_data]    |     rui\\AppData\\Roaming\\nltk_data...\n",
      "[nltk_data]    |   Package toolbox is already up-to-date!\n",
      "[nltk_data]    | Downloading package treebank to C:\\Users\\KrishnenduGh\n",
      "[nltk_data]    |     orui\\AppData\\Roaming\\nltk_data...\n",
      "[nltk_data]    |   Package treebank is already up-to-date!\n",
      "[nltk_data]    | Downloading package twitter_samples to C:\\Users\\Krish\n",
      "[nltk_data]    |     nenduGhorui\\AppData\\Roaming\\nltk_data...\n",
      "[nltk_data]    |   Package twitter_samples is already up-to-date!\n",
      "[nltk_data]    | Downloading package udhr to C:\\Users\\KrishnenduGhorui\n",
      "[nltk_data]    |     \\AppData\\Roaming\\nltk_data...\n",
      "[nltk_data]    |   Package udhr is already up-to-date!\n",
      "[nltk_data]    | Downloading package udhr2 to C:\\Users\\KrishnenduGhoru\n",
      "[nltk_data]    |     i\\AppData\\Roaming\\nltk_data...\n",
      "[nltk_data]    |   Package udhr2 is already up-to-date!\n",
      "[nltk_data]    | Downloading package unicode_samples to C:\\Users\\Krish\n",
      "[nltk_data]    |     nenduGhorui\\AppData\\Roaming\\nltk_data...\n",
      "[nltk_data]    |   Package unicode_samples is already up-to-date!\n",
      "[nltk_data]    | Downloading package universal_tagset to C:\\Users\\Kris\n",
      "[nltk_data]    |     hnenduGhorui\\AppData\\Roaming\\nltk_data...\n",
      "[nltk_data]    |   Package universal_tagset is already up-to-date!\n",
      "[nltk_data]    | Downloading package universal_treebanks_v20 to C:\\Use\n",
      "[nltk_data]    |     rs\\KrishnenduGhorui\\AppData\\Roaming\\nltk_data...\n",
      "[nltk_data]    |   Package universal_treebanks_v20 is already up-to-\n",
      "[nltk_data]    |       date!\n",
      "[nltk_data]    | Downloading package vader_lexicon to C:\\Users\\Krishne\n",
      "[nltk_data]    |     nduGhorui\\AppData\\Roaming\\nltk_data...\n",
      "[nltk_data]    |   Package vader_lexicon is already up-to-date!\n",
      "[nltk_data]    | Downloading package verbnet to C:\\Users\\KrishnenduGho\n",
      "[nltk_data]    |     rui\\AppData\\Roaming\\nltk_data...\n",
      "[nltk_data]    |   Package verbnet is already up-to-date!\n",
      "[nltk_data]    | Downloading package verbnet3 to C:\\Users\\KrishnenduGh\n",
      "[nltk_data]    |     orui\\AppData\\Roaming\\nltk_data...\n",
      "[nltk_data]    |   Package verbnet3 is already up-to-date!\n",
      "[nltk_data]    | Downloading package webtext to C:\\Users\\KrishnenduGho\n",
      "[nltk_data]    |     rui\\AppData\\Roaming\\nltk_data...\n",
      "[nltk_data]    |   Package webtext is already up-to-date!\n",
      "[nltk_data]    | Downloading package wmt15_eval to C:\\Users\\Krishnendu\n",
      "[nltk_data]    |     Ghorui\\AppData\\Roaming\\nltk_data...\n",
      "[nltk_data]    |   Package wmt15_eval is already up-to-date!\n",
      "[nltk_data]    | Downloading package word2vec_sample to C:\\Users\\Krish\n",
      "[nltk_data]    |     nenduGhorui\\AppData\\Roaming\\nltk_data...\n",
      "[nltk_data]    |   Package word2vec_sample is already up-to-date!\n",
      "[nltk_data]    | Downloading package wordnet to C:\\Users\\KrishnenduGho\n",
      "[nltk_data]    |     rui\\AppData\\Roaming\\nltk_data...\n",
      "[nltk_data]    |   Package wordnet is already up-to-date!\n",
      "[nltk_data]    | Downloading package wordnet2021 to C:\\Users\\Krishnend\n",
      "[nltk_data]    |     uGhorui\\AppData\\Roaming\\nltk_data...\n",
      "[nltk_data]    |   Package wordnet2021 is already up-to-date!\n",
      "[nltk_data]    | Downloading package wordnet31 to C:\\Users\\KrishnenduG\n",
      "[nltk_data]    |     horui\\AppData\\Roaming\\nltk_data...\n",
      "[nltk_data]    |   Package wordnet31 is already up-to-date!\n",
      "[nltk_data]    | Downloading package wordnet_ic to C:\\Users\\Krishnendu\n",
      "[nltk_data]    |     Ghorui\\AppData\\Roaming\\nltk_data...\n",
      "[nltk_data]    |   Package wordnet_ic is already up-to-date!\n",
      "[nltk_data]    | Downloading package words to C:\\Users\\KrishnenduGhoru\n",
      "[nltk_data]    |     i\\AppData\\Roaming\\nltk_data...\n",
      "[nltk_data]    |   Package words is already up-to-date!\n",
      "[nltk_data]    | Downloading package ycoe to C:\\Users\\KrishnenduGhorui\n",
      "[nltk_data]    |     \\AppData\\Roaming\\nltk_data...\n",
      "[nltk_data]    |   Package ycoe is already up-to-date!\n",
      "[nltk_data]    | \n",
      "[nltk_data]  Done downloading collection all\n"
     ]
    },
    {
     "data": {
      "text/plain": [
       "True"
      ]
     },
     "execution_count": 50,
     "metadata": {},
     "output_type": "execute_result"
    }
   ],
   "source": [
    "nltk.download('all')"
   ]
  },
  {
   "cell_type": "code",
   "execution_count": 51,
   "metadata": {
    "id": "72fcbb19a027447babce63aad8e1eee5"
   },
   "outputs": [],
   "source": [
    "from nltk.stem import WordNetLemmatizer\n",
    "lemmatizer=WordNetLemmatizer()\n",
    "from nltk.corpus import stopwords"
   ]
  },
  {
   "cell_type": "code",
   "execution_count": 52,
   "metadata": {
    "id": "tnOQpjDeIYzO"
   },
   "outputs": [],
   "source": [
    "# text cleaning \n",
    "\n",
    "for i in range(X.shape[0]):\n",
    "    Text[i]=Text[i].lower()\n",
    "    Text[i]=re.sub('[\\r\\n]',' ',Text[i])\n",
    "    Text[i]=re.sub('[^0-9a-zA-Z]',' ',Text[i])\n",
    "    Text[i]=Text[i].split()\n",
    "    Text[i]=[lemmatizer.lemmatize(word) for word in Text[i] if word not in set (stopwords.words('english'))]\n",
    "    Text[i]=' '.join(Text[i])"
   ]
  },
  {
   "cell_type": "code",
   "execution_count": 53,
   "metadata": {
    "colab": {
     "base_uri": "https://localhost:8080/",
     "height": 53
    },
    "id": "A7QAQCGRIYwa",
    "outputId": "18df3312-fa12-4231-9a54-fdbcd5cece6b"
   },
   "outputs": [
    {
     "data": {
      "text/plain": [
       "'deadlock table view hi deadlock landing zone piqtelco telco cdo telco final current n view avoid u update drop create using new statement 25 32 0 0 0'"
      ]
     },
     "execution_count": 53,
     "metadata": {},
     "output_type": "execute_result"
    }
   ],
   "source": [
    "Text[0]"
   ]
  },
  {
   "cell_type": "code",
   "execution_count": 54,
   "metadata": {
    "id": "SKtBt7KkIYuf"
   },
   "outputs": [
    {
     "data": {
      "text/plain": [
       "TfidfVectorizer()"
      ]
     },
     "execution_count": 54,
     "metadata": {},
     "output_type": "execute_result"
    }
   ],
   "source": [
    "# Having Tfidf Vectorizer for converting text to numerical value \n",
    "\n",
    "from sklearn.feature_extraction.text import TfidfVectorizer\n",
    "vect_tfidf=TfidfVectorizer()\n",
    "vect_tfidf.fit(Text)"
   ]
  },
  {
   "cell_type": "code",
   "execution_count": 55,
   "metadata": {
    "id": "lF4Tc3xC1BhK"
   },
   "outputs": [
    {
     "data": {
      "text/plain": [
       "(4683,)"
      ]
     },
     "execution_count": 55,
     "metadata": {},
     "output_type": "execute_result"
    }
   ],
   "source": [
    "len(Text)\n",
    "Y.shape"
   ]
  },
  {
   "cell_type": "code",
   "execution_count": 56,
   "metadata": {
    "id": "P4lAdi5IIYmD"
   },
   "outputs": [
    {
     "name": "stdout",
     "output_type": "stream",
     "text": [
      "3746 (3746,)\n",
      "937 (937,)\n"
     ]
    }
   ],
   "source": [
    "# Splitting whole data set into training and test data\n",
    "\n",
    "from sklearn.model_selection import train_test_split\n",
    "x_train,x_test,y_train,y_test=train_test_split(Text,Y,train_size=.8,random_state=42)\n",
    "\n",
    "print(len(x_train),y_train.shape)\n",
    "print(len(x_test),y_test.shape)"
   ]
  },
  {
   "cell_type": "code",
   "execution_count": 57,
   "metadata": {
    "id": "04781d12d7f546a085fc873c4a883d7e"
   },
   "outputs": [],
   "source": [
    "# Converting train and test data to numeracal (vector) form \n",
    "\n",
    "x_train=vect_tfidf.transform(x_train).toarray()\n",
    "x_test=vect_tfidf.transform(x_test).toarray()"
   ]
  },
  {
   "cell_type": "code",
   "execution_count": 58,
   "metadata": {
    "id": "a9a81768f2694aa3b1defefac4d81a23",
    "scrolled": true
   },
   "outputs": [
    {
     "name": "stdout",
     "output_type": "stream",
     "text": [
      "(3746, 14590) (937, 14590)\n",
      "(3746,) (937,)\n",
      "[[0. 0. 0. ... 0. 0. 0.]\n",
      " [0. 0. 0. ... 0. 0. 0.]\n",
      " [0. 0. 0. ... 0. 0. 0.]\n",
      " ...\n",
      " [0. 0. 0. ... 0. 0. 0.]\n",
      " [0. 0. 0. ... 0. 0. 0.]\n",
      " [0. 0. 0. ... 0. 0. 0.]]\n",
      "[[0. 0. 0. ... 0. 0. 0.]\n",
      " [0. 0. 0. ... 0. 0. 0.]\n",
      " [0. 0. 0. ... 0. 0. 0.]\n",
      " ...\n",
      " [0. 0. 0. ... 0. 0. 0.]\n",
      " [0. 0. 0. ... 0. 0. 0.]\n",
      " [0. 0. 0. ... 0. 0. 0.]]\n",
      "2080    2\n",
      "1309    3\n",
      "Name: AssigneeTeam, dtype: int64\n"
     ]
    }
   ],
   "source": [
    "print(x_train.shape,x_test.shape)\n",
    "print(y_train.shape,y_test.shape)\n",
    "print(x_train)\n",
    "print(x_test)\n",
    "print(y_train.head(2))"
   ]
  },
  {
   "cell_type": "code",
   "execution_count": 59,
   "metadata": {},
   "outputs": [
    {
     "data": {
      "text/plain": [
       "5     1006\n",
       "1      867\n",
       "2      787\n",
       "3      580\n",
       "7      113\n",
       "9      113\n",
       "4       78\n",
       "6       77\n",
       "10      37\n",
       "8       33\n",
       "12      24\n",
       "0       18\n",
       "11      13\n",
       "Name: AssigneeTeam, dtype: int64"
      ]
     },
     "execution_count": 59,
     "metadata": {},
     "output_type": "execute_result"
    }
   ],
   "source": [
    "y_train.value_counts()"
   ]
  },
  {
   "cell_type": "markdown",
   "metadata": {},
   "source": [
    "##### So, it's imbalanced data "
   ]
  },
  {
   "cell_type": "markdown",
   "metadata": {},
   "source": [
    "### Imbalaced data handling "
   ]
  },
  {
   "cell_type": "code",
   "execution_count": 60,
   "metadata": {
    "id": "8-ZAEmD-9_E_"
   },
   "outputs": [
    {
     "name": "stdout",
     "output_type": "stream",
     "text": [
      "(13078, 14590) (13078,)\n"
     ]
    }
   ],
   "source": [
    "from imblearn.over_sampling import SMOTE\n",
    "smt=SMOTE(random_state=42)\n",
    "x_train_res,y_train_res=smt.fit_resample(x_train,y_train)\n",
    "\n",
    "print(x_train_res.shape,y_train_res.shape)"
   ]
  },
  {
   "cell_type": "code",
   "execution_count": 61,
   "metadata": {
    "colab": {
     "base_uri": "https://localhost:8080/",
     "height": 351
    },
    "id": "xG4sVWZTDgZq",
    "outputId": "fc3bab5a-3162-4e25-e875-c11509b39364",
    "scrolled": true
   },
   "outputs": [
    {
     "name": "stderr",
     "output_type": "stream",
     "text": [
      "C:\\Users\\KrishnenduGhorui\\Anaconda3\\lib\\site-packages\\seaborn\\_decorators.py:36: FutureWarning: Pass the following variable as a keyword arg: x. From version 0.12, the only valid positional argument will be `data`, and passing other arguments without an explicit keyword will result in an error or misinterpretation.\n",
      "  warnings.warn(\n"
     ]
    },
    {
     "data": {
      "text/plain": [
       "Text(0.5, 0, 'Assignee')"
      ]
     },
     "execution_count": 61,
     "metadata": {},
     "output_type": "execute_result"
    },
    {
     "data": {
      "image/png": "[encoded data removed]",
      "text/plain": [
       "<Figure size 432x288 with 1 Axes>"
      ]
     },
     "metadata": {
      "needs_background": "light"
     },
     "output_type": "display_data"
    }
   ],
   "source": [
    "sns.countplot(y_train_res)\n",
    "plt.title('Countplot of target data(Assignee)after oversampling')\n",
    "plt.xlabel('Assignee')"
   ]
  },
  {
   "cell_type": "code",
   "execution_count": 62,
   "metadata": {
    "id": "b65f8a841c3c4a8486c352160e6b78c7"
   },
   "outputs": [
    {
     "name": "stdout",
     "output_type": "stream",
     "text": [
      "int64\n"
     ]
    },
    {
     "data": {
      "text/plain": [
       "0    2\n",
       "1    3\n",
       "2    5\n",
       "3    1\n",
       "4    5\n",
       "Name: AssigneeTeam, dtype: int64"
      ]
     },
     "execution_count": 62,
     "metadata": {},
     "output_type": "execute_result"
    }
   ],
   "source": [
    "print(y_train_res.dtype)\n",
    "y_train_res.head()"
   ]
  },
  {
   "cell_type": "code",
   "execution_count": 63,
   "metadata": {
    "id": "FoVKH7j0IYjV"
   },
   "outputs": [],
   "source": [
    "#from sklearn.model_selection import RandomizedSearchCV\n",
    "#from sklearn.svm import SVC\n",
    "\n",
    "#sample_svc=SVC()\n",
    "#params={'C':[0.1,0.01,0.001],'kernel':['rbf','poly'],'gamma':[0.9,0.8]}\n",
    "#rscv=RandomizedSearchCV(estimator=sample_svc,param_distributions=params,cv=5,n_jobs=-1,random_state=42)\n",
    "#rscv.fit(x_train_res,y_train_res)"
   ]
  },
  {
   "cell_type": "code",
   "execution_count": 64,
   "metadata": {},
   "outputs": [],
   "source": [
    "#rscv.best_params_\n",
    "#rscv.best_score_"
   ]
  },
  {
   "cell_type": "markdown",
   "metadata": {
    "id": "4e43c82ce3664ffba3e6add3afb27520"
   },
   "source": [
    "##### Gaussian Naive bayes algorithm "
   ]
  },
  {
   "cell_type": "code",
   "execution_count": 65,
   "metadata": {
    "id": "3e5fb0fbd7b64bdf832a246313d1803d"
   },
   "outputs": [],
   "source": [
    "from sklearn.naive_bayes import GaussianNB\n",
    "from sklearn.naive_bayes import MultinomialNB\n",
    "from sklearn.svm import SVC\n",
    "model_gnb=GaussianNB()\n",
    "model_mnb=MultinomialNB()\n",
    "model_svc=SVC(C=0.7,kernel='rbf',gamma=0.9)"
   ]
  },
  {
   "cell_type": "code",
   "execution_count": 66,
   "metadata": {
    "id": "7d40f18b4ce5406e8d59051c2162fea0"
   },
   "outputs": [],
   "source": [
    "#models={'GaussianNB model':model_gnb,'MultinomialNB model':MultinomialNB,'SVC model':model_svc}"
   ]
  },
  {
   "cell_type": "code",
   "execution_count": 67,
   "metadata": {
    "id": "18a2ccc6b2754d3d9893a068e9c32ba5"
   },
   "outputs": [],
   "source": [
    "#for modelName in models:\n",
    "  #  print(modelName)\n",
    "   # model=models[modelName]\n",
    "   # model.fit(x_train_res,y_train_res)\n",
    "   # score=model.score(x_test.toarray(),y_test)\n",
    "   # print('Accuracy score of ',modelName,' is ',score)"
   ]
  },
  {
   "cell_type": "code",
   "execution_count": 68,
   "metadata": {
    "colab": {
     "base_uri": "https://localhost:8080/"
    },
    "id": "ZO3PQqyLIYU1",
    "outputId": "c327227e-82f3-41ca-cf56-cd7ea9d5a999"
   },
   "outputs": [
    {
     "data": {
      "text/plain": [
       "GaussianNB()"
      ]
     },
     "execution_count": 68,
     "metadata": {},
     "output_type": "execute_result"
    }
   ],
   "source": [
    "from sklearn.naive_bayes import GaussianNB\n",
    "model_gnb=GaussianNB()\n",
    "model_gnb.fit(x_train_res,y_train_res)"
   ]
  },
  {
   "cell_type": "code",
   "execution_count": 69,
   "metadata": {
    "colab": {
     "base_uri": "https://localhost:8080/"
    },
    "id": "cFW8uY2rLQOa",
    "outputId": "ffbb91d8-06b0-4b23-a581-4eaa47ef614c"
   },
   "outputs": [
    {
     "name": "stdout",
     "output_type": "stream",
     "text": [
      "0.48772678762006405\n"
     ]
    },
    {
     "data": {
      "text/plain": [
       "array([ 1,  2,  2,  2,  3,  5,  2,  2,  9,  3,  2,  1,  2,  2,  5,  5,  2,\n",
       "        3,  1,  3,  4,  1,  2,  6,  5,  6,  2,  2,  2,  6,  3,  3,  5,  2,\n",
       "        1,  1,  3,  9,  3,  5,  2,  5,  5,  2,  2,  8,  2,  5,  2,  5,  3,\n",
       "        1,  1,  3,  3,  2,  5,  1,  5,  5,  1,  5,  2,  1,  2,  2,  3,  5,\n",
       "        5,  3,  1,  5,  9,  7,  2,  3,  2,  2,  3,  4,  1,  3,  1,  2,  2,\n",
       "        5,  3,  3,  2,  2,  3,  5,  1,  2,  3,  1,  2,  1,  3,  3,  1,  1,\n",
       "        3,  1,  3,  5,  5,  2,  7,  3,  3,  5,  9,  3,  3,  3,  1,  2,  5,\n",
       "        3,  8,  5, 10,  4,  2,  4,  3,  1,  5,  3,  2,  5,  2,  3,  5,  3,\n",
       "        2,  5,  3,  5,  1,  4,  1,  1,  1,  2,  2,  3,  2,  5,  1,  1,  5,\n",
       "        3,  2,  3,  8,  1,  2,  4,  1,  2,  2,  5,  3,  3,  2,  1,  1,  3,\n",
       "        9,  2,  2,  5,  4,  3,  7,  1,  3,  2,  1,  1,  3,  2,  5,  2,  5,\n",
       "        7,  3,  3,  3,  2,  3,  9,  1,  5,  3,  5,  1,  1,  5,  1,  2,  1,\n",
       "        7,  1,  2,  2,  3,  2,  5,  1,  5,  5,  4,  1,  3,  5,  5,  3,  5,\n",
       "        3,  3,  5,  3,  5,  8, 10,  1,  2,  8,  3,  5,  2,  7,  5,  2,  5,\n",
       "        2,  5,  3,  3,  2,  2,  2,  4,  1,  3,  3,  3,  5,  5,  3,  2,  5,\n",
       "        4,  6,  5,  2,  2,  6,  2,  2,  1,  5,  5,  3,  9,  1,  5,  5,  5,\n",
       "        5,  6,  5,  1,  5,  5,  5,  3,  5,  5,  1,  3,  5,  1,  5,  3,  2,\n",
       "        2,  2,  3,  1,  2,  1,  3,  6,  2,  3,  7,  1,  1,  1,  2,  5,  1,\n",
       "        1,  3,  2,  2,  3,  2,  1,  1,  1,  2,  5,  1,  5,  2,  3,  3,  0,\n",
       "        1,  3,  5,  9,  5,  5,  5,  2,  3,  9,  2,  2,  5,  2,  6,  1,  2,\n",
       "        2,  5,  2,  3,  1,  9,  2,  2,  3,  2,  5,  1,  2,  3,  5,  1,  1,\n",
       "        3,  5,  3,  5,  1,  5,  1,  5,  5,  5,  5,  2,  2,  3,  2,  2,  2,\n",
       "        3,  9,  3,  3,  5,  5,  1,  5,  5,  3,  5,  6,  1,  2,  3,  9,  2,\n",
       "        2,  5,  5,  1,  1,  4,  2,  2,  3,  7,  5,  2,  5,  5,  3,  5,  5,\n",
       "        6,  3,  1,  5,  3,  2,  2,  7,  2,  2,  2,  1,  3,  7,  1,  1,  5,\n",
       "        1,  3,  5,  2,  5,  2,  5,  2,  3,  1,  1,  9,  5,  1,  1,  2,  5,\n",
       "        1,  4,  5, 10,  5,  3,  1,  1,  1,  5,  3,  2,  3,  3,  2,  2,  1,\n",
       "        1,  5,  5,  2,  5,  3,  3,  1,  5,  4,  5,  3,  1,  1,  5,  2,  1,\n",
       "        5,  5,  5,  1,  3,  3,  5,  5,  5,  1,  3,  5,  7,  5,  6,  5,  9,\n",
       "        2,  5,  6,  7,  5,  5,  5,  3,  5,  4,  4,  1,  2,  3,  3,  1,  4,\n",
       "        5,  2,  3, 10,  5,  5,  1,  5,  2,  2,  5,  2,  2,  3,  2,  2,  3,\n",
       "        5,  2,  2,  3,  2,  1,  5,  7,  5,  2,  4,  3,  5,  1,  3,  5,  1,\n",
       "        5,  2,  5,  5,  5,  5,  5,  3,  2,  2,  1,  2,  1,  5,  3,  5,  2,\n",
       "        7,  9,  3,  5,  1,  5,  5,  5,  3,  2,  5,  2,  5,  2,  2,  2,  6,\n",
       "        2,  5,  3,  3,  2,  5,  1,  2,  1,  6,  2,  5,  3,  1,  2,  2,  5,\n",
       "        5,  5,  9,  5,  3,  3,  3,  1,  5,  5,  2,  2,  2,  5,  2,  3,  5,\n",
       "        1,  1,  2,  5,  2,  5,  3,  1,  4,  3,  3,  3,  5,  3,  2,  3,  1,\n",
       "        2,  3,  5,  1,  5,  1,  5,  2,  1,  7,  2,  2,  5,  5,  5,  2,  3,\n",
       "        5,  1,  3,  2,  3,  2,  5,  3,  3,  2,  2,  3,  8,  1,  5,  1,  6,\n",
       "        2, 10,  5,  1,  5,  3,  3,  1,  1,  5,  5,  6,  7,  5,  3,  2,  1,\n",
       "        1,  2,  3,  5,  1,  5,  5,  7,  1,  5,  7,  5,  2,  6,  5, 10,  2,\n",
       "        2,  1,  3,  5,  3,  2,  4,  3,  2,  3,  6,  1,  1,  5,  3,  3,  5,\n",
       "        3,  5,  2,  3,  3,  3,  3,  5,  7,  3,  5,  1,  3,  5,  5,  1,  2,\n",
       "        5,  3,  5,  2,  5,  5,  3,  3,  3,  2,  5,  5,  1,  3,  5,  5,  5,\n",
       "        2,  2,  2,  0,  2, 11,  2,  3,  1,  3,  1,  2,  5,  1,  3,  5,  2,\n",
       "        1,  5,  9,  2,  1,  5,  3,  5,  2,  1,  5,  2,  1,  1,  3,  5,  1,\n",
       "        1,  1,  5,  5,  6, 12,  3,  3,  4,  5,  3,  1,  5,  7,  2,  3,  2,\n",
       "        2,  3,  3,  5,  1,  2,  5,  8,  5,  1,  5,  3,  5,  5,  5,  1,  1,\n",
       "        5,  5,  3,  1,  5,  5,  5,  9,  5,  5,  3,  2,  1,  5,  5,  3,  6,\n",
       "        5,  1,  2,  3,  2,  3,  9,  3,  3,  1,  3,  5,  5,  5,  2,  2,  2,\n",
       "        1,  5,  5,  2,  3,  2,  3,  1,  2, 10,  4,  9,  2,  1,  3,  1,  2,\n",
       "        3,  3,  5,  2,  5,  1,  2,  2,  3,  5,  1,  2,  1,  7,  2,  5,  5,\n",
       "        3,  4,  3,  5,  5,  2,  5, 10,  3,  5,  4,  2,  3,  2,  5,  3,  1,\n",
       "        3,  5,  2,  5,  2,  7,  2,  5,  1,  7,  5,  1,  5,  3,  3,  5,  2,\n",
       "        2,  5,  2,  5,  5,  1,  9,  3,  2,  3,  8,  2,  1,  3,  5,  1,  1,\n",
       "        5,  3], dtype=int64)"
      ]
     },
     "execution_count": 69,
     "metadata": {},
     "output_type": "execute_result"
    }
   ],
   "source": [
    "print(model_gnb.score(x_test,y_test))\n",
    "\n",
    "y_pred_gnb=model_gnb.predict(x_test)\n",
    "y_pred_gnb"
   ]
  },
  {
   "cell_type": "code",
   "execution_count": 70,
   "metadata": {
    "colab": {
     "base_uri": "https://localhost:8080/"
    },
    "id": "bDkfTeNdLQIv",
    "outputId": "bc553f1b-9b01-4de1-93ec-c70aa8bcb108"
   },
   "outputs": [
    {
     "name": "stdout",
     "output_type": "stream",
     "text": [
      "              precision    recall  f1-score   support\n",
      "\n",
      "           0       0.00      0.00      0.00         3\n",
      "           1       0.37      0.28      0.32       213\n",
      "           2       0.50      0.50      0.50       214\n",
      "           3       0.42      0.49      0.45       169\n",
      "           4       0.00      0.00      0.00        14\n",
      "           5       0.68      0.75      0.71       234\n",
      "           6       0.10      0.18      0.13        11\n",
      "           7       0.43      0.36      0.39        28\n",
      "           8       0.12      0.11      0.12         9\n",
      "           9       0.86      0.62      0.72        29\n",
      "          10       0.12      0.14      0.13         7\n",
      "          11       0.00      0.00      0.00         2\n",
      "          12       1.00      0.25      0.40         4\n",
      "\n",
      "    accuracy                           0.49       937\n",
      "   macro avg       0.35      0.28      0.30       937\n",
      "weighted avg       0.49      0.49      0.49       937\n",
      "\n"
     ]
    },
    {
     "data": {
      "text/plain": [
       "<AxesSubplot:>"
      ]
     },
     "execution_count": 70,
     "metadata": {},
     "output_type": "execute_result"
    },
    {
     "data": {
      "image/png": "[encoded data removed]",
      "text/plain": [
       "<Figure size 1008x576 with 2 Axes>"
      ]
     },
     "metadata": {
      "needs_background": "light"
     },
     "output_type": "display_data"
    }
   ],
   "source": [
    "from sklearn.metrics import confusion_matrix,accuracy_score,classification_report\n",
    "\n",
    "print(classification_report(y_test,y_pred_gnb))\n",
    "\n",
    "cm_gnb=confusion_matrix(y_test,y_pred_gnb,normalize='true')   # Getting confusion matrix normalized on orginal data value\n",
    "plt.figure(figsize=(14,8))\n",
    "sns.heatmap(cm_gnb,annot=True)"
   ]
  },
  {
   "cell_type": "code",
   "execution_count": 71,
   "metadata": {
    "colab": {
     "base_uri": "https://localhost:8080/"
    },
    "id": "fcOAKp9nLQB9",
    "outputId": "74b6a90b-1808-48ea-b68f-b3cc7a7cfc54"
   },
   "outputs": [
    {
     "name": "stdout",
     "output_type": "stream",
     "text": [
      "Original\n",
      "error datastage engnode5 hello team detail host ihs iiszprodcedp zc2 ibm com 443 project engnode5 iiszprodcedp zc2 ibm com pz eam reporting job name oh1 emea ibm error message id drop table exists iz enterprise assetmgt report oh1 emea baseline sesdrdb20000i sql command completed successfully rename table iz enterprise assetmgt report oh1 emea baseline sesdr dev report oh1 emea baseline sesdrdb21034e command processed sql statement valid command line processor command sql processing returned sql5105n statement failed big sql component encountered error component receiving error component returning error hive log entry identifier bsl 0 547231ea sqlstate 58040 check log get 2021 03 21 11 35 00 417 error org apache hadoop hive ql driver thread 28 failed execution error return code 1 org apache hadoop hive ql exec ddltask unable alter table new location table iz enterprise assetmgt report oh1 emea baseline sesdr already exists hdfs dc19n1 zc2 ibm com 8020 apps hive warehouse iz enterprise assetmgt db report oh1 emea baseline sesdr see dropped table ran successfully even able rename table please check suggest 11 10 0 0 0\n",
      "1\n",
      "please forward isc cloud db2w id pw c mg1a897 approved request request access isc prod cloud db2w approved functional id c mg1a897 nomail relay ibm com id email please forward id password jwiltshire u ibm com arao u ibm com connection ui information id pw info needed ticket documentation aj stabile send u information 2 4 0 1 0\n",
      "3\n",
      "Predicted  [1]\n",
      "Predicted  [3]\n"
     ]
    }
   ],
   "source": [
    "# Just seeing how prediction works\n",
    "\n",
    "print('Original')\n",
    "print(Text[50])\n",
    "print(Y[50])\n",
    "print(Text[82])\n",
    "print(Y[82])\n",
    "print('Predicted ',model_gnb.predict(vect_tfidf.transform([Text[50]]).toarray()))\n",
    "print('Predicted ',model_gnb.predict(vect_tfidf.transform([Text[82]]).toarray()))"
   ]
  },
  {
   "cell_type": "markdown",
   "metadata": {
    "id": "db03f0115212464fa5ae5f7f58e6b61e"
   },
   "source": [
    "##### Multinomial Naive bayes algorithm "
   ]
  },
  {
   "cell_type": "code",
   "execution_count": 72,
   "metadata": {
    "colab": {
     "base_uri": "https://localhost:8080/"
    },
    "id": "UsNy5yzUymG0",
    "outputId": "613eb753-3556-42d5-d0c5-4ed90791aa13"
   },
   "outputs": [
    {
     "data": {
      "text/plain": [
       "MultinomialNB()"
      ]
     },
     "execution_count": 72,
     "metadata": {},
     "output_type": "execute_result"
    }
   ],
   "source": [
    "from sklearn.naive_bayes import MultinomialNB\n",
    "model_mnb=MultinomialNB()\n",
    "model_mnb.fit(x_train_res,y_train_res)"
   ]
  },
  {
   "cell_type": "code",
   "execution_count": 73,
   "metadata": {
    "colab": {
     "base_uri": "https://localhost:8080/"
    },
    "id": "yTMtyei40BNk",
    "outputId": "aa56e65d-07ec-4eb4-a958-53c7b3728a6d"
   },
   "outputs": [
    {
     "data": {
      "text/plain": [
       "array([ 1,  0,  7,  3,  3,  5,  1,  2,  9,  1,  2,  2,  3,  5, 10,  5, 12,\n",
       "        2,  1,  2,  4, 10,  1,  3,  5,  6,  2,  2,  2,  3,  6,  2,  5,  2,\n",
       "        7,  1,  3,  9,  3,  5,  2,  5,  5,  1,  4,  2,  3,  5, 10,  5,  3,\n",
       "        2,  2,  3,  2,  3,  8,  3, 10,  3,  4,  2,  2,  3,  6,  2,  7,  5,\n",
       "        5,  3,  2,  5,  9,  7,  0,  2,  3,  5,  5,  2,  1,  3,  3,  2,  2,\n",
       "       12, 10,  2,  7, 10,  3,  5,  7, 10,  3,  1,  5,  3,  3,  1,  1,  1,\n",
       "       10,  1,  5,  5,  5,  4,  6,  0,  3,  8,  5,  3,  7,  4,  3,  1,  6,\n",
       "        3,  8,  5,  5,  1,  2,  4,  6,  3,  5,  2,  2,  5,  7,  3,  5,  5,\n",
       "        1,  0,  1,  5,  6,  4,  1,  2,  4,  2,  2,  5,  2,  3,  7,  9,  5,\n",
       "        7,  2,  3,  8,  4,  9,  2,  1,  2,  2,  5,  3,  3,  1,  1,  1,  7,\n",
       "        9,  8,  2,  5, 11,  2,  7,  5,  7,  2,  3,  2,  5,  7,  5,  2,  5,\n",
       "        7,  1,  3,  2,  2,  2,  9,  1,  6,  5,  5,  4,  6,  5,  3,  2, 12,\n",
       "        7,  2,  2, 12,  1,  1,  5,  1,  3,  5,  3,  1,  3,  5,  5,  3,  5,\n",
       "        5,  2,  1,  3,  1,  7, 10, 10,  7,  7,  2,  7, 10,  7,  5, 10,  5,\n",
       "        7,  5,  3,  3,  4,  7,  2,  4,  7,  3,  2,  3,  5,  1,  6,  4,  5,\n",
       "       12,  0,  5,  0,  1,  6, 12,  4,  1,  5,  5,  3,  9,  3,  5,  5,  5,\n",
       "        5,  6,  5,  2,  0,  5,  5,  5,  5,  7,  2,  2,  5,  3,  5,  3,  4,\n",
       "        2,  1, 12,  6,  2,  7,  2,  1,  2,  3,  1,  6,  5,  4,  7,  3,  1,\n",
       "        4,  1,  5,  4,  6,  5,  1, 12,  9,  6,  5,  3,  5,  4,  5,  6,  2,\n",
       "        7,  3,  5,  9,  5,  5,  2,  2,  3,  9,  9,  5,  5,  2,  3,  2,  2,\n",
       "        1,  5,  5,  3,  9,  9,  2,  3,  3, 10,  5,  3,  2,  4,  5,  7,  1,\n",
       "        2,  5,  2,  5,  3,  5,  4,  7,  7,  3,  5,  2,  5,  5,  3,  4,  2,\n",
       "        5,  9,  5,  3,  5,  5,  4,  5,  6,  3,  5,  1,  3,  2,  7,  9,  5,\n",
       "        2,  2,  5,  1,  9,  7,  4,  1, 10,  1, 10,  4,  5,  5,  3,  5,  5,\n",
       "        6,  3,  3,  5,  2,  9, 10,  7, 10,  2,  2,  4,  3,  2,  1,  1,  2,\n",
       "       12,  3,  5,  2,  5,  1, 12,  2,  2,  3,  3,  9,  5,  1,  4,  2,  5,\n",
       "       10,  3,  5, 10, 10,  5, 10,  3,  2,  5,  3,  2,  1,  7,  3,  2,  7,\n",
       "        1,  5,  5,  2,  7,  5,  2,  9,  5,  3,  5,  1,  4,  2,  5,  2,  2,\n",
       "        5,  5,  5,  1,  1, 10,  5, 11,  2,  1,  5,  5,  7,  5,  5,  5,  9,\n",
       "        2,  5,  5,  2,  5,  5,  5, 12,  7,  4,  8,  3,  1, 10,  3,  3,  7,\n",
       "        5,  3,  3,  3,  5,  5,  1,  5,  2,  2,  5,  0, 10,  2,  3,  2,  3,\n",
       "        5,  1,  1, 10,  2,  2,  5,  2,  7,  2,  4,  3,  5, 10,  3,  5,  1,\n",
       "        5,  4,  5,  5,  1,  5,  5,  5,  8,  0,  1,  2,  1,  1,  2,  5,  0,\n",
       "        7,  9,  1,  5,  2,  1,  5,  6,  7,  2,  5,  2,  0,  2,  4,  5,  5,\n",
       "        5,  2,  2,  5,  8,  5,  5,  2,  1,  2,  1,  5,  2,  0,  1,  2,  5,\n",
       "        5,  5,  9,  5,  3,  5,  5,  7,  3,  1,  2,  4,  9,  5,  6,  2,  5,\n",
       "        1,  1,  2,  5,  1,  5,  3,  7,  4,  4,  3,  3,  5,  3,  2, 10,  9,\n",
       "        1,  4,  8,  1,  2,  3,  5,  2,  2,  7,  3,  4,  5,  5,  2,  6, 10,\n",
       "        5,  1,  3,  2,  3,  9,  5,  5,  5,  1,  4,  6,  8,  2, 10,  1, 10,\n",
       "        7, 10,  5,  1,  5,  3, 10,  6,  1,  5,  5,  1,  7,  5,  3,  2,  3,\n",
       "       10,  7,  1,  5,  1,  0,  1,  2,  2,  5,  7,  5,  5,  4,  0, 10,  2,\n",
       "        2,  1,  5,  8,  1,  4,  4,  1,  2,  2,  5,  9,  3,  0, 10,  3,  2,\n",
       "        2,  1,  2,  3,  3, 10,  5,  5,  4,  3,  5,  9,  3, 10,  2,  3,  1,\n",
       "        5, 10,  4,  4,  5,  5,  2,  4,  6,  2,  5,  5,  1,  5,  5,  6,  3,\n",
       "        2,  4,  1,  8,  3, 11,  2,  3,  9,  3, 10,  2,  7,  4,  1,  0,  0,\n",
       "        2,  5,  9, 10,  4,  5,  3, 10,  1, 12,  5,  2,  1,  6,  3,  1,  8,\n",
       "       10,  0,  5,  5,  1, 11,  3,  6,  7,  5,  2,  2,  5,  7,  2,  5,  2,\n",
       "        2,  2,  2,  5,  1,  2,  5,  7,  2,  8,  5,  5,  3, 10,  5,  1,  1,\n",
       "        2,  6,  7,  1,  5,  5,  2,  9,  5,  5,  3,  2, 10,  5,  0,  3,  2,\n",
       "        5,  5,  7,  1,  2,  3,  9,  6,  6,  7,  7,  5,  5,  5,  2,  1,  5,\n",
       "        3, 10,  5,  8, 10, 10,  5,  5,  9,  3,  4,  8,  2,  1,  5,  4,  1,\n",
       "        5, 10,  5,  2,  5,  1,  2,  1, 10,  2,  1,  1,  1,  2,  2, 10,  5,\n",
       "        7,  2, 10,  5,  5,  1,  1,  5,  1,  5,  2,  3,  3,  2,  1,  3,  3,\n",
       "        3, 10,  2,  1,  2,  7,  2,  5, 10,  7,  5,  1,  5,  5,  3,  5,  1,\n",
       "        2,  5,  1,  5,  5,  2,  9,  3,  4,  3,  3,  3,  8,  3,  5,  1,  3,\n",
       "        8,  3], dtype=int64)"
      ]
     },
     "execution_count": 73,
     "metadata": {},
     "output_type": "execute_result"
    }
   ],
   "source": [
    "y_pred_mnb=model_mnb.predict(x_test)\n",
    "y_pred_mnb"
   ]
  },
  {
   "cell_type": "code",
   "execution_count": 74,
   "metadata": {
    "colab": {
     "base_uri": "https://localhost:8080/",
     "height": 505
    },
    "id": "gYnhm4f90jQj",
    "outputId": "30f53011-147a-4c64-f585-e67632f4b696"
   },
   "outputs": [
    {
     "data": {
      "text/plain": [
       "Text(0.5, 1.0, 'Confusion matrix normalized by original target value - multinomialNB - assignee prediction')"
      ]
     },
     "execution_count": 74,
     "metadata": {},
     "output_type": "execute_result"
    },
    {
     "data": {
      "image/png": "[encoded data removed]",
      "text/plain": [
       "<Figure size 1008x576 with 2 Axes>"
      ]
     },
     "metadata": {
      "needs_background": "light"
     },
     "output_type": "display_data"
    }
   ],
   "source": [
    "plt.figure(figsize=(14,8))\n",
    "sns.heatmap(confusion_matrix(y_test,y_pred_mnb,normalize='true'),annot=True)\n",
    "plt.title('Confusion matrix normalized by original target value - multinomialNB - assignee prediction')"
   ]
  },
  {
   "cell_type": "code",
   "execution_count": 75,
   "metadata": {
    "colab": {
     "base_uri": "https://localhost:8080/"
    },
    "id": "sbqR_J-m3lcd",
    "outputId": "9223f34e-f574-451f-f516-b8b5bcf46ed9"
   },
   "outputs": [
    {
     "name": "stdout",
     "output_type": "stream",
     "text": [
      "              precision    recall  f1-score   support\n",
      "\n",
      "           0       0.05      0.33      0.09         3\n",
      "           1       0.58      0.32      0.41       213\n",
      "           2       0.70      0.56      0.62       214\n",
      "           3       0.67      0.53      0.59       169\n",
      "           4       0.08      0.29      0.12        14\n",
      "           5       0.91      0.91      0.91       234\n",
      "           6       0.13      0.36      0.19        11\n",
      "           7       0.36      0.79      0.49        28\n",
      "           8       0.33      0.67      0.44         9\n",
      "           9       0.82      0.97      0.89        29\n",
      "          10       0.09      0.71      0.17         7\n",
      "          11       0.25      0.50      0.33         2\n",
      "          12       0.17      0.50      0.25         4\n",
      "\n",
      "    accuracy                           0.60       937\n",
      "   macro avg       0.40      0.57      0.42       937\n",
      "weighted avg       0.68      0.60      0.62       937\n",
      "\n"
     ]
    }
   ],
   "source": [
    "print(classification_report(y_test,y_pred_mnb))"
   ]
  },
  {
   "cell_type": "markdown",
   "metadata": {
    "id": "c197d4aaf327430e903ecafdac77ec5e"
   },
   "source": [
    "##### SVC algorithm "
   ]
  },
  {
   "cell_type": "code",
   "execution_count": 76,
   "metadata": {},
   "outputs": [],
   "source": [
    "#from sklearn.model_selection import RandomizedSearchCV\n",
    "#sample_svm=SVC()\n",
    "#params=[{'C':[0.1,0.01,0.001,0.2,0.02,0.3,0.4,0.5],'kernel':['rbf','poly'],'gamma':[0.9,0.8,0.7]}]\n",
    "#rscv_svc=RandomizedSearchCV(estimator=sample_svm,param_distributions=params,cv=5)\n",
    "#rscv_svc.fit(x_train_res,y_train_res)"
   ]
  },
  {
   "cell_type": "code",
   "execution_count": 77,
   "metadata": {},
   "outputs": [],
   "source": [
    "#print(rscv_svc.best_estimator_)\n",
    "#print(rscv_svc.best_score_)\n",
    "#rscv_svc.cv_results_"
   ]
  },
  {
   "cell_type": "code",
   "execution_count": 78,
   "metadata": {},
   "outputs": [],
   "source": [
    "#from sklearn.svm import SVC\n",
    "#model_svc=SVC(C=0.7,kernel='poly',gamma=0.9)\n",
    "#model_svc.fit(x_train_res,y_train_res)"
   ]
  },
  {
   "cell_type": "code",
   "execution_count": 79,
   "metadata": {},
   "outputs": [],
   "source": [
    "#y_pred_svc=model_svc.predict(x_test)\n",
    "#print(classification_report(y_test,y_pred_svcr))"
   ]
  },
  {
   "cell_type": "code",
   "execution_count": 80,
   "metadata": {},
   "outputs": [],
   "source": [
    "#plt.figure(figsize=(14,8))\n",
    "#sns.heatmap(confusion_matrix(y_test,y_pred_svcrbf,normalize='true'),annot=True)\n",
    "#plt.title('Confusion matrix normalized by original target value - SVC - assignee prediction')"
   ]
  },
  {
   "cell_type": "code",
   "execution_count": 81,
   "metadata": {},
   "outputs": [],
   "source": [
    "#from sklearn.model_selection import RandomizedSearchCV\n",
    "#from sklearn.ensemble import RandomForestClassifier\n",
    "#sample_rfc=RandomForestClassifier()\n",
    "#params={'n_estimators':[80,100,150,200],'criterion':['gini','entropy'],'max_depth':[10,12,15,20]}\n",
    "#rscv_rfc=RandomizedSearchCV(estimator=sample_rfc,param_distributions=params,cv=5)\n",
    "#rscv_rfc.fit(x_train_res,y_train_res)"
   ]
  },
  {
   "cell_type": "code",
   "execution_count": 82,
   "metadata": {},
   "outputs": [],
   "source": [
    "#print(rscv_rfc.best_estimator_)\n",
    "#print(rscv_rfc.best_score_)\n",
    "#rscv_rfc.cv_results_"
   ]
  },
  {
   "cell_type": "markdown",
   "metadata": {},
   "source": [
    "#### Random Forest Classifier "
   ]
  },
  {
   "cell_type": "code",
   "execution_count": 83,
   "metadata": {
    "id": "2314d9ab06cc48ec83909db4015a69db"
   },
   "outputs": [
    {
     "data": {
      "text/plain": [
       "RandomForestClassifier(criterion='entropy', max_depth=20, n_estimators=80,\n",
       "                       n_jobs=-1)"
      ]
     },
     "execution_count": 83,
     "metadata": {},
     "output_type": "execute_result"
    }
   ],
   "source": [
    "from sklearn.ensemble import RandomForestClassifier \n",
    "model_rfc=RandomForestClassifier(n_estimators=80,criterion='entropy',max_depth=20,n_jobs=-1)\n",
    "model_rfc.fit(x_train_res,y_train_res)"
   ]
  },
  {
   "cell_type": "code",
   "execution_count": 84,
   "metadata": {},
   "outputs": [],
   "source": [
    "y_pred_rfc=model_rfc.predict(x_test)"
   ]
  },
  {
   "cell_type": "code",
   "execution_count": 85,
   "metadata": {},
   "outputs": [
    {
     "name": "stdout",
     "output_type": "stream",
     "text": [
      "              precision    recall  f1-score   support\n",
      "\n",
      "           0       0.00      0.00      0.00         3\n",
      "           1       0.61      0.41      0.49       213\n",
      "           2       0.64      0.71      0.67       214\n",
      "           3       0.68      0.63      0.65       169\n",
      "           4       0.33      0.21      0.26        14\n",
      "           5       0.79      0.95      0.86       234\n",
      "           6       0.60      0.27      0.37        11\n",
      "           7       0.49      0.71      0.58        28\n",
      "           8       0.71      0.56      0.63         9\n",
      "           9       0.81      1.00      0.89        29\n",
      "          10       0.29      0.29      0.29         7\n",
      "          11       0.29      1.00      0.44         2\n",
      "          12       1.00      0.25      0.40         4\n",
      "\n",
      "    accuracy                           0.68       937\n",
      "   macro avg       0.56      0.54      0.50       937\n",
      "weighted avg       0.67      0.68      0.66       937\n",
      "\n"
     ]
    }
   ],
   "source": [
    "print(classification_report(y_test,y_pred_rfc))"
   ]
  },
  {
   "cell_type": "code",
   "execution_count": 86,
   "metadata": {},
   "outputs": [
    {
     "data": {
      "text/plain": [
       "Text(0.5, 1.0, 'Confusion matrix normalized by original target value - SVC - assignee prediction')"
      ]
     },
     "execution_count": 86,
     "metadata": {},
     "output_type": "execute_result"
    },
    {
     "data": {
      "image/png": "[encoded data removed]",
      "text/plain": [
       "<Figure size 1008x576 with 2 Axes>"
      ]
     },
     "metadata": {
      "needs_background": "light"
     },
     "output_type": "display_data"
    }
   ],
   "source": [
    "plt.figure(figsize=(14,8))\n",
    "sns.heatmap(confusion_matrix(y_test,y_pred_rfc,normalize='true'),annot=True)\n",
    "plt.title('Confusion matrix normalized by original target value - SVC - assignee prediction')"
   ]
  },
  {
   "cell_type": "markdown",
   "metadata": {
    "id": "ab8b7526e85e48ea9921f4b0c32c0eb2"
   },
   "source": [
    "#### Text Embedding and LSTM "
   ]
  },
  {
   "cell_type": "code",
   "execution_count": 87,
   "metadata": {
    "id": "9b1e763444de4aa380eaf29d165b5111"
   },
   "outputs": [
    {
     "data": {
      "text/plain": [
       "[21796,\n",
       " 34099,\n",
       " 7265,\n",
       " 28745,\n",
       " 21796,\n",
       " 4012,\n",
       " 27089,\n",
       " 29757,\n",
       " 36286,\n",
       " 40686,\n",
       " 36286,\n",
       " 47876,\n",
       " 26708,\n",
       " 42347,\n",
       " 7265,\n",
       " 2395,\n",
       " 26350,\n",
       " 46781,\n",
       " 31863,\n",
       " 5807,\n",
       " 36958,\n",
       " 44753,\n",
       " 29366,\n",
       " 27444,\n",
       " 46715,\n",
       " 20123,\n",
       " 20123,\n",
       " 20123]"
      ]
     },
     "execution_count": 87,
     "metadata": {},
     "output_type": "execute_result"
    }
   ],
   "source": [
    "# one hot representation of words in text in specified vocabulary size\n",
    "\n",
    "from tensorflow.keras.preprocessing.text import one_hot\n",
    "\n",
    "vocab_size=50000\n",
    "onehot_repr=[one_hot(words,vocab_size) for words in Text]\n",
    "\n",
    "onehot_repr[0]"
   ]
  },
  {
   "cell_type": "code",
   "execution_count": 88,
   "metadata": {
    "id": "19709c30d5a945f38d405ebaf7b75026"
   },
   "outputs": [
    {
     "name": "stdout",
     "output_type": "stream",
     "text": [
      "(4683, 150)\n"
     ]
    },
    {
     "data": {
      "text/plain": [
       "array([[    0,     0,     0, ..., 20123, 20123, 20123],\n",
       "       [    0,     0,     0, ..., 20123, 20123, 20123],\n",
       "       [    0,     0,     0, ..., 20123,  4332, 20123],\n",
       "       ...,\n",
       "       [    0,     0,     0, ..., 20123,  4332, 20123],\n",
       "       [    0,     0,     0, ..., 20123,  4332, 20123],\n",
       "       [    0,     0,     0, ..., 20123,  4332, 20123]])"
      ]
     },
     "execution_count": 88,
     "metadata": {},
     "output_type": "execute_result"
    }
   ],
   "source": [
    "# Padding(pre) on one hot represented data\n",
    "\n",
    "from tensorflow.keras.preprocessing.sequence import pad_sequences\n",
    "\n",
    "sent_len=150\n",
    "padded_docs=pad_sequences(onehot_repr,padding='pre',maxlen=sent_len) # padding to equalize all doc/sentences' length\n",
    "\n",
    "print(padded_docs.shape)\n",
    "padded_docs"
   ]
  },
  {
   "cell_type": "code",
   "execution_count": 89,
   "metadata": {
    "id": "624cfa86314e4fe28336535bc76e656c"
   },
   "outputs": [
    {
     "name": "stdout",
     "output_type": "stream",
     "text": [
      "(4683, 150, 6)\n"
     ]
    },
    {
     "data": {
      "text/plain": [
       "array([[[-0.00040545,  0.02403778, -0.03885581,  0.01300088,\n",
       "          0.0103805 , -0.0232126 ],\n",
       "        [-0.00040545,  0.02403778, -0.03885581,  0.01300088,\n",
       "          0.0103805 , -0.0232126 ],\n",
       "        [-0.00040545,  0.02403778, -0.03885581,  0.01300088,\n",
       "          0.0103805 , -0.0232126 ],\n",
       "        ...,\n",
       "        [-0.04225326,  0.04087974,  0.04162425, -0.02582661,\n",
       "          0.03262893,  0.0095442 ],\n",
       "        [-0.04225326,  0.04087974,  0.04162425, -0.02582661,\n",
       "          0.03262893,  0.0095442 ],\n",
       "        [-0.04225326,  0.04087974,  0.04162425, -0.02582661,\n",
       "          0.03262893,  0.0095442 ]],\n",
       "\n",
       "       [[-0.00040545,  0.02403778, -0.03885581,  0.01300088,\n",
       "          0.0103805 , -0.0232126 ],\n",
       "        [-0.00040545,  0.02403778, -0.03885581,  0.01300088,\n",
       "          0.0103805 , -0.0232126 ],\n",
       "        [-0.00040545,  0.02403778, -0.03885581,  0.01300088,\n",
       "          0.0103805 , -0.0232126 ],\n",
       "        ...,\n",
       "        [-0.04225326,  0.04087974,  0.04162425, -0.02582661,\n",
       "          0.03262893,  0.0095442 ],\n",
       "        [-0.04225326,  0.04087974,  0.04162425, -0.02582661,\n",
       "          0.03262893,  0.0095442 ],\n",
       "        [-0.04225326,  0.04087974,  0.04162425, -0.02582661,\n",
       "          0.03262893,  0.0095442 ]],\n",
       "\n",
       "       [[-0.00040545,  0.02403778, -0.03885581,  0.01300088,\n",
       "          0.0103805 , -0.0232126 ],\n",
       "        [-0.00040545,  0.02403778, -0.03885581,  0.01300088,\n",
       "          0.0103805 , -0.0232126 ],\n",
       "        [-0.00040545,  0.02403778, -0.03885581,  0.01300088,\n",
       "          0.0103805 , -0.0232126 ],\n",
       "        ...,\n",
       "        [-0.04225326,  0.04087974,  0.04162425, -0.02582661,\n",
       "          0.03262893,  0.0095442 ],\n",
       "        [ 0.00735222, -0.0389481 ,  0.03536024, -0.04733112,\n",
       "         -0.03952561,  0.00187681],\n",
       "        [-0.04225326,  0.04087974,  0.04162425, -0.02582661,\n",
       "          0.03262893,  0.0095442 ]],\n",
       "\n",
       "       ...,\n",
       "\n",
       "       [[-0.00040545,  0.02403778, -0.03885581,  0.01300088,\n",
       "          0.0103805 , -0.0232126 ],\n",
       "        [-0.00040545,  0.02403778, -0.03885581,  0.01300088,\n",
       "          0.0103805 , -0.0232126 ],\n",
       "        [-0.00040545,  0.02403778, -0.03885581,  0.01300088,\n",
       "          0.0103805 , -0.0232126 ],\n",
       "        ...,\n",
       "        [-0.04225326,  0.04087974,  0.04162425, -0.02582661,\n",
       "          0.03262893,  0.0095442 ],\n",
       "        [ 0.00735222, -0.0389481 ,  0.03536024, -0.04733112,\n",
       "         -0.03952561,  0.00187681],\n",
       "        [-0.04225326,  0.04087974,  0.04162425, -0.02582661,\n",
       "          0.03262893,  0.0095442 ]],\n",
       "\n",
       "       [[-0.00040545,  0.02403778, -0.03885581,  0.01300088,\n",
       "          0.0103805 , -0.0232126 ],\n",
       "        [-0.00040545,  0.02403778, -0.03885581,  0.01300088,\n",
       "          0.0103805 , -0.0232126 ],\n",
       "        [-0.00040545,  0.02403778, -0.03885581,  0.01300088,\n",
       "          0.0103805 , -0.0232126 ],\n",
       "        ...,\n",
       "        [-0.04225326,  0.04087974,  0.04162425, -0.02582661,\n",
       "          0.03262893,  0.0095442 ],\n",
       "        [ 0.00735222, -0.0389481 ,  0.03536024, -0.04733112,\n",
       "         -0.03952561,  0.00187681],\n",
       "        [-0.04225326,  0.04087974,  0.04162425, -0.02582661,\n",
       "          0.03262893,  0.0095442 ]],\n",
       "\n",
       "       [[-0.00040545,  0.02403778, -0.03885581,  0.01300088,\n",
       "          0.0103805 , -0.0232126 ],\n",
       "        [-0.00040545,  0.02403778, -0.03885581,  0.01300088,\n",
       "          0.0103805 , -0.0232126 ],\n",
       "        [-0.00040545,  0.02403778, -0.03885581,  0.01300088,\n",
       "          0.0103805 , -0.0232126 ],\n",
       "        ...,\n",
       "        [-0.04225326,  0.04087974,  0.04162425, -0.02582661,\n",
       "          0.03262893,  0.0095442 ],\n",
       "        [ 0.00735222, -0.0389481 ,  0.03536024, -0.04733112,\n",
       "         -0.03952561,  0.00187681],\n",
       "        [-0.04225326,  0.04087974,  0.04162425, -0.02582661,\n",
       "          0.03262893,  0.0095442 ]]], dtype=float32)"
      ]
     },
     "execution_count": 89,
     "metadata": {},
     "output_type": "execute_result"
    }
   ],
   "source": [
    "# Just to see if embedding working fine on data and how it looks after embedding\n",
    "\n",
    "from tensorflow.keras.models import Sequential\n",
    "from tensorflow.keras.layers import Embedding,LSTM\n",
    "\n",
    "\n",
    "embedding_size=6\n",
    "model_embd=Sequential()\n",
    "model_embd.add(Embedding(input_dim=vocab_size,output_dim=embedding_size,input_length=sent_len))\n",
    "\n",
    "model_embd.compile(optimizer='adam',loss='categorical_crossentropy')\n",
    "\n",
    "embedded_docs=model_embd.predict(padded_docs)\n",
    "\n",
    "print(embedded_docs.shape)\n",
    "embedded_docs "
   ]
  },
  {
   "cell_type": "code",
   "execution_count": 90,
   "metadata": {
    "id": "4d38746358c5490c8bfa6f885bbd2d81"
   },
   "outputs": [
    {
     "name": "stdout",
     "output_type": "stream",
     "text": [
      "[    0     0     0     0     0     0     0     0     0     0     0     0\n",
      "     0     0     0     0     0     0     0     0     0     0     0     0\n",
      "     0     0     0     0     0     0     0     0     0     0     0     0\n",
      "     0     0     0     0     0     0     0     0     0     0     0     0\n",
      "     0     0     0     0     0     0     0     0     0     0     0     0\n",
      "     0     0     0     0     0     0     0     0     0     0     0     0\n",
      "     0     0     0     0     0     0     0     0     0     0     0     0\n",
      "     0     0     0     0     0     0     0     0     0     0     0     0\n",
      "     0     0     0     0     0     0     0     0     0     0     0     0\n",
      "     0     0     0     0     0     0     0     0     0     0     0     0\n",
      "     0     0 21796 34099  7265 28745 21796  4012 27089 29757 36286 40686\n",
      " 36286 47876 26708 42347  7265  2395 26350 46781 31863  5807 36958 44753\n",
      " 29366 27444 46715 20123 20123 20123]\n",
      "[[-4.05453146e-04  2.40377821e-02 -3.88558134e-02  1.30008794e-02\n",
      "   1.03804953e-02 -2.32126005e-02]\n",
      " [-4.05453146e-04  2.40377821e-02 -3.88558134e-02  1.30008794e-02\n",
      "   1.03804953e-02 -2.32126005e-02]\n",
      " [-4.05453146e-04  2.40377821e-02 -3.88558134e-02  1.30008794e-02\n",
      "   1.03804953e-02 -2.32126005e-02]\n",
      " [-4.05453146e-04  2.40377821e-02 -3.88558134e-02  1.30008794e-02\n",
      "   1.03804953e-02 -2.32126005e-02]\n",
      " [-4.05453146e-04  2.40377821e-02 -3.88558134e-02  1.30008794e-02\n",
      "   1.03804953e-02 -2.32126005e-02]\n",
      " [-4.05453146e-04  2.40377821e-02 -3.88558134e-02  1.30008794e-02\n",
      "   1.03804953e-02 -2.32126005e-02]\n",
      " [-4.05453146e-04  2.40377821e-02 -3.88558134e-02  1.30008794e-02\n",
      "   1.03804953e-02 -2.32126005e-02]\n",
      " [-4.05453146e-04  2.40377821e-02 -3.88558134e-02  1.30008794e-02\n",
      "   1.03804953e-02 -2.32126005e-02]\n",
      " [-4.05453146e-04  2.40377821e-02 -3.88558134e-02  1.30008794e-02\n",
      "   1.03804953e-02 -2.32126005e-02]\n",
      " [-4.05453146e-04  2.40377821e-02 -3.88558134e-02  1.30008794e-02\n",
      "   1.03804953e-02 -2.32126005e-02]\n",
      " [-4.05453146e-04  2.40377821e-02 -3.88558134e-02  1.30008794e-02\n",
      "   1.03804953e-02 -2.32126005e-02]\n",
      " [-4.05453146e-04  2.40377821e-02 -3.88558134e-02  1.30008794e-02\n",
      "   1.03804953e-02 -2.32126005e-02]\n",
      " [-4.05453146e-04  2.40377821e-02 -3.88558134e-02  1.30008794e-02\n",
      "   1.03804953e-02 -2.32126005e-02]\n",
      " [-4.05453146e-04  2.40377821e-02 -3.88558134e-02  1.30008794e-02\n",
      "   1.03804953e-02 -2.32126005e-02]\n",
      " [-4.05453146e-04  2.40377821e-02 -3.88558134e-02  1.30008794e-02\n",
      "   1.03804953e-02 -2.32126005e-02]\n",
      " [-4.05453146e-04  2.40377821e-02 -3.88558134e-02  1.30008794e-02\n",
      "   1.03804953e-02 -2.32126005e-02]\n",
      " [-4.05453146e-04  2.40377821e-02 -3.88558134e-02  1.30008794e-02\n",
      "   1.03804953e-02 -2.32126005e-02]\n",
      " [-4.05453146e-04  2.40377821e-02 -3.88558134e-02  1.30008794e-02\n",
      "   1.03804953e-02 -2.32126005e-02]\n",
      " [-4.05453146e-04  2.40377821e-02 -3.88558134e-02  1.30008794e-02\n",
      "   1.03804953e-02 -2.32126005e-02]\n",
      " [-4.05453146e-04  2.40377821e-02 -3.88558134e-02  1.30008794e-02\n",
      "   1.03804953e-02 -2.32126005e-02]\n",
      " [-4.05453146e-04  2.40377821e-02 -3.88558134e-02  1.30008794e-02\n",
      "   1.03804953e-02 -2.32126005e-02]\n",
      " [-4.05453146e-04  2.40377821e-02 -3.88558134e-02  1.30008794e-02\n",
      "   1.03804953e-02 -2.32126005e-02]\n",
      " [-4.05453146e-04  2.40377821e-02 -3.88558134e-02  1.30008794e-02\n",
      "   1.03804953e-02 -2.32126005e-02]\n",
      " [-4.05453146e-04  2.40377821e-02 -3.88558134e-02  1.30008794e-02\n",
      "   1.03804953e-02 -2.32126005e-02]\n",
      " [-4.05453146e-04  2.40377821e-02 -3.88558134e-02  1.30008794e-02\n",
      "   1.03804953e-02 -2.32126005e-02]\n",
      " [-4.05453146e-04  2.40377821e-02 -3.88558134e-02  1.30008794e-02\n",
      "   1.03804953e-02 -2.32126005e-02]\n",
      " [-4.05453146e-04  2.40377821e-02 -3.88558134e-02  1.30008794e-02\n",
      "   1.03804953e-02 -2.32126005e-02]\n",
      " [-4.05453146e-04  2.40377821e-02 -3.88558134e-02  1.30008794e-02\n",
      "   1.03804953e-02 -2.32126005e-02]\n",
      " [-4.05453146e-04  2.40377821e-02 -3.88558134e-02  1.30008794e-02\n",
      "   1.03804953e-02 -2.32126005e-02]\n",
      " [-4.05453146e-04  2.40377821e-02 -3.88558134e-02  1.30008794e-02\n",
      "   1.03804953e-02 -2.32126005e-02]\n",
      " [-4.05453146e-04  2.40377821e-02 -3.88558134e-02  1.30008794e-02\n",
      "   1.03804953e-02 -2.32126005e-02]\n",
      " [-4.05453146e-04  2.40377821e-02 -3.88558134e-02  1.30008794e-02\n",
      "   1.03804953e-02 -2.32126005e-02]\n",
      " [-4.05453146e-04  2.40377821e-02 -3.88558134e-02  1.30008794e-02\n",
      "   1.03804953e-02 -2.32126005e-02]\n",
      " [-4.05453146e-04  2.40377821e-02 -3.88558134e-02  1.30008794e-02\n",
      "   1.03804953e-02 -2.32126005e-02]\n",
      " [-4.05453146e-04  2.40377821e-02 -3.88558134e-02  1.30008794e-02\n",
      "   1.03804953e-02 -2.32126005e-02]\n",
      " [-4.05453146e-04  2.40377821e-02 -3.88558134e-02  1.30008794e-02\n",
      "   1.03804953e-02 -2.32126005e-02]\n",
      " [-4.05453146e-04  2.40377821e-02 -3.88558134e-02  1.30008794e-02\n",
      "   1.03804953e-02 -2.32126005e-02]\n",
      " [-4.05453146e-04  2.40377821e-02 -3.88558134e-02  1.30008794e-02\n",
      "   1.03804953e-02 -2.32126005e-02]\n",
      " [-4.05453146e-04  2.40377821e-02 -3.88558134e-02  1.30008794e-02\n",
      "   1.03804953e-02 -2.32126005e-02]\n",
      " [-4.05453146e-04  2.40377821e-02 -3.88558134e-02  1.30008794e-02\n",
      "   1.03804953e-02 -2.32126005e-02]\n",
      " [-4.05453146e-04  2.40377821e-02 -3.88558134e-02  1.30008794e-02\n",
      "   1.03804953e-02 -2.32126005e-02]\n",
      " [-4.05453146e-04  2.40377821e-02 -3.88558134e-02  1.30008794e-02\n",
      "   1.03804953e-02 -2.32126005e-02]\n",
      " [-4.05453146e-04  2.40377821e-02 -3.88558134e-02  1.30008794e-02\n",
      "   1.03804953e-02 -2.32126005e-02]\n",
      " [-4.05453146e-04  2.40377821e-02 -3.88558134e-02  1.30008794e-02\n",
      "   1.03804953e-02 -2.32126005e-02]\n",
      " [-4.05453146e-04  2.40377821e-02 -3.88558134e-02  1.30008794e-02\n",
      "   1.03804953e-02 -2.32126005e-02]\n",
      " [-4.05453146e-04  2.40377821e-02 -3.88558134e-02  1.30008794e-02\n",
      "   1.03804953e-02 -2.32126005e-02]\n",
      " [-4.05453146e-04  2.40377821e-02 -3.88558134e-02  1.30008794e-02\n",
      "   1.03804953e-02 -2.32126005e-02]\n",
      " [-4.05453146e-04  2.40377821e-02 -3.88558134e-02  1.30008794e-02\n",
      "   1.03804953e-02 -2.32126005e-02]\n",
      " [-4.05453146e-04  2.40377821e-02 -3.88558134e-02  1.30008794e-02\n",
      "   1.03804953e-02 -2.32126005e-02]\n",
      " [-4.05453146e-04  2.40377821e-02 -3.88558134e-02  1.30008794e-02\n",
      "   1.03804953e-02 -2.32126005e-02]\n",
      " [-4.05453146e-04  2.40377821e-02 -3.88558134e-02  1.30008794e-02\n",
      "   1.03804953e-02 -2.32126005e-02]\n",
      " [-4.05453146e-04  2.40377821e-02 -3.88558134e-02  1.30008794e-02\n",
      "   1.03804953e-02 -2.32126005e-02]\n",
      " [-4.05453146e-04  2.40377821e-02 -3.88558134e-02  1.30008794e-02\n",
      "   1.03804953e-02 -2.32126005e-02]\n",
      " [-4.05453146e-04  2.40377821e-02 -3.88558134e-02  1.30008794e-02\n",
      "   1.03804953e-02 -2.32126005e-02]\n",
      " [-4.05453146e-04  2.40377821e-02 -3.88558134e-02  1.30008794e-02\n",
      "   1.03804953e-02 -2.32126005e-02]\n",
      " [-4.05453146e-04  2.40377821e-02 -3.88558134e-02  1.30008794e-02\n",
      "   1.03804953e-02 -2.32126005e-02]\n",
      " [-4.05453146e-04  2.40377821e-02 -3.88558134e-02  1.30008794e-02\n",
      "   1.03804953e-02 -2.32126005e-02]\n",
      " [-4.05453146e-04  2.40377821e-02 -3.88558134e-02  1.30008794e-02\n",
      "   1.03804953e-02 -2.32126005e-02]\n",
      " [-4.05453146e-04  2.40377821e-02 -3.88558134e-02  1.30008794e-02\n",
      "   1.03804953e-02 -2.32126005e-02]\n",
      " [-4.05453146e-04  2.40377821e-02 -3.88558134e-02  1.30008794e-02\n",
      "   1.03804953e-02 -2.32126005e-02]\n",
      " [-4.05453146e-04  2.40377821e-02 -3.88558134e-02  1.30008794e-02\n",
      "   1.03804953e-02 -2.32126005e-02]\n",
      " [-4.05453146e-04  2.40377821e-02 -3.88558134e-02  1.30008794e-02\n",
      "   1.03804953e-02 -2.32126005e-02]\n",
      " [-4.05453146e-04  2.40377821e-02 -3.88558134e-02  1.30008794e-02\n",
      "   1.03804953e-02 -2.32126005e-02]\n",
      " [-4.05453146e-04  2.40377821e-02 -3.88558134e-02  1.30008794e-02\n",
      "   1.03804953e-02 -2.32126005e-02]\n",
      " [-4.05453146e-04  2.40377821e-02 -3.88558134e-02  1.30008794e-02\n",
      "   1.03804953e-02 -2.32126005e-02]\n",
      " [-4.05453146e-04  2.40377821e-02 -3.88558134e-02  1.30008794e-02\n",
      "   1.03804953e-02 -2.32126005e-02]\n",
      " [-4.05453146e-04  2.40377821e-02 -3.88558134e-02  1.30008794e-02\n",
      "   1.03804953e-02 -2.32126005e-02]\n",
      " [-4.05453146e-04  2.40377821e-02 -3.88558134e-02  1.30008794e-02\n",
      "   1.03804953e-02 -2.32126005e-02]\n",
      " [-4.05453146e-04  2.40377821e-02 -3.88558134e-02  1.30008794e-02\n",
      "   1.03804953e-02 -2.32126005e-02]\n",
      " [-4.05453146e-04  2.40377821e-02 -3.88558134e-02  1.30008794e-02\n",
      "   1.03804953e-02 -2.32126005e-02]\n",
      " [-4.05453146e-04  2.40377821e-02 -3.88558134e-02  1.30008794e-02\n",
      "   1.03804953e-02 -2.32126005e-02]\n",
      " [-4.05453146e-04  2.40377821e-02 -3.88558134e-02  1.30008794e-02\n",
      "   1.03804953e-02 -2.32126005e-02]\n",
      " [-4.05453146e-04  2.40377821e-02 -3.88558134e-02  1.30008794e-02\n",
      "   1.03804953e-02 -2.32126005e-02]\n",
      " [-4.05453146e-04  2.40377821e-02 -3.88558134e-02  1.30008794e-02\n",
      "   1.03804953e-02 -2.32126005e-02]\n",
      " [-4.05453146e-04  2.40377821e-02 -3.88558134e-02  1.30008794e-02\n",
      "   1.03804953e-02 -2.32126005e-02]\n",
      " [-4.05453146e-04  2.40377821e-02 -3.88558134e-02  1.30008794e-02\n",
      "   1.03804953e-02 -2.32126005e-02]\n",
      " [-4.05453146e-04  2.40377821e-02 -3.88558134e-02  1.30008794e-02\n",
      "   1.03804953e-02 -2.32126005e-02]\n",
      " [-4.05453146e-04  2.40377821e-02 -3.88558134e-02  1.30008794e-02\n",
      "   1.03804953e-02 -2.32126005e-02]\n",
      " [-4.05453146e-04  2.40377821e-02 -3.88558134e-02  1.30008794e-02\n",
      "   1.03804953e-02 -2.32126005e-02]\n",
      " [-4.05453146e-04  2.40377821e-02 -3.88558134e-02  1.30008794e-02\n",
      "   1.03804953e-02 -2.32126005e-02]\n",
      " [-4.05453146e-04  2.40377821e-02 -3.88558134e-02  1.30008794e-02\n",
      "   1.03804953e-02 -2.32126005e-02]\n",
      " [-4.05453146e-04  2.40377821e-02 -3.88558134e-02  1.30008794e-02\n",
      "   1.03804953e-02 -2.32126005e-02]\n",
      " [-4.05453146e-04  2.40377821e-02 -3.88558134e-02  1.30008794e-02\n",
      "   1.03804953e-02 -2.32126005e-02]\n",
      " [-4.05453146e-04  2.40377821e-02 -3.88558134e-02  1.30008794e-02\n",
      "   1.03804953e-02 -2.32126005e-02]\n",
      " [-4.05453146e-04  2.40377821e-02 -3.88558134e-02  1.30008794e-02\n",
      "   1.03804953e-02 -2.32126005e-02]\n",
      " [-4.05453146e-04  2.40377821e-02 -3.88558134e-02  1.30008794e-02\n",
      "   1.03804953e-02 -2.32126005e-02]\n",
      " [-4.05453146e-04  2.40377821e-02 -3.88558134e-02  1.30008794e-02\n",
      "   1.03804953e-02 -2.32126005e-02]\n",
      " [-4.05453146e-04  2.40377821e-02 -3.88558134e-02  1.30008794e-02\n",
      "   1.03804953e-02 -2.32126005e-02]\n",
      " [-4.05453146e-04  2.40377821e-02 -3.88558134e-02  1.30008794e-02\n",
      "   1.03804953e-02 -2.32126005e-02]\n",
      " [-4.05453146e-04  2.40377821e-02 -3.88558134e-02  1.30008794e-02\n",
      "   1.03804953e-02 -2.32126005e-02]\n",
      " [-4.05453146e-04  2.40377821e-02 -3.88558134e-02  1.30008794e-02\n",
      "   1.03804953e-02 -2.32126005e-02]\n",
      " [-4.05453146e-04  2.40377821e-02 -3.88558134e-02  1.30008794e-02\n",
      "   1.03804953e-02 -2.32126005e-02]\n",
      " [-4.05453146e-04  2.40377821e-02 -3.88558134e-02  1.30008794e-02\n",
      "   1.03804953e-02 -2.32126005e-02]\n",
      " [-4.05453146e-04  2.40377821e-02 -3.88558134e-02  1.30008794e-02\n",
      "   1.03804953e-02 -2.32126005e-02]\n",
      " [-4.05453146e-04  2.40377821e-02 -3.88558134e-02  1.30008794e-02\n",
      "   1.03804953e-02 -2.32126005e-02]\n",
      " [-4.05453146e-04  2.40377821e-02 -3.88558134e-02  1.30008794e-02\n",
      "   1.03804953e-02 -2.32126005e-02]\n",
      " [-4.05453146e-04  2.40377821e-02 -3.88558134e-02  1.30008794e-02\n",
      "   1.03804953e-02 -2.32126005e-02]\n",
      " [-4.05453146e-04  2.40377821e-02 -3.88558134e-02  1.30008794e-02\n",
      "   1.03804953e-02 -2.32126005e-02]\n",
      " [-4.05453146e-04  2.40377821e-02 -3.88558134e-02  1.30008794e-02\n",
      "   1.03804953e-02 -2.32126005e-02]\n",
      " [-4.05453146e-04  2.40377821e-02 -3.88558134e-02  1.30008794e-02\n",
      "   1.03804953e-02 -2.32126005e-02]\n",
      " [-4.05453146e-04  2.40377821e-02 -3.88558134e-02  1.30008794e-02\n",
      "   1.03804953e-02 -2.32126005e-02]\n",
      " [-4.05453146e-04  2.40377821e-02 -3.88558134e-02  1.30008794e-02\n",
      "   1.03804953e-02 -2.32126005e-02]\n",
      " [-4.05453146e-04  2.40377821e-02 -3.88558134e-02  1.30008794e-02\n",
      "   1.03804953e-02 -2.32126005e-02]\n",
      " [-4.05453146e-04  2.40377821e-02 -3.88558134e-02  1.30008794e-02\n",
      "   1.03804953e-02 -2.32126005e-02]\n",
      " [-4.05453146e-04  2.40377821e-02 -3.88558134e-02  1.30008794e-02\n",
      "   1.03804953e-02 -2.32126005e-02]\n",
      " [-4.05453146e-04  2.40377821e-02 -3.88558134e-02  1.30008794e-02\n",
      "   1.03804953e-02 -2.32126005e-02]\n",
      " [-4.05453146e-04  2.40377821e-02 -3.88558134e-02  1.30008794e-02\n",
      "   1.03804953e-02 -2.32126005e-02]\n",
      " [-4.05453146e-04  2.40377821e-02 -3.88558134e-02  1.30008794e-02\n",
      "   1.03804953e-02 -2.32126005e-02]\n",
      " [-4.05453146e-04  2.40377821e-02 -3.88558134e-02  1.30008794e-02\n",
      "   1.03804953e-02 -2.32126005e-02]\n",
      " [-4.05453146e-04  2.40377821e-02 -3.88558134e-02  1.30008794e-02\n",
      "   1.03804953e-02 -2.32126005e-02]\n",
      " [-4.05453146e-04  2.40377821e-02 -3.88558134e-02  1.30008794e-02\n",
      "   1.03804953e-02 -2.32126005e-02]\n",
      " [-4.05453146e-04  2.40377821e-02 -3.88558134e-02  1.30008794e-02\n",
      "   1.03804953e-02 -2.32126005e-02]\n",
      " [-4.05453146e-04  2.40377821e-02 -3.88558134e-02  1.30008794e-02\n",
      "   1.03804953e-02 -2.32126005e-02]\n",
      " [-4.05453146e-04  2.40377821e-02 -3.88558134e-02  1.30008794e-02\n",
      "   1.03804953e-02 -2.32126005e-02]\n",
      " [-4.05453146e-04  2.40377821e-02 -3.88558134e-02  1.30008794e-02\n",
      "   1.03804953e-02 -2.32126005e-02]\n",
      " [-4.05453146e-04  2.40377821e-02 -3.88558134e-02  1.30008794e-02\n",
      "   1.03804953e-02 -2.32126005e-02]\n",
      " [-4.05453146e-04  2.40377821e-02 -3.88558134e-02  1.30008794e-02\n",
      "   1.03804953e-02 -2.32126005e-02]\n",
      " [-4.05453146e-04  2.40377821e-02 -3.88558134e-02  1.30008794e-02\n",
      "   1.03804953e-02 -2.32126005e-02]\n",
      " [-4.05453146e-04  2.40377821e-02 -3.88558134e-02  1.30008794e-02\n",
      "   1.03804953e-02 -2.32126005e-02]\n",
      " [-4.05453146e-04  2.40377821e-02 -3.88558134e-02  1.30008794e-02\n",
      "   1.03804953e-02 -2.32126005e-02]\n",
      " [-4.05453146e-04  2.40377821e-02 -3.88558134e-02  1.30008794e-02\n",
      "   1.03804953e-02 -2.32126005e-02]\n",
      " [-4.05453146e-04  2.40377821e-02 -3.88558134e-02  1.30008794e-02\n",
      "   1.03804953e-02 -2.32126005e-02]\n",
      " [-1.27788074e-02  4.15150784e-02 -1.21486410e-02 -3.71713564e-03\n",
      "  -3.23202610e-02 -4.68350165e-02]\n",
      " [-4.92379926e-02 -3.12845260e-02  1.32353045e-02 -9.90631431e-03\n",
      "   4.21980768e-03  3.92479934e-02]\n",
      " [-1.14632025e-02  4.07045744e-02  1.79887153e-02 -2.22757217e-02\n",
      "  -6.24654442e-03 -7.60216638e-03]\n",
      " [-3.43847387e-02 -3.00734174e-02 -2.96653509e-02 -2.39916090e-02\n",
      "  -4.76816669e-02  3.75855081e-02]\n",
      " [-1.27788074e-02  4.15150784e-02 -1.21486410e-02 -3.71713564e-03\n",
      "  -3.23202610e-02 -4.68350165e-02]\n",
      " [-9.01643187e-03 -3.91161069e-02 -1.40880570e-02 -3.49460728e-02\n",
      "   2.43964829e-02 -2.96651199e-03]\n",
      " [-4.86930273e-02 -3.04386746e-02  3.60338762e-03  2.24911906e-02\n",
      "  -4.05534394e-02  3.95184867e-02]\n",
      " [-1.70073397e-02 -2.80232914e-02  1.75927952e-03  2.23773830e-02\n",
      "  -7.53519684e-03 -2.70909071e-03]\n",
      " [ 4.42305915e-02  4.51777466e-02  6.61653280e-03  1.83611549e-02\n",
      "   2.31390111e-02 -1.12335794e-02]\n",
      " [ 8.26857984e-04  2.72711366e-03  1.20572336e-02  1.63282491e-02\n",
      "   2.23094858e-02  4.89254110e-02]\n",
      " [ 4.42305915e-02  4.51777466e-02  6.61653280e-03  1.83611549e-02\n",
      "   2.31390111e-02 -1.12335794e-02]\n",
      " [-1.46120079e-02 -3.85791063e-03 -1.04046986e-03 -2.17088219e-02\n",
      "   1.26046650e-02 -4.51779030e-02]\n",
      " [-3.39597613e-02  3.06321420e-02  3.91653813e-02 -2.67118700e-02\n",
      "  -5.37171215e-03 -4.88835238e-02]\n",
      " [-4.77619059e-02  2.27992050e-02 -2.91550513e-02 -4.94746827e-02\n",
      "   2.86894552e-02 -2.11423282e-02]\n",
      " [-1.14632025e-02  4.07045744e-02  1.79887153e-02 -2.22757217e-02\n",
      "  -6.24654442e-03 -7.60216638e-03]\n",
      " [ 2.84660123e-02  8.62402841e-03  3.00870053e-02 -7.10319728e-04\n",
      "   4.49093245e-02 -1.14797838e-02]\n",
      " [-4.43867445e-02  1.13211758e-02 -4.02566567e-02 -4.42751050e-02\n",
      "  -3.36348303e-02  3.12486030e-02]\n",
      " [ 2.89713480e-02  4.56288941e-02 -2.22484823e-02  4.59134094e-02\n",
      "   4.14869674e-02  2.99699605e-05]\n",
      " [-3.68719697e-02  9.96310636e-03  1.48624666e-02 -3.36688384e-02\n",
      "  -4.87231500e-02  1.80965103e-02]\n",
      " [-1.88899171e-02  4.70190160e-02  3.95422913e-02 -4.44760434e-02\n",
      "   3.50641124e-02  1.03760138e-02]\n",
      " [ 3.27231400e-02 -2.80902516e-02 -3.25837508e-02  8.75093043e-04\n",
      "   7.05782324e-03 -4.69680913e-02]\n",
      " [-4.15706411e-02 -1.45315006e-03 -8.06183740e-03 -2.32533813e-02\n",
      "   2.51818784e-02  1.81337260e-02]\n",
      " [-1.13248825e-06  3.03481333e-02  3.93927805e-02  6.42977655e-04\n",
      "   6.27769157e-03  2.58751176e-02]\n",
      " [ 2.14177035e-02 -3.03000566e-02 -2.95173004e-03  2.37139575e-02\n",
      "   2.79271342e-02  3.45532782e-02]\n",
      " [-2.95742601e-03 -4.92992401e-02 -4.34037820e-02  2.50370391e-02\n",
      "   4.17477377e-02 -6.18373230e-03]\n",
      " [-4.22532558e-02  4.08797376e-02  4.16242518e-02 -2.58266088e-02\n",
      "   3.26289274e-02  9.54420492e-03]\n",
      " [-4.22532558e-02  4.08797376e-02  4.16242518e-02 -2.58266088e-02\n",
      "   3.26289274e-02  9.54420492e-03]\n",
      " [-4.22532558e-02  4.08797376e-02  4.16242518e-02 -2.58266088e-02\n",
      "   3.26289274e-02  9.54420492e-03]]\n"
     ]
    }
   ],
   "source": [
    "print(padded_docs[0])\n",
    "print(embedded_docs[0])"
   ]
  },
  {
   "cell_type": "code",
   "execution_count": 91,
   "metadata": {
    "id": "e97b66b0978e407b87302a55b687a576"
   },
   "outputs": [
    {
     "name": "stdout",
     "output_type": "stream",
     "text": [
      "(3746, 150) (3746,)\n",
      "(937, 150) (937,)\n"
     ]
    },
    {
     "name": "stderr",
     "output_type": "stream",
     "text": [
      "C:\\Users\\KrishnenduGhorui\\Anaconda3\\lib\\site-packages\\seaborn\\_decorators.py:36: FutureWarning: Pass the following variable as a keyword arg: x. From version 0.12, the only valid positional argument will be `data`, and passing other arguments without an explicit keyword will result in an error or misinterpretation.\n",
      "  warnings.warn(\n"
     ]
    },
    {
     "data": {
      "text/plain": [
       "Text(0.5, 0, 'Assignee')"
      ]
     },
     "execution_count": 91,
     "metadata": {},
     "output_type": "execute_result"
    },
    {
     "data": {
      "image/png": "[encoded data removed]",
      "text/plain": [
       "<Figure size 432x288 with 1 Axes>"
      ]
     },
     "metadata": {
      "needs_background": "light"
     },
     "output_type": "display_data"
    }
   ],
   "source": [
    "# Train test split of padded data \n",
    "\n",
    "X_finalL=np.array(padded_docs)\n",
    "Y_finalL=np.array(Y)\n",
    "\n",
    "\n",
    "x_trainL,x_testL,y_trainL,y_testL=train_test_split(X_finalL,Y_finalL,train_size=0.8,random_state=42)\n",
    "\n",
    "print(x_trainL.shape,y_trainL.shape)\n",
    "print(x_testL.shape,y_testL.shape)\n",
    "\n",
    "sns.countplot(y_trainL)\n",
    "plt.title('Countplot of target data(Assignee)')\n",
    "plt.xlabel('Assignee')"
   ]
  },
  {
   "cell_type": "markdown",
   "metadata": {
    "id": "008e3e69523140a0af80d34c7d1e3c90"
   },
   "source": [
    "##### From above countplot, it is clear that data is imbalanced, to oversampling to be performed"
   ]
  },
  {
   "cell_type": "code",
   "execution_count": 92,
   "metadata": {
    "id": "d7b5c17110544e1a841122ccc4dd453c"
   },
   "outputs": [
    {
     "name": "stdout",
     "output_type": "stream",
     "text": [
      "(13078, 150) (13078,)\n"
     ]
    },
    {
     "name": "stderr",
     "output_type": "stream",
     "text": [
      "C:\\Users\\KrishnenduGhorui\\Anaconda3\\lib\\site-packages\\seaborn\\_decorators.py:36: FutureWarning: Pass the following variable as a keyword arg: x. From version 0.12, the only valid positional argument will be `data`, and passing other arguments without an explicit keyword will result in an error or misinterpretation.\n",
      "  warnings.warn(\n"
     ]
    },
    {
     "data": {
      "text/plain": [
       "Text(0.5, 0, 'Assignee')"
      ]
     },
     "execution_count": 92,
     "metadata": {},
     "output_type": "execute_result"
    },
    {
     "data": {
      "image/png": "[encoded data removed]",
      "text/plain": [
       "<Figure size 432x288 with 1 Axes>"
      ]
     },
     "metadata": {
      "needs_background": "light"
     },
     "output_type": "display_data"
    }
   ],
   "source": [
    "smt_LSTM=SMOTE(random_state=42)\n",
    "x_trainL_res,y_trainL_res=smt_LSTM.fit_resample(x_trainL,y_trainL)\n",
    "\n",
    "print(x_trainL_res.shape,y_trainL_res.shape)\n",
    "sns.countplot(y_trainL_res)\n",
    "plt.title('Countplot of target data(Assignee) after oversamling')\n",
    "plt.xlabel('Assignee')"
   ]
  },
  {
   "cell_type": "code",
   "execution_count": 93,
   "metadata": {
    "id": "52c9709903a44967896455b61cbb4fd8"
   },
   "outputs": [
    {
     "data": {
      "text/plain": [
       "array([ 2,  3,  5,  1,  8,  7,  9,  6,  4, 12, 11,  0, 10], dtype=int64)"
      ]
     },
     "execution_count": 93,
     "metadata": {},
     "output_type": "execute_result"
    }
   ],
   "source": [
    "pd.Series(y_trainL_res).unique()"
   ]
  },
  {
   "cell_type": "markdown",
   "metadata": {},
   "source": [
    "#### LSTM"
   ]
  },
  {
   "cell_type": "code",
   "execution_count": 94,
   "metadata": {
    "id": "fdbfcfebcd7b4c059dbb6f658e22ebd4"
   },
   "outputs": [
    {
     "name": "stdout",
     "output_type": "stream",
     "text": [
      "Model: \"sequential_1\"\n",
      "_________________________________________________________________\n",
      " Layer (type)                Output Shape              Param #   \n",
      "=================================================================\n",
      " embedding_1 (Embedding)     (None, 150, 6)            300000    \n",
      "                                                                 \n",
      " lstm (LSTM)                 (None, 100)               42800     \n",
      "                                                                 \n",
      " dense (Dense)               (None, 1)                 101       \n",
      "                                                                 \n",
      "=================================================================\n",
      "Total params: 342,901\n",
      "Trainable params: 342,901\n",
      "Non-trainable params: 0\n",
      "_________________________________________________________________\n",
      "None\n"
     ]
    }
   ],
   "source": [
    "# Creating Deep learning model by embedding ,LSTM, Dense layer\n",
    "\n",
    "from tensorflow.keras.models import Sequential\n",
    "from tensorflow.keras.layers import Embedding,LSTM,Dense\n",
    "model_LSTM_prdctAssgne=Sequential()\n",
    "model_LSTM_prdctAssgne.add(Embedding(input_dim=vocab_size,output_dim=embedding_size,input_length=sent_len))\n",
    "model_LSTM_prdctAssgne.add(LSTM(100))\n",
    "model_LSTM_prdctAssgne.add(Dense(units=1,activation='softmax'))\n",
    "\n",
    "\n",
    "model_LSTM_prdctAssgne.compile(optimizer='adam',loss='categorical_crossentropy',metrics=['accuracy'])\n",
    "\n",
    "print(model_LSTM_prdctAssgne.summary())"
   ]
  },
  {
   "cell_type": "code",
   "execution_count": 95,
   "metadata": {
    "id": "2d9ad1381c4044ae870c47eb806bb5ff"
   },
   "outputs": [
    {
     "name": "stdout",
     "output_type": "stream",
     "text": [
      "Epoch 1/10\n",
      "14/14 [==============================] - 28s 2s/step - loss: 0.0000e+00 - accuracy: 0.0769 - val_loss: 0.0000e+00 - val_accuracy: 0.2273\n",
      "Epoch 2/10\n",
      "14/14 [==============================] - 23s 2s/step - loss: 0.0000e+00 - accuracy: 0.0769 - val_loss: 0.0000e+00 - val_accuracy: 0.2273\n",
      "Epoch 3/10\n",
      "14/14 [==============================] - 22s 2s/step - loss: 0.0000e+00 - accuracy: 0.0769 - val_loss: 0.0000e+00 - val_accuracy: 0.2273\n",
      "Epoch 4/10\n",
      "14/14 [==============================] - 23s 2s/step - loss: 0.0000e+00 - accuracy: 0.0769 - val_loss: 0.0000e+00 - val_accuracy: 0.2273\n",
      "Epoch 5/10\n",
      "14/14 [==============================] - 23s 2s/step - loss: 0.0000e+00 - accuracy: 0.0769 - val_loss: 0.0000e+00 - val_accuracy: 0.2273\n",
      "Epoch 6/10\n",
      "14/14 [==============================] - 23s 2s/step - loss: 0.0000e+00 - accuracy: 0.0769 - val_loss: 0.0000e+00 - val_accuracy: 0.2273\n",
      "Epoch 7/10\n",
      "14/14 [==============================] - 23s 2s/step - loss: 0.0000e+00 - accuracy: 0.0769 - val_loss: 0.0000e+00 - val_accuracy: 0.2273\n",
      "Epoch 8/10\n",
      "14/14 [==============================] - 23s 2s/step - loss: 0.0000e+00 - accuracy: 0.0769 - val_loss: 0.0000e+00 - val_accuracy: 0.2273\n",
      "Epoch 9/10\n",
      "14/14 [==============================] - 23s 2s/step - loss: 0.0000e+00 - accuracy: 0.0769 - val_loss: 0.0000e+00 - val_accuracy: 0.2273\n",
      "Epoch 10/10\n",
      "14/14 [==============================] - 25s 2s/step - loss: 0.0000e+00 - accuracy: 0.0769 - val_loss: 0.0000e+00 - val_accuracy: 0.2273\n"
     ]
    },
    {
     "data": {
      "text/plain": [
       "<keras.callbacks.History at 0x1dea7c6ca60>"
      ]
     },
     "execution_count": 95,
     "metadata": {},
     "output_type": "execute_result"
    }
   ],
   "source": [
    "# Traning sequential model \n",
    "\n",
    "model_LSTM_prdctAssgne.fit(x_trainL_res,y_trainL_res,epochs=10,batch_size=1000,validation_data=(x_testL,y_testL))"
   ]
  },
  {
   "cell_type": "code",
   "execution_count": 96,
   "metadata": {
    "id": "7b90758fd0ff4a619722615eceb2ddd8"
   },
   "outputs": [],
   "source": [
    "y_predL=model_LSTM_prdctAssgne.predict(x_testL)"
   ]
  },
  {
   "cell_type": "code",
   "execution_count": 97,
   "metadata": {
    "id": "cf0c5765a7a644c2899ce4336aadfbed"
   },
   "outputs": [
    {
     "name": "stdout",
     "output_type": "stream",
     "text": [
      "              precision    recall  f1-score   support\n",
      "\n",
      "           0       0.00      0.00      0.00         3\n",
      "           1       0.23      1.00      0.37       213\n",
      "           2       0.00      0.00      0.00       214\n",
      "           3       0.00      0.00      0.00       169\n",
      "           4       0.00      0.00      0.00        14\n",
      "           5       0.00      0.00      0.00       234\n",
      "           6       0.00      0.00      0.00        11\n",
      "           7       0.00      0.00      0.00        28\n",
      "           8       0.00      0.00      0.00         9\n",
      "           9       0.00      0.00      0.00        29\n",
      "          10       0.00      0.00      0.00         7\n",
      "          11       0.00      0.00      0.00         2\n",
      "          12       0.00      0.00      0.00         4\n",
      "\n",
      "    accuracy                           0.23       937\n",
      "   macro avg       0.02      0.08      0.03       937\n",
      "weighted avg       0.05      0.23      0.08       937\n",
      "\n"
     ]
    },
    {
     "name": "stderr",
     "output_type": "stream",
     "text": [
      "C:\\Users\\KrishnenduGhorui\\Anaconda3\\lib\\site-packages\\sklearn\\metrics\\_classification.py:1318: UndefinedMetricWarning: Precision and F-score are ill-defined and being set to 0.0 in labels with no predicted samples. Use `zero_division` parameter to control this behavior.\n",
      "  _warn_prf(average, modifier, msg_start, len(result))\n",
      "C:\\Users\\KrishnenduGhorui\\Anaconda3\\lib\\site-packages\\sklearn\\metrics\\_classification.py:1318: UndefinedMetricWarning: Precision and F-score are ill-defined and being set to 0.0 in labels with no predicted samples. Use `zero_division` parameter to control this behavior.\n",
      "  _warn_prf(average, modifier, msg_start, len(result))\n",
      "C:\\Users\\KrishnenduGhorui\\Anaconda3\\lib\\site-packages\\sklearn\\metrics\\_classification.py:1318: UndefinedMetricWarning: Precision and F-score are ill-defined and being set to 0.0 in labels with no predicted samples. Use `zero_division` parameter to control this behavior.\n",
      "  _warn_prf(average, modifier, msg_start, len(result))\n"
     ]
    },
    {
     "data": {
      "text/plain": [
       "Text(0.5, 1.0, 'Confusion matrix normalized by original target value-Deep learning model(LSTM)-Assignee prediction')"
      ]
     },
     "execution_count": 97,
     "metadata": {},
     "output_type": "execute_result"
    },
    {
     "data": {
      "image/png": "[encoded data removed]",
      "text/plain": [
       "<Figure size 576x576 with 2 Axes>"
      ]
     },
     "metadata": {
      "needs_background": "light"
     },
     "output_type": "display_data"
    }
   ],
   "source": [
    "# Model performance evluation \n",
    "\n",
    "print(classification_report(y_testL,y_predL))\n",
    "plt.figure(figsize=(8,8))\n",
    "sns.heatmap(confusion_matrix(y_testL,y_predL,normalize='true'),annot=True)\n",
    "plt.title('Confusion matrix normalized by original target value-Deep learning model(LSTM)-Assignee prediction')"
   ]
  },
  {
   "cell_type": "markdown",
   "metadata": {
    "id": "92b50ada07674460873d88267dd880aa"
   },
   "source": [
    "##### So, Random Forest classifier model giving higher accuracy, so tha will be used for deployment"
   ]
  },
  {
   "cell_type": "markdown",
   "metadata": {},
   "source": [
    "##### Dumping object to pickle for deployment purpose "
   ]
  },
  {
   "cell_type": "code",
   "execution_count": 98,
   "metadata": {},
   "outputs": [],
   "source": [
    "import pickle \n",
    "\n",
    "pickle.dump(model_rfc,open('model_rfc.pkl','wb'))\n",
    "pickle.dump(model_mnb,open('model_mnb.pkl','wb'))\n",
    "pickle.dump(le_Label,open('le_Label.pkl','wb'))\n",
    "pickle.dump(le_Component,open('le_Component.pkl','wb'))\n",
    "pickle.dump(vect_tfidf,open('vect_tfidf.pkl','wb'))"
   ]
  },
  {
   "cell_type": "code",
   "execution_count": null,
   "metadata": {
    "id": "cf1b4f39cce0455b842f61990aadbf47"
   },
   "outputs": [],
   "source": []
  }
 ],
 "metadata": {
  "colab": {
   "name": "Model_prdctAttrbtTckt.ipynb",
   "provenance": []
  },
  "kernelspec": {
   "display_name": "Python 3 (ipykernel)",
   "language": "python",
   "name": "python3"
  },
  "language_info": {
   "codemirror_mode": {
    "name": "ipython",
    "version": 3
   },
   "file_extension": ".py",
   "mimetype": "text/x-python",
   "name": "python",
   "nbconvert_exporter": "python",
   "pygments_lexer": "ipython3",
   "version": "3.9.7"
  }
 },
 "nbformat": 4,
 "nbformat_minor": 1
}
